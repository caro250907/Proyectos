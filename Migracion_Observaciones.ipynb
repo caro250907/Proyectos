{
  "nbformat": 4,
  "nbformat_minor": 0,
  "metadata": {
    "colab": {
      "name": "Migracion_Observaciones.ipynb",
      "provenance": [],
      "collapsed_sections": []
    },
    "kernelspec": {
      "name": "python3",
      "display_name": "Python 3"
    }
  },
  "cells": [
    {
      "cell_type": "markdown",
      "metadata": {
        "id": "vpox9niPzlNk",
        "colab_type": "text"
      },
      "source": [
        "**1. Importo las librerías necesarias**"
      ]
    },
    {
      "cell_type": "code",
      "metadata": {
        "id": "TcLffOG6xYON",
        "colab_type": "code",
        "colab": {}
      },
      "source": [
        "from google.colab import files\n",
        "import io\n",
        "import ast\n",
        "import pandas as pd\n",
        "import re\n",
        "import datetime\n",
        "from google.colab import files"
      ],
      "execution_count": null,
      "outputs": []
    },
    {
      "cell_type": "code",
      "metadata": {
        "id": "UJO7MmbA14GD",
        "colab_type": "code",
        "colab": {}
      },
      "source": [
        ""
      ],
      "execution_count": null,
      "outputs": []
    },
    {
      "cell_type": "markdown",
      "metadata": {
        "id": "LgWGH8sazsSO",
        "colab_type": "text"
      },
      "source": [
        "**2. Cargar el archivo de Observaciones**"
      ]
    },
    {
      "cell_type": "code",
      "metadata": {
        "id": "3tzG9QFiz9W1",
        "colab_type": "code",
        "colab": {}
      },
      "source": [
        "uploaded1 = files.upload()\n",
        "archivo1 = io.BytesIO(uploaded1['observacion.xlsx'])\n"
      ],
      "execution_count": null,
      "outputs": []
    },
    {
      "cell_type": "code",
      "metadata": {
        "id": "8mIxh0XZ2eYg",
        "colab_type": "code",
        "colab": {}
      },
      "source": [
        "df2=pd.read_excel('observacion.xlsx')"
      ],
      "execution_count": null,
      "outputs": []
    },
    {
      "cell_type": "markdown",
      "metadata": {
        "id": "fTocU-oAzy_z",
        "colab_type": "text"
      },
      "source": [
        "**3. Obtener información del dataframe, explorarlo**"
      ]
    },
    {
      "cell_type": "code",
      "metadata": {
        "id": "uRoGrsLgz9CQ",
        "colab_type": "code",
        "colab": {}
      },
      "source": [
        "df2.info()"
      ],
      "execution_count": null,
      "outputs": []
    },
    {
      "cell_type": "code",
      "metadata": {
        "id": "VgSiD7x021FP",
        "colab_type": "code",
        "colab": {
          "base_uri": "https://localhost:8080/",
          "height": 204
        },
        "outputId": "91bdac4f-7a26-47d4-bd44-1637b47e65e9"
      },
      "source": [
        "df2.head()"
      ],
      "execution_count": null,
      "outputs": [
        {
          "output_type": "execute_result",
          "data": {
            "text/html": [
              "<div>\n",
              "<style scoped>\n",
              "    .dataframe tbody tr th:only-of-type {\n",
              "        vertical-align: middle;\n",
              "    }\n",
              "\n",
              "    .dataframe tbody tr th {\n",
              "        vertical-align: top;\n",
              "    }\n",
              "\n",
              "    .dataframe thead th {\n",
              "        text-align: right;\n",
              "    }\n",
              "</style>\n",
              "<table border=\"1\" class=\"dataframe\">\n",
              "  <thead>\n",
              "    <tr style=\"text-align: right;\">\n",
              "      <th></th>\n",
              "      <th>Nro Radicado</th>\n",
              "      <th>Observacion</th>\n",
              "      <th>Fecha</th>\n",
              "    </tr>\n",
              "  </thead>\n",
              "  <tbody>\n",
              "    <tr>\n",
              "      <th>0</th>\n",
              "      <td>SIB_2020_82606</td>\n",
              "      <td>se valida seguro ok se pendiente instruciones ...</td>\n",
              "      <td>21/04/2020</td>\n",
              "    </tr>\n",
              "    <tr>\n",
              "      <th>1</th>\n",
              "      <td>SIB_2020_82606</td>\n",
              "      <td>se llama al numero 3223357726 contestan se pr...</td>\n",
              "      <td>27/04/2020</td>\n",
              "    </tr>\n",
              "    <tr>\n",
              "      <th>2</th>\n",
              "      <td>SIB_2020_82606</td>\n",
              "      <td>se habla con la asesora  Lidia Velandia indica...</td>\n",
              "      <td>28/04/2020</td>\n",
              "    </tr>\n",
              "    <tr>\n",
              "      <th>3</th>\n",
              "      <td>SIB_2020_82606</td>\n",
              "      <td>se recibe correo de asesora solicitando ayuda...</td>\n",
              "      <td>29/04/2020</td>\n",
              "    </tr>\n",
              "    <tr>\n",
              "      <th>4</th>\n",
              "      <td>SIB_2020_82606</td>\n",
              "      <td>se  gestiona caso para que quede asignado a t...</td>\n",
              "      <td>30/04/2020</td>\n",
              "    </tr>\n",
              "  </tbody>\n",
              "</table>\n",
              "</div>"
            ],
            "text/plain": [
              "     Nro Radicado  ...         Fecha\n",
              "0  SIB_2020_82606  ...    21/04/2020\n",
              "1  SIB_2020_82606  ...   27/04/2020 \n",
              "2  SIB_2020_82606  ...    28/04/2020\n",
              "3  SIB_2020_82606  ...   29/04/2020 \n",
              "4  SIB_2020_82606  ...   30/04/2020 \n",
              "\n",
              "[5 rows x 3 columns]"
            ]
          },
          "metadata": {
            "tags": []
          },
          "execution_count": 5
        }
      ]
    },
    {
      "cell_type": "markdown",
      "metadata": {
        "id": "2yyAICgq0N8_",
        "colab_type": "text"
      },
      "source": [
        "**4. Se adiciona la variable para detectar cuáles se van a corregir**"
      ]
    },
    {
      "cell_type": "code",
      "metadata": {
        "id": "F4YbB3Fu6qdK",
        "colab_type": "code",
        "colab": {}
      },
      "source": [
        "df2['corregir']='NO'"
      ],
      "execution_count": null,
      "outputs": []
    },
    {
      "cell_type": "markdown",
      "metadata": {
        "id": "dkrVOdyY0suV",
        "colab_type": "text"
      },
      "source": [
        "**5. Se verifica que en el campo observación no hayan formato de fecha ejemplo: '10/08/2020', ya que si existe una fecha en ese campo, esto indica que el formato ingresado no es el adecuado**"
      ]
    },
    {
      "cell_type": "code",
      "metadata": {
        "id": "l3usO4s_4JqC",
        "colab_type": "code",
        "colab": {}
      },
      "source": [
        "for i in range(len(df2)):\n",
        "  print(i)\n",
        "  if type(df2['Observacion'][i]) == datetime.datetime:\n",
        "    p=df2['Observacion'][i].strftime('%d/%m/%Y')\n",
        "    #df2['Observacion'][i]=df2['Observacion'][i].strftime('%d/%m/%Y')\n",
        "  elif type(df2['Observacion'][i]) == int :\n",
        "    p=str(df2['Observacion'][i])\n",
        "    #df2['Observacion'][i]=str(df2['Observacion'][i])\n",
        "    \n",
        "  else:\n",
        "    p= df2['Observacion'][i]\n",
        "\n",
        "  pattern = re.compile(r'\\d{2}[-/]\\d{2}[-/]\\d{4}')\n",
        "  t=pattern.search(p) \n",
        "  if not t:\n",
        "    df2['corregir'][i]='NO'\n",
        "  else:\n",
        "    df2['corregir'][i]='SI,corregir formato fecha'\n",
        "\n",
        "  if type(df2['Observacion'][i]) == int :  \n",
        "    df2['corregir'][i]='SI,corregir formato fecha'\n"
      ],
      "execution_count": null,
      "outputs": []
    },
    {
      "cell_type": "markdown",
      "metadata": {
        "id": "gEui13GS1P88",
        "colab_type": "text"
      },
      "source": [
        "**6. Se convierte todo a formato String (Texto)**"
      ]
    },
    {
      "cell_type": "code",
      "metadata": {
        "id": "TNDmx_sVORDG",
        "colab_type": "code",
        "colab": {}
      },
      "source": [
        "for i in range(len(df2)):\n",
        "  print(i)\n",
        "  if type(df2['Observacion'][i]) == datetime.datetime:\n",
        "    df2['Observacion'][i]=df2['Observacion'][i].strftime('%d/%m/%Y')\n",
        "  elif type(df2['Observacion'][i]) == int :\n",
        "    df2['Observacion'][i]=str(df2['Observacion'][i])"
      ],
      "execution_count": null,
      "outputs": []
    },
    {
      "cell_type": "markdown",
      "metadata": {
        "id": "-VVFKPj81blb",
        "colab_type": "text"
      },
      "source": [
        "**7. Filtramos aquellos que no tienen el formato adecuado**"
      ]
    },
    {
      "cell_type": "code",
      "metadata": {
        "id": "ChX2CuGpOob1",
        "colab_type": "code",
        "colab": {}
      },
      "source": [
        "df_si=df2[df2['corregir']== 'SI,corregir formato fecha']"
      ],
      "execution_count": null,
      "outputs": []
    },
    {
      "cell_type": "code",
      "metadata": {
        "id": "cCd8a47zQT0L",
        "colab_type": "code",
        "colab": {
          "base_uri": "https://localhost:8080/",
          "height": 204
        },
        "outputId": "b58c87c8-54b1-471a-d03e-052f98d0c6dc"
      },
      "source": [
        "df_si.info()"
      ],
      "execution_count": null,
      "outputs": [
        {
          "output_type": "stream",
          "text": [
            "<class 'pandas.core.frame.DataFrame'>\n",
            "Int64Index: 373 entries, 82 to 19903\n",
            "Data columns (total 4 columns):\n",
            " #   Column        Non-Null Count  Dtype \n",
            "---  ------        --------------  ----- \n",
            " 0   Nro Radicado  373 non-null    object\n",
            " 1   Observacion   373 non-null    object\n",
            " 2   Fecha         369 non-null    object\n",
            " 3   corregir      373 non-null    object\n",
            "dtypes: object(4)\n",
            "memory usage: 14.6+ KB\n"
          ],
          "name": "stdout"
        }
      ]
    },
    {
      "cell_type": "code",
      "metadata": {
        "id": "AoVdrEx_QZsK",
        "colab_type": "code",
        "colab": {
          "base_uri": "https://localhost:8080/",
          "height": 204
        },
        "outputId": "12b2ffff-a21a-422b-8bb3-bf2424ebcbcc"
      },
      "source": [
        "df_si.head()"
      ],
      "execution_count": null,
      "outputs": [
        {
          "output_type": "execute_result",
          "data": {
            "text/html": [
              "<div>\n",
              "<style scoped>\n",
              "    .dataframe tbody tr th:only-of-type {\n",
              "        vertical-align: middle;\n",
              "    }\n",
              "\n",
              "    .dataframe tbody tr th {\n",
              "        vertical-align: top;\n",
              "    }\n",
              "\n",
              "    .dataframe thead th {\n",
              "        text-align: right;\n",
              "    }\n",
              "</style>\n",
              "<table border=\"1\" class=\"dataframe\">\n",
              "  <thead>\n",
              "    <tr style=\"text-align: right;\">\n",
              "      <th></th>\n",
              "      <th>Nro Radicado</th>\n",
              "      <th>Observacion</th>\n",
              "      <th>Fecha</th>\n",
              "      <th>corregir</th>\n",
              "    </tr>\n",
              "  </thead>\n",
              "  <tbody>\n",
              "    <tr>\n",
              "      <th>82</th>\n",
              "      <td>SIB_2020_353347</td>\n",
              "      <td>Credito Hipotecario para vivienda, Seguro de ...</td>\n",
              "      <td>27/04/2020</td>\n",
              "      <td>SI,corregir formato fecha</td>\n",
              "    </tr>\n",
              "    <tr>\n",
              "      <th>102</th>\n",
              "      <td>SIB_2020_441490</td>\n",
              "      <td>CLIENTE INFORMA QUE LAS ESCRITURAS LAS TIENE ...</td>\n",
              "      <td>17/04/2020</td>\n",
              "      <td>SI,corregir formato fecha</td>\n",
              "    </tr>\n",
              "    <tr>\n",
              "      <th>418</th>\n",
              "      <td>SIB_2020_545486</td>\n",
              "      <td>se logra comunicaciOn con el cliente en la li...</td>\n",
              "      <td>14/04/2020</td>\n",
              "      <td>SI,corregir formato fecha</td>\n",
              "    </tr>\n",
              "    <tr>\n",
              "      <th>499</th>\n",
              "      <td>SIB_2020_555096</td>\n",
              "      <td>se valida comentario en go  04/20/2020 13 24to...</td>\n",
              "      <td>13/04/2020</td>\n",
              "      <td>SI,corregir formato fecha</td>\n",
              "    </tr>\n",
              "    <tr>\n",
              "      <th>610</th>\n",
              "      <td>SIB_2019_2627589</td>\n",
              "      <td>SE VALIDA COMENTARIO GESVALT ALBA LUCILA GALLO...</td>\n",
              "      <td>14/04/2020</td>\n",
              "      <td>SI,corregir formato fecha</td>\n",
              "    </tr>\n",
              "  </tbody>\n",
              "</table>\n",
              "</div>"
            ],
            "text/plain": [
              "         Nro Radicado  ...                   corregir\n",
              "82    SIB_2020_353347  ...  SI,corregir formato fecha\n",
              "102   SIB_2020_441490  ...  SI,corregir formato fecha\n",
              "418   SIB_2020_545486  ...  SI,corregir formato fecha\n",
              "499   SIB_2020_555096  ...  SI,corregir formato fecha\n",
              "610  SIB_2019_2627589  ...  SI,corregir formato fecha\n",
              "\n",
              "[5 rows x 4 columns]"
            ]
          },
          "metadata": {
            "tags": []
          },
          "execution_count": 16
        }
      ]
    },
    {
      "cell_type": "markdown",
      "metadata": {
        "id": "FAncnOJP1i_L",
        "colab_type": "text"
      },
      "source": [
        "**8. Se filtran los códigos duplicados**"
      ]
    },
    {
      "cell_type": "code",
      "metadata": {
        "id": "7jrMX21TSCEJ",
        "colab_type": "code",
        "colab": {}
      },
      "source": [
        "df_si=df_si.drop_duplicates(subset=['Nro Radicado'], keep='last')"
      ],
      "execution_count": null,
      "outputs": []
    },
    {
      "cell_type": "markdown",
      "metadata": {
        "id": "Zl2IbU651qOi",
        "colab_type": "text"
      },
      "source": [
        "**9. Se exportan a excel los resultados**"
      ]
    },
    {
      "cell_type": "code",
      "metadata": {
        "id": "XOhgxhlSQ2RS",
        "colab_type": "code",
        "colab": {}
      },
      "source": [
        "df_si.to_excel('prueba.xlsx')"
      ],
      "execution_count": null,
      "outputs": []
    },
    {
      "cell_type": "code",
      "metadata": {
        "id": "1O0ZDpzYQ8ez",
        "colab_type": "code",
        "colab": {
          "base_uri": "https://localhost:8080/",
          "height": 17
        },
        "outputId": "deb9f1c1-69aa-4c15-8ca6-d756cd5b24f8"
      },
      "source": [
        "files.download('prueba.xlsx')"
      ],
      "execution_count": null,
      "outputs": [
        {
          "output_type": "display_data",
          "data": {
            "application/javascript": [
              "\n",
              "    async function download(id, filename, size) {\n",
              "      if (!google.colab.kernel.accessAllowed) {\n",
              "        return;\n",
              "      }\n",
              "      const div = document.createElement('div');\n",
              "      const label = document.createElement('label');\n",
              "      label.textContent = `Downloading \"${filename}\": `;\n",
              "      div.appendChild(label);\n",
              "      const progress = document.createElement('progress');\n",
              "      progress.max = size;\n",
              "      div.appendChild(progress);\n",
              "      document.body.appendChild(div);\n",
              "\n",
              "      const buffers = [];\n",
              "      let downloaded = 0;\n",
              "\n",
              "      const channel = await google.colab.kernel.comms.open(id);\n",
              "      // Send a message to notify the kernel that we're ready.\n",
              "      channel.send({})\n",
              "\n",
              "      for await (const message of channel.messages) {\n",
              "        // Send a message to notify the kernel that we're ready.\n",
              "        channel.send({})\n",
              "        if (message.buffers) {\n",
              "          for (const buffer of message.buffers) {\n",
              "            buffers.push(buffer);\n",
              "            downloaded += buffer.byteLength;\n",
              "            progress.value = downloaded;\n",
              "          }\n",
              "        }\n",
              "      }\n",
              "      const blob = new Blob(buffers, {type: 'application/binary'});\n",
              "      const a = document.createElement('a');\n",
              "      a.href = window.URL.createObjectURL(blob);\n",
              "      a.download = filename;\n",
              "      div.appendChild(a);\n",
              "      a.click();\n",
              "      div.remove();\n",
              "    }\n",
              "  "
            ],
            "text/plain": [
              "<IPython.core.display.Javascript object>"
            ]
          },
          "metadata": {
            "tags": []
          }
        },
        {
          "output_type": "display_data",
          "data": {
            "application/javascript": [
              "download(\"download_3cac94ce-1db6-4340-85aa-b7d8316f415b\", \"prueba.xlsx\", 18006)"
            ],
            "text/plain": [
              "<IPython.core.display.Javascript object>"
            ]
          },
          "metadata": {
            "tags": []
          }
        }
      ]
    }
  ]
}