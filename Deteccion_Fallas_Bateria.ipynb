{
  "nbformat": 4,
  "nbformat_minor": 0,
  "metadata": {
    "colab": {
      "name": "Prueba_ISA_Carolina_Florez.ipynb",
      "provenance": [],
      "collapsed_sections": [
        "5yzb16-3ADl6",
        "fWanst6_sDWp",
        "Sxdt_R8zPBaE",
        "rFLfKBwbTM66",
        "R9ivalK44bbZ",
        "l5ju63CW6AKf",
        "WxfuWz-VtcCV",
        "Ym5RC_h3BxTC",
        "AYA6_CCeGng1",
        "YvwAWiYFBzkr",
        "t-bYzD0tYcKO",
        "SzhU1r5K6vgp"
      ],
      "toc_visible": true
    },
    "kernelspec": {
      "name": "python3",
      "display_name": "Python 3"
    }
  },
  "cells": [
    {
      "cell_type": "markdown",
      "metadata": {
        "id": "P6Al-hEQ7Aw0",
        "colab_type": "text"
      },
      "source": [
        "\n",
        "\n",
        "Para el desarrollo de esté taller se llevará a cabo la metodología CRISP-DM la cuál es implementada en la industria para llevar a cabo proyectos de Machine Learning. Se hará uso de Google Colab para ejecutar código python; presenta la misma funcionalidad de Jupyter Notebook de Anaconda, la única diferencia es que en google colab no se pueden crear Enviroment destinados a cada proyecto, .\n",
        "\n",
        "\n",
        "Para esté tipo de ejercicios lo ideal es tomar una porción de datos (10%), del dataset para hacer pruebas con auquellos datos que el modelo no ha visto.\n"
      ]
    },
    {
      "cell_type": "markdown",
      "metadata": {
        "id": "Ofs3TiMh6882",
        "colab_type": "text"
      },
      "source": [
        "**Se utiliza la metodología Crisp DM:**\n",
        "\n",
        "1. Entender el negocio\n",
        "2. Entender los datos, que variables tengo, que variables me sirven\n",
        "3. Procesar los datos, eliminar outliers, tratamiento de Nulos\n",
        "4. Elegir y desarrollar el modelo \n",
        "5. Colocar el modelo en producción (no aplica en este caso)\n"
      ]
    },
    {
      "cell_type": "markdown",
      "metadata": {
        "id": "tnPVcJ_F_mPK",
        "colab_type": "text"
      },
      "source": [
        "# 1. Entender el negocio y el objetivo "
      ]
    },
    {
      "cell_type": "markdown",
      "metadata": {
        "id": "qCaiLEMfBvA8",
        "colab_type": "text"
      },
      "source": [
        "**Objetivo del negocio:** Automatizar la detección de **fallos** en baterías \n",
        "\n",
        "**Requerimiento Técnico** : Construir un modelo de clasificación de machine learning para detectar los **fallos** en las baterías."
      ]
    },
    {
      "cell_type": "markdown",
      "metadata": {
        "id": "0pDMmKUz8czM",
        "colab_type": "text"
      },
      "source": [
        "\n",
        "\n",
        "Las celdas de energía son dispositivos que se utilizan en hospitales en ciertos equipos especiales, estas celdas generan información en tiempo real (temperatura, corriente, resistencia, voltaje) si uno de los parámetros esta fuera del rango normal es posible que se produzca una fallo en la celda y por tanto en el equipo. Se requiere entrenar un modelo de Machine Learning que aprenda a identificar un fallo, clasificando los datos de entrada en los tres estados (ok, alerta, error)\n",
        "\n",
        "Se están midiendo 3 variables importantes (amp,vcd e imp) que ayuda a definir el estado de la celda. Esto es importante para la toma deciones para evitar una falla de la carga, en este caso los equipos, con el fin de garantizar la disponibilidad y la confiabilidad del servicio.\n",
        "\n",
        "\n",
        "**Diccionario de variables**\n",
        "\n",
        "**- amp**: Es la corriente medida en amperios, que se traduce en la cantidad de electrones que circulan x un conductor\n",
        "\n",
        "**- vcd**: Es el voltaje, que se define como la presión de los electrones al tratar de circular.\n",
        "\n",
        "**- imp** : La resistencia se mide en omnios, y se define como una medida de oposición al flujo de corriente en un circuito. Cuando mayor sea la resistencia, menor será el flujo de corriente.\n",
        "\n",
        "**- tmp** : Nivel tértmico de un objeto.\n",
        "\n"
      ]
    },
    {
      "cell_type": "markdown",
      "metadata": {
        "id": "urPz9qmA_xcp",
        "colab_type": "text"
      },
      "source": [
        "# 2. Exploración de Datos"
      ]
    },
    {
      "cell_type": "markdown",
      "metadata": {
        "id": "MVxFYRXRQ8AL",
        "colab_type": "text"
      },
      "source": [
        "Lo primero que se debe hacer es importar las librerías que serán usadas durante el desarrollo de la prueba"
      ]
    },
    {
      "cell_type": "code",
      "metadata": {
        "id": "ywMZgJYm7WXY",
        "colab_type": "code",
        "colab": {}
      },
      "source": [
        "import pandas as pd\n",
        "import numpy as np\n",
        "import io\n",
        "from google.colab import files\n",
        "import seaborn as sns\n",
        "import matplotlib.pyplot as plt\n",
        "from sklearn.model_selection import train_test_split\n",
        "from sklearn.model_selection import validation_curve\n",
        "from sklearn import preprocessing\n",
        "import itertools\n",
        "from scipy.stats import skewtest, levene\n",
        "from sklearn import svm\n",
        "from sklearn.tree import DecisionTreeClassifier\n",
        "from sklearn.svm import LinearSVC\n",
        "from sklearn.svm import SVC\n",
        "from sklearn.neighbors import KNeighborsClassifier\n",
        "from sklearn import svm\n",
        "from sklearn.neural_network import MLPClassifier\n",
        "from sklearn.semi_supervised import LabelPropagation\n",
        "from sklearn.naive_bayes import GaussianNB\n",
        "from sklearn.linear_model import RidgeClassifier\n",
        "\n",
        "\n",
        "from sklearn.pipeline import Pipeline\n",
        "from sklearn.model_selection import train_test_split,GridSearchCV,cross_val_predict\n",
        "from sklearn.ensemble import RandomForestClassifier,AdaBoostClassifier,VotingClassifier,ExtraTreesClassifier,GradientBoostingClassifier\n",
        "from sklearn.metrics import classification_report,plot_confusion_matrix,confusion_matrix,recall_score\n"
      ],
      "execution_count": null,
      "outputs": []
    },
    {
      "cell_type": "code",
      "metadata": {
        "id": "9gUbCyrP67t3",
        "colab_type": "code",
        "colab": {
          "resources": {
            "http://localhost:8080/nbextensions/google.colab/files.js": {
              "data": "Ly8gQ29weXJpZ2h0IDIwMTcgR29vZ2xlIExMQwovLwovLyBMaWNlbnNlZCB1bmRlciB0aGUgQXBhY2hlIExpY2Vuc2UsIFZlcnNpb24gMi4wICh0aGUgIkxpY2Vuc2UiKTsKLy8geW91IG1heSBub3QgdXNlIHRoaXMgZmlsZSBleGNlcHQgaW4gY29tcGxpYW5jZSB3aXRoIHRoZSBMaWNlbnNlLgovLyBZb3UgbWF5IG9idGFpbiBhIGNvcHkgb2YgdGhlIExpY2Vuc2UgYXQKLy8KLy8gICAgICBodHRwOi8vd3d3LmFwYWNoZS5vcmcvbGljZW5zZXMvTElDRU5TRS0yLjAKLy8KLy8gVW5sZXNzIHJlcXVpcmVkIGJ5IGFwcGxpY2FibGUgbGF3IG9yIGFncmVlZCB0byBpbiB3cml0aW5nLCBzb2Z0d2FyZQovLyBkaXN0cmlidXRlZCB1bmRlciB0aGUgTGljZW5zZSBpcyBkaXN0cmlidXRlZCBvbiBhbiAiQVMgSVMiIEJBU0lTLAovLyBXSVRIT1VUIFdBUlJBTlRJRVMgT1IgQ09ORElUSU9OUyBPRiBBTlkgS0lORCwgZWl0aGVyIGV4cHJlc3Mgb3IgaW1wbGllZC4KLy8gU2VlIHRoZSBMaWNlbnNlIGZvciB0aGUgc3BlY2lmaWMgbGFuZ3VhZ2UgZ292ZXJuaW5nIHBlcm1pc3Npb25zIGFuZAovLyBsaW1pdGF0aW9ucyB1bmRlciB0aGUgTGljZW5zZS4KCi8qKgogKiBAZmlsZW92ZXJ2aWV3IEhlbHBlcnMgZm9yIGdvb2dsZS5jb2xhYiBQeXRob24gbW9kdWxlLgogKi8KKGZ1bmN0aW9uKHNjb3BlKSB7CmZ1bmN0aW9uIHNwYW4odGV4dCwgc3R5bGVBdHRyaWJ1dGVzID0ge30pIHsKICBjb25zdCBlbGVtZW50ID0gZG9jdW1lbnQuY3JlYXRlRWxlbWVudCgnc3BhbicpOwogIGVsZW1lbnQudGV4dENvbnRlbnQgPSB0ZXh0OwogIGZvciAoY29uc3Qga2V5IG9mIE9iamVjdC5rZXlzKHN0eWxlQXR0cmlidXRlcykpIHsKICAgIGVsZW1lbnQuc3R5bGVba2V5XSA9IHN0eWxlQXR0cmlidXRlc1trZXldOwogIH0KICByZXR1cm4gZWxlbWVudDsKfQoKLy8gTWF4IG51bWJlciBvZiBieXRlcyB3aGljaCB3aWxsIGJlIHVwbG9hZGVkIGF0IGEgdGltZS4KY29uc3QgTUFYX1BBWUxPQURfU0laRSA9IDEwMCAqIDEwMjQ7CgpmdW5jdGlvbiBfdXBsb2FkRmlsZXMoaW5wdXRJZCwgb3V0cHV0SWQpIHsKICBjb25zdCBzdGVwcyA9IHVwbG9hZEZpbGVzU3RlcChpbnB1dElkLCBvdXRwdXRJZCk7CiAgY29uc3Qgb3V0cHV0RWxlbWVudCA9IGRvY3VtZW50LmdldEVsZW1lbnRCeUlkKG91dHB1dElkKTsKICAvLyBDYWNoZSBzdGVwcyBvbiB0aGUgb3V0cHV0RWxlbWVudCB0byBtYWtlIGl0IGF2YWlsYWJsZSBmb3IgdGhlIG5leHQgY2FsbAogIC8vIHRvIHVwbG9hZEZpbGVzQ29udGludWUgZnJvbSBQeXRob24uCiAgb3V0cHV0RWxlbWVudC5zdGVwcyA9IHN0ZXBzOwoKICByZXR1cm4gX3VwbG9hZEZpbGVzQ29udGludWUob3V0cHV0SWQpOwp9CgovLyBUaGlzIGlzIHJvdWdobHkgYW4gYXN5bmMgZ2VuZXJhdG9yIChub3Qgc3VwcG9ydGVkIGluIHRoZSBicm93c2VyIHlldCksCi8vIHdoZXJlIHRoZXJlIGFyZSBtdWx0aXBsZSBhc3luY2hyb25vdXMgc3RlcHMgYW5kIHRoZSBQeXRob24gc2lkZSBpcyBnb2luZwovLyB0byBwb2xsIGZvciBjb21wbGV0aW9uIG9mIGVhY2ggc3RlcC4KLy8gVGhpcyB1c2VzIGEgUHJvbWlzZSB0byBibG9jayB0aGUgcHl0aG9uIHNpZGUgb24gY29tcGxldGlvbiBvZiBlYWNoIHN0ZXAsCi8vIHRoZW4gcGFzc2VzIHRoZSByZXN1bHQgb2YgdGhlIHByZXZpb3VzIHN0ZXAgYXMgdGhlIGlucHV0IHRvIHRoZSBuZXh0IHN0ZXAuCmZ1bmN0aW9uIF91cGxvYWRGaWxlc0NvbnRpbnVlKG91dHB1dElkKSB7CiAgY29uc3Qgb3V0cHV0RWxlbWVudCA9IGRvY3VtZW50LmdldEVsZW1lbnRCeUlkKG91dHB1dElkKTsKICBjb25zdCBzdGVwcyA9IG91dHB1dEVsZW1lbnQuc3RlcHM7CgogIGNvbnN0IG5leHQgPSBzdGVwcy5uZXh0KG91dHB1dEVsZW1lbnQubGFzdFByb21pc2VWYWx1ZSk7CiAgcmV0dXJuIFByb21pc2UucmVzb2x2ZShuZXh0LnZhbHVlLnByb21pc2UpLnRoZW4oKHZhbHVlKSA9PiB7CiAgICAvLyBDYWNoZSB0aGUgbGFzdCBwcm9taXNlIHZhbHVlIHRvIG1ha2UgaXQgYXZhaWxhYmxlIHRvIHRoZSBuZXh0CiAgICAvLyBzdGVwIG9mIHRoZSBnZW5lcmF0b3IuCiAgICBvdXRwdXRFbGVtZW50Lmxhc3RQcm9taXNlVmFsdWUgPSB2YWx1ZTsKICAgIHJldHVybiBuZXh0LnZhbHVlLnJlc3BvbnNlOwogIH0pOwp9CgovKioKICogR2VuZXJhdG9yIGZ1bmN0aW9uIHdoaWNoIGlzIGNhbGxlZCBiZXR3ZWVuIGVhY2ggYXN5bmMgc3RlcCBvZiB0aGUgdXBsb2FkCiAqIHByb2Nlc3MuCiAqIEBwYXJhbSB7c3RyaW5nfSBpbnB1dElkIEVsZW1lbnQgSUQgb2YgdGhlIGlucHV0IGZpbGUgcGlja2VyIGVsZW1lbnQuCiAqIEBwYXJhbSB7c3RyaW5nfSBvdXRwdXRJZCBFbGVtZW50IElEIG9mIHRoZSBvdXRwdXQgZGlzcGxheS4KICogQHJldHVybiB7IUl0ZXJhYmxlPCFPYmplY3Q+fSBJdGVyYWJsZSBvZiBuZXh0IHN0ZXBzLgogKi8KZnVuY3Rpb24qIHVwbG9hZEZpbGVzU3RlcChpbnB1dElkLCBvdXRwdXRJZCkgewogIGNvbnN0IGlucHV0RWxlbWVudCA9IGRvY3VtZW50LmdldEVsZW1lbnRCeUlkKGlucHV0SWQpOwogIGlucHV0RWxlbWVudC5kaXNhYmxlZCA9IGZhbHNlOwoKICBjb25zdCBvdXRwdXRFbGVtZW50ID0gZG9jdW1lbnQuZ2V0RWxlbWVudEJ5SWQob3V0cHV0SWQpOwogIG91dHB1dEVsZW1lbnQuaW5uZXJIVE1MID0gJyc7CgogIGNvbnN0IHBpY2tlZFByb21pc2UgPSBuZXcgUHJvbWlzZSgocmVzb2x2ZSkgPT4gewogICAgaW5wdXRFbGVtZW50LmFkZEV2ZW50TGlzdGVuZXIoJ2NoYW5nZScsIChlKSA9PiB7CiAgICAgIHJlc29sdmUoZS50YXJnZXQuZmlsZXMpOwogICAgfSk7CiAgfSk7CgogIGNvbnN0IGNhbmNlbCA9IGRvY3VtZW50LmNyZWF0ZUVsZW1lbnQoJ2J1dHRvbicpOwogIGlucHV0RWxlbWVudC5wYXJlbnRFbGVtZW50LmFwcGVuZENoaWxkKGNhbmNlbCk7CiAgY2FuY2VsLnRleHRDb250ZW50ID0gJ0NhbmNlbCB1cGxvYWQnOwogIGNvbnN0IGNhbmNlbFByb21pc2UgPSBuZXcgUHJvbWlzZSgocmVzb2x2ZSkgPT4gewogICAgY2FuY2VsLm9uY2xpY2sgPSAoKSA9PiB7CiAgICAgIHJlc29sdmUobnVsbCk7CiAgICB9OwogIH0pOwoKICAvLyBXYWl0IGZvciB0aGUgdXNlciB0byBwaWNrIHRoZSBmaWxlcy4KICBjb25zdCBmaWxlcyA9IHlpZWxkIHsKICAgIHByb21pc2U6IFByb21pc2UucmFjZShbcGlja2VkUHJvbWlzZSwgY2FuY2VsUHJvbWlzZV0pLAogICAgcmVzcG9uc2U6IHsKICAgICAgYWN0aW9uOiAnc3RhcnRpbmcnLAogICAgfQogIH07CgogIGNhbmNlbC5yZW1vdmUoKTsKCiAgLy8gRGlzYWJsZSB0aGUgaW5wdXQgZWxlbWVudCBzaW5jZSBmdXJ0aGVyIHBpY2tzIGFyZSBub3QgYWxsb3dlZC4KICBpbnB1dEVsZW1lbnQuZGlzYWJsZWQgPSB0cnVlOwoKICBpZiAoIWZpbGVzKSB7CiAgICByZXR1cm4gewogICAgICByZXNwb25zZTogewogICAgICAgIGFjdGlvbjogJ2NvbXBsZXRlJywKICAgICAgfQogICAgfTsKICB9CgogIGZvciAoY29uc3QgZmlsZSBvZiBmaWxlcykgewogICAgY29uc3QgbGkgPSBkb2N1bWVudC5jcmVhdGVFbGVtZW50KCdsaScpOwogICAgbGkuYXBwZW5kKHNwYW4oZmlsZS5uYW1lLCB7Zm9udFdlaWdodDogJ2JvbGQnfSkpOwogICAgbGkuYXBwZW5kKHNwYW4oCiAgICAgICAgYCgke2ZpbGUudHlwZSB8fCAnbi9hJ30pIC0gJHtmaWxlLnNpemV9IGJ5dGVzLCBgICsKICAgICAgICBgbGFzdCBtb2RpZmllZDogJHsKICAgICAgICAgICAgZmlsZS5sYXN0TW9kaWZpZWREYXRlID8gZmlsZS5sYXN0TW9kaWZpZWREYXRlLnRvTG9jYWxlRGF0ZVN0cmluZygpIDoKICAgICAgICAgICAgICAgICAgICAgICAgICAgICAgICAgICAgJ24vYSd9IC0gYCkpOwogICAgY29uc3QgcGVyY2VudCA9IHNwYW4oJzAlIGRvbmUnKTsKICAgIGxpLmFwcGVuZENoaWxkKHBlcmNlbnQpOwoKICAgIG91dHB1dEVsZW1lbnQuYXBwZW5kQ2hpbGQobGkpOwoKICAgIGNvbnN0IGZpbGVEYXRhUHJvbWlzZSA9IG5ldyBQcm9taXNlKChyZXNvbHZlKSA9PiB7CiAgICAgIGNvbnN0IHJlYWRlciA9IG5ldyBGaWxlUmVhZGVyKCk7CiAgICAgIHJlYWRlci5vbmxvYWQgPSAoZSkgPT4gewogICAgICAgIHJlc29sdmUoZS50YXJnZXQucmVzdWx0KTsKICAgICAgfTsKICAgICAgcmVhZGVyLnJlYWRBc0FycmF5QnVmZmVyKGZpbGUpOwogICAgfSk7CiAgICAvLyBXYWl0IGZvciB0aGUgZGF0YSB0byBiZSByZWFkeS4KICAgIGxldCBmaWxlRGF0YSA9IHlpZWxkIHsKICAgICAgcHJvbWlzZTogZmlsZURhdGFQcm9taXNlLAogICAgICByZXNwb25zZTogewogICAgICAgIGFjdGlvbjogJ2NvbnRpbnVlJywKICAgICAgfQogICAgfTsKCiAgICAvLyBVc2UgYSBjaHVua2VkIHNlbmRpbmcgdG8gYXZvaWQgbWVzc2FnZSBzaXplIGxpbWl0cy4gU2VlIGIvNjIxMTU2NjAuCiAgICBsZXQgcG9zaXRpb24gPSAwOwogICAgd2hpbGUgKHBvc2l0aW9uIDwgZmlsZURhdGEuYnl0ZUxlbmd0aCkgewogICAgICBjb25zdCBsZW5ndGggPSBNYXRoLm1pbihmaWxlRGF0YS5ieXRlTGVuZ3RoIC0gcG9zaXRpb24sIE1BWF9QQVlMT0FEX1NJWkUpOwogICAgICBjb25zdCBjaHVuayA9IG5ldyBVaW50OEFycmF5KGZpbGVEYXRhLCBwb3NpdGlvbiwgbGVuZ3RoKTsKICAgICAgcG9zaXRpb24gKz0gbGVuZ3RoOwoKICAgICAgY29uc3QgYmFzZTY0ID0gYnRvYShTdHJpbmcuZnJvbUNoYXJDb2RlLmFwcGx5KG51bGwsIGNodW5rKSk7CiAgICAgIHlpZWxkIHsKICAgICAgICByZXNwb25zZTogewogICAgICAgICAgYWN0aW9uOiAnYXBwZW5kJywKICAgICAgICAgIGZpbGU6IGZpbGUubmFtZSwKICAgICAgICAgIGRhdGE6IGJhc2U2NCwKICAgICAgICB9LAogICAgICB9OwogICAgICBwZXJjZW50LnRleHRDb250ZW50ID0KICAgICAgICAgIGAke01hdGgucm91bmQoKHBvc2l0aW9uIC8gZmlsZURhdGEuYnl0ZUxlbmd0aCkgKiAxMDApfSUgZG9uZWA7CiAgICB9CiAgfQoKICAvLyBBbGwgZG9uZS4KICB5aWVsZCB7CiAgICByZXNwb25zZTogewogICAgICBhY3Rpb246ICdjb21wbGV0ZScsCiAgICB9CiAgfTsKfQoKc2NvcGUuZ29vZ2xlID0gc2NvcGUuZ29vZ2xlIHx8IHt9OwpzY29wZS5nb29nbGUuY29sYWIgPSBzY29wZS5nb29nbGUuY29sYWIgfHwge307CnNjb3BlLmdvb2dsZS5jb2xhYi5fZmlsZXMgPSB7CiAgX3VwbG9hZEZpbGVzLAogIF91cGxvYWRGaWxlc0NvbnRpbnVlLAp9Owp9KShzZWxmKTsK",
              "ok": true,
              "headers": [
                [
                  "content-type",
                  "application/javascript"
                ]
              ],
              "status": 200,
              "status_text": ""
            }
          },
          "base_uri": "https://localhost:8080/",
          "height": 70
        },
        "outputId": "938bbe6b-712e-416a-a42e-a37ba1a38747"
      },
      "source": [
        "# Se carga el archivo desde la ruta local del PC\n",
        "uploaded = files.upload()"
      ],
      "execution_count": null,
      "outputs": [
        {
          "output_type": "display_data",
          "data": {
            "text/html": [
              "\n",
              "     <input type=\"file\" id=\"files-f1154861-687d-4dbc-9cd9-5f1c21ba6ad8\" name=\"files[]\" multiple disabled\n",
              "        style=\"border:none\" />\n",
              "     <output id=\"result-f1154861-687d-4dbc-9cd9-5f1c21ba6ad8\">\n",
              "      Upload widget is only available when the cell has been executed in the\n",
              "      current browser session. Please rerun this cell to enable.\n",
              "      </output>\n",
              "      <script src=\"/nbextensions/google.colab/files.js\"></script> "
            ],
            "text/plain": [
              "<IPython.core.display.HTML object>"
            ]
          },
          "metadata": {
            "tags": []
          }
        },
        {
          "output_type": "stream",
          "text": [
            "Saving baterias-datos.csv to baterias-datos (1).csv\n"
          ],
          "name": "stdout"
        }
      ]
    },
    {
      "cell_type": "code",
      "metadata": {
        "id": "3YKlDKxw96Ef",
        "colab_type": "code",
        "colab": {}
      },
      "source": [
        "# se lee el archivo csv, usando pandas: baterias-datos.csv, Luego se crea el dataframe a partir del archivo\n",
        "archivo = io.BytesIO(uploaded['baterias-datos.csv'])\n",
        "df_baterias=pd.read_csv('baterias-datos.csv',sep=';',decimal=',')"
      ],
      "execution_count": null,
      "outputs": []
    },
    {
      "cell_type": "markdown",
      "metadata": {
        "id": "i2P7cvH8Mc6R",
        "colab_type": "text"
      },
      "source": [
        "Antes de continuar con el ejercicio se hace una muestra de los datos del 10% que se usara en la etapa de la validación del modelo."
      ]
    },
    {
      "cell_type": "code",
      "metadata": {
        "id": "yfm4KrOnMoJt",
        "colab_type": "code",
        "colab": {}
      },
      "source": [
        "df_baterias_val = df_baterias.sample(frac=0.1)"
      ],
      "execution_count": null,
      "outputs": []
    },
    {
      "cell_type": "markdown",
      "metadata": {
        "id": "_rVSrF2hOWTu",
        "colab_type": "text"
      },
      "source": [
        "Al dataframe que vamos a usar para el desarrollo del modelo de machine learning, se le debe quitar el 10% de los datos que estamos separando para el tema de validación"
      ]
    },
    {
      "cell_type": "code",
      "metadata": {
        "id": "70ggqo7TNMT9",
        "colab_type": "code",
        "colab": {}
      },
      "source": [
        "df_baterias = df_baterias.loc[~df_baterias.index.isin(df_baterias_val.index)]"
      ],
      "execution_count": null,
      "outputs": []
    },
    {
      "cell_type": "code",
      "metadata": {
        "id": "K6YU6qBT-IGE",
        "colab_type": "code",
        "colab": {
          "base_uri": "https://localhost:8080/",
          "height": 191
        },
        "outputId": "66a5833d-76cd-4766-f5de-55a0d3ece6da"
      },
      "source": [
        "# Se realiza una muestra del archivo\n",
        "df_baterias.head()"
      ],
      "execution_count": null,
      "outputs": [
        {
          "output_type": "execute_result",
          "data": {
            "text/html": [
              "<div>\n",
              "<style scoped>\n",
              "    .dataframe tbody tr th:only-of-type {\n",
              "        vertical-align: middle;\n",
              "    }\n",
              "\n",
              "    .dataframe tbody tr th {\n",
              "        vertical-align: top;\n",
              "    }\n",
              "\n",
              "    .dataframe thead th {\n",
              "        text-align: right;\n",
              "    }\n",
              "</style>\n",
              "<table border=\"1\" class=\"dataframe\">\n",
              "  <thead>\n",
              "    <tr style=\"text-align: right;\">\n",
              "      <th></th>\n",
              "      <th>vcd</th>\n",
              "      <th>amp</th>\n",
              "      <th>tmp</th>\n",
              "      <th>imp</th>\n",
              "      <th>estado_id</th>\n",
              "      <th>estado</th>\n",
              "    </tr>\n",
              "  </thead>\n",
              "  <tbody>\n",
              "    <tr>\n",
              "      <th>0</th>\n",
              "      <td>14.30</td>\n",
              "      <td>68.52</td>\n",
              "      <td>13.83</td>\n",
              "      <td>39.19</td>\n",
              "      <td>0</td>\n",
              "      <td>ok</td>\n",
              "    </tr>\n",
              "    <tr>\n",
              "      <th>1</th>\n",
              "      <td>14.48</td>\n",
              "      <td>86.92</td>\n",
              "      <td>12.75</td>\n",
              "      <td>32.74</td>\n",
              "      <td>0</td>\n",
              "      <td>ok</td>\n",
              "    </tr>\n",
              "    <tr>\n",
              "      <th>2</th>\n",
              "      <td>14.18</td>\n",
              "      <td>80.65</td>\n",
              "      <td>5.27</td>\n",
              "      <td>27.58</td>\n",
              "      <td>0</td>\n",
              "      <td>ok</td>\n",
              "    </tr>\n",
              "    <tr>\n",
              "      <th>3</th>\n",
              "      <td>13.68</td>\n",
              "      <td>56.30</td>\n",
              "      <td>13.96</td>\n",
              "      <td>17.91</td>\n",
              "      <td>0</td>\n",
              "      <td>ok</td>\n",
              "    </tr>\n",
              "    <tr>\n",
              "      <th>4</th>\n",
              "      <td>13.67</td>\n",
              "      <td>61.49</td>\n",
              "      <td>7.71</td>\n",
              "      <td>26.40</td>\n",
              "      <td>0</td>\n",
              "      <td>ok</td>\n",
              "    </tr>\n",
              "  </tbody>\n",
              "</table>\n",
              "</div>"
            ],
            "text/plain": [
              "     vcd    amp    tmp    imp  estado_id estado\n",
              "0  14.30  68.52  13.83  39.19          0     ok\n",
              "1  14.48  86.92  12.75  32.74          0     ok\n",
              "2  14.18  80.65   5.27  27.58          0     ok\n",
              "3  13.68  56.30  13.96  17.91          0     ok\n",
              "4  13.67  61.49   7.71  26.40          0     ok"
            ]
          },
          "metadata": {
            "tags": []
          },
          "execution_count": 6
        }
      ]
    },
    {
      "cell_type": "code",
      "metadata": {
        "id": "hQxhQ8Y1-Xmt",
        "colab_type": "code",
        "colab": {
          "base_uri": "https://localhost:8080/",
          "height": 33
        },
        "outputId": "6b06125d-33e4-4ec4-a9e8-2ee8ff0dd875"
      },
      "source": [
        "# Se verifica las columnas existentes en el dataframe\n",
        "df_baterias.columns"
      ],
      "execution_count": null,
      "outputs": [
        {
          "output_type": "execute_result",
          "data": {
            "text/plain": [
              "Index(['vcd', 'amp', 'tmp', 'imp', 'estado_id', 'estado'], dtype='object')"
            ]
          },
          "metadata": {
            "tags": []
          },
          "execution_count": 7
        }
      ]
    },
    {
      "cell_type": "code",
      "metadata": {
        "id": "EbIBgyID-cmE",
        "colab_type": "code",
        "colab": {
          "base_uri": "https://localhost:8080/",
          "height": 131
        },
        "outputId": "8aa135b8-f3c0-4c60-f3b2-ffd1db83c04c"
      },
      "source": [
        "# Se Verifican el porcentaje de los datos que están nulos \n",
        "df_baterias.isnull().sum()/len(df_baterias)*100"
      ],
      "execution_count": null,
      "outputs": [
        {
          "output_type": "execute_result",
          "data": {
            "text/plain": [
              "vcd          0.0\n",
              "amp          0.0\n",
              "tmp          0.0\n",
              "imp          0.0\n",
              "estado_id    0.0\n",
              "estado       0.0\n",
              "dtype: float64"
            ]
          },
          "metadata": {
            "tags": []
          },
          "execution_count": 8
        }
      ]
    },
    {
      "cell_type": "markdown",
      "metadata": {
        "id": "rMtH2MCR-pkF",
        "colab_type": "text"
      },
      "source": [
        "Se puede evidenciar que en los datos no hay datos nulos por lo tanto no se implementan técnicas de imputación de valores missing.\n",
        "\n",
        "Para las técnicas de imputación se podrán hacer uso de medidas estadísticas como la mediana, o la media (se debe tener en cuenta los valores extremos), también se pueden reemplazar los valores nulos con los valores cercanos a él, sea los vecinos de atrás o adelante, del mismo modo se puede construir modelos para el tema de imputacion de valores faltantes."
      ]
    },
    {
      "cell_type": "code",
      "metadata": {
        "id": "HIQS_Ucs-9Jg",
        "colab_type": "code",
        "colab": {
          "base_uri": "https://localhost:8080/",
          "height": 131
        },
        "outputId": "50235ee3-d98f-4a28-c4d8-51a05be26d6a"
      },
      "source": [
        "# Se verifica el tipo de datos\n",
        "df_baterias.dtypes"
      ],
      "execution_count": null,
      "outputs": [
        {
          "output_type": "execute_result",
          "data": {
            "text/plain": [
              "vcd          float64\n",
              "amp          float64\n",
              "tmp          float64\n",
              "imp          float64\n",
              "estado_id      int64\n",
              "estado        object\n",
              "dtype: object"
            ]
          },
          "metadata": {
            "tags": []
          },
          "execution_count": 9
        }
      ]
    },
    {
      "cell_type": "markdown",
      "metadata": {
        "id": "B3HZvSB8jv75",
        "colab_type": "text"
      },
      "source": [
        "Se evidencia que todas las variables son de tipo númerico, ecxepto el estado que es de tipo object, más adelante se hará un tratamiento de variables."
      ]
    },
    {
      "cell_type": "code",
      "metadata": {
        "scrolled": false,
        "id": "89T6KPzG4ouS",
        "colab_type": "code",
        "colab": {
          "base_uri": "https://localhost:8080/",
          "height": 277
        },
        "outputId": "c52fd5f8-5104-4ba5-9bcd-ec2f2e3f59d5"
      },
      "source": [
        "#Se hace la descripción de los estadísticos de las variables\n",
        "pd.options.display.float_format = \"{:.2f}\".format\n",
        "df_baterias.describe()"
      ],
      "execution_count": null,
      "outputs": [
        {
          "output_type": "execute_result",
          "data": {
            "text/html": [
              "<div>\n",
              "<style scoped>\n",
              "    .dataframe tbody tr th:only-of-type {\n",
              "        vertical-align: middle;\n",
              "    }\n",
              "\n",
              "    .dataframe tbody tr th {\n",
              "        vertical-align: top;\n",
              "    }\n",
              "\n",
              "    .dataframe thead th {\n",
              "        text-align: right;\n",
              "    }\n",
              "</style>\n",
              "<table border=\"1\" class=\"dataframe\">\n",
              "  <thead>\n",
              "    <tr style=\"text-align: right;\">\n",
              "      <th></th>\n",
              "      <th>vcd</th>\n",
              "      <th>amp</th>\n",
              "      <th>tmp</th>\n",
              "      <th>imp</th>\n",
              "      <th>estado_id</th>\n",
              "    </tr>\n",
              "  </thead>\n",
              "  <tbody>\n",
              "    <tr>\n",
              "      <th>count</th>\n",
              "      <td>535.00</td>\n",
              "      <td>535.00</td>\n",
              "      <td>535.00</td>\n",
              "      <td>535.00</td>\n",
              "      <td>535.00</td>\n",
              "    </tr>\n",
              "    <tr>\n",
              "      <th>mean</th>\n",
              "      <td>14.03</td>\n",
              "      <td>65.99</td>\n",
              "      <td>15.28</td>\n",
              "      <td>23.80</td>\n",
              "      <td>0.98</td>\n",
              "    </tr>\n",
              "    <tr>\n",
              "      <th>std</th>\n",
              "      <td>2.20</td>\n",
              "      <td>16.57</td>\n",
              "      <td>7.76</td>\n",
              "      <td>11.66</td>\n",
              "      <td>0.82</td>\n",
              "    </tr>\n",
              "    <tr>\n",
              "      <th>min</th>\n",
              "      <td>1.85</td>\n",
              "      <td>0.86</td>\n",
              "      <td>0.26</td>\n",
              "      <td>0.22</td>\n",
              "      <td>0.00</td>\n",
              "    </tr>\n",
              "    <tr>\n",
              "      <th>25%</th>\n",
              "      <td>13.70</td>\n",
              "      <td>57.23</td>\n",
              "      <td>9.06</td>\n",
              "      <td>15.02</td>\n",
              "      <td>0.00</td>\n",
              "    </tr>\n",
              "    <tr>\n",
              "      <th>50%</th>\n",
              "      <td>13.99</td>\n",
              "      <td>67.14</td>\n",
              "      <td>14.46</td>\n",
              "      <td>22.75</td>\n",
              "      <td>1.00</td>\n",
              "    </tr>\n",
              "    <tr>\n",
              "      <th>75%</th>\n",
              "      <td>14.30</td>\n",
              "      <td>78.41</td>\n",
              "      <td>20.92</td>\n",
              "      <td>32.18</td>\n",
              "      <td>2.00</td>\n",
              "    </tr>\n",
              "    <tr>\n",
              "      <th>max</th>\n",
              "      <td>29.30</td>\n",
              "      <td>89.96</td>\n",
              "      <td>43.83</td>\n",
              "      <td>59.71</td>\n",
              "      <td>2.00</td>\n",
              "    </tr>\n",
              "  </tbody>\n",
              "</table>\n",
              "</div>"
            ],
            "text/plain": [
              "         vcd    amp    tmp    imp  estado_id\n",
              "count 535.00 535.00 535.00 535.00     535.00\n",
              "mean   14.03  65.99  15.28  23.80       0.98\n",
              "std     2.20  16.57   7.76  11.66       0.82\n",
              "min     1.85   0.86   0.26   0.22       0.00\n",
              "25%    13.70  57.23   9.06  15.02       0.00\n",
              "50%    13.99  67.14  14.46  22.75       1.00\n",
              "75%    14.30  78.41  20.92  32.18       2.00\n",
              "max    29.30  89.96  43.83  59.71       2.00"
            ]
          },
          "metadata": {
            "tags": []
          },
          "execution_count": 10
        }
      ]
    },
    {
      "cell_type": "markdown",
      "metadata": {
        "id": "uZ3RZP7FkEjp",
        "colab_type": "text"
      },
      "source": [
        "Se tiene un total de 535 observaciones para el desarrollo del modelo. \n",
        "\n",
        "De la variable de voltaje de corriente directa (vcd) se puede concluir que tiene un rango entre 1.85 y 29.30, con una desviación estándar (comportamiento de los datos con respeto a la media) de 2.37 no se aprecia mucha dispersión en los datos y el 75% de la información son datos menores o iguales a 14.29.\n",
        "\n",
        "\n",
        "El rango de la variable corriente va desde 0.86 a 89.96 amperios, con una desviación estándar de 16.71 se presenta una dispersión en los datos y el 50% de la información es menor o igual a 67.59."
      ]
    },
    {
      "cell_type": "markdown",
      "metadata": {
        "id": "qjbMELGANHtI",
        "colab_type": "text"
      },
      "source": [
        "Otra variable importante que se le puede ingresar es la potencia = voltaje * corriente ya que los equipos están diseñados para un consumo expresados en Watios que es la unidad de potencia.\n",
        "La integración de voltaje con amperaje da la potencia para que el equipo funcione si unos de estas 2 variables esta fuera de rango, la potencia entregada al equipo seáa diferente a la que el necesita, y en ese momento se puede ir a falla."
      ]
    },
    {
      "cell_type": "code",
      "metadata": {
        "id": "oiqUT7KzL39J",
        "colab_type": "code",
        "colab": {
          "base_uri": "https://localhost:8080/",
          "height": 191
        },
        "outputId": "e5377fd9-a8bc-40ef-88ef-b76401d75df3"
      },
      "source": [
        "# se halla la potencia en KW\n",
        "df_baterias['potencia']=(df_baterias['vcd']*df_baterias['amp'])/1000\n",
        "\n",
        "df_baterias.head()"
      ],
      "execution_count": null,
      "outputs": [
        {
          "output_type": "execute_result",
          "data": {
            "text/html": [
              "<div>\n",
              "<style scoped>\n",
              "    .dataframe tbody tr th:only-of-type {\n",
              "        vertical-align: middle;\n",
              "    }\n",
              "\n",
              "    .dataframe tbody tr th {\n",
              "        vertical-align: top;\n",
              "    }\n",
              "\n",
              "    .dataframe thead th {\n",
              "        text-align: right;\n",
              "    }\n",
              "</style>\n",
              "<table border=\"1\" class=\"dataframe\">\n",
              "  <thead>\n",
              "    <tr style=\"text-align: right;\">\n",
              "      <th></th>\n",
              "      <th>vcd</th>\n",
              "      <th>amp</th>\n",
              "      <th>tmp</th>\n",
              "      <th>imp</th>\n",
              "      <th>estado_id</th>\n",
              "      <th>estado</th>\n",
              "      <th>potencia</th>\n",
              "    </tr>\n",
              "  </thead>\n",
              "  <tbody>\n",
              "    <tr>\n",
              "      <th>0</th>\n",
              "      <td>14.30</td>\n",
              "      <td>68.52</td>\n",
              "      <td>13.83</td>\n",
              "      <td>39.19</td>\n",
              "      <td>0</td>\n",
              "      <td>ok</td>\n",
              "      <td>0.98</td>\n",
              "    </tr>\n",
              "    <tr>\n",
              "      <th>1</th>\n",
              "      <td>14.48</td>\n",
              "      <td>86.92</td>\n",
              "      <td>12.75</td>\n",
              "      <td>32.74</td>\n",
              "      <td>0</td>\n",
              "      <td>ok</td>\n",
              "      <td>1.26</td>\n",
              "    </tr>\n",
              "    <tr>\n",
              "      <th>2</th>\n",
              "      <td>14.18</td>\n",
              "      <td>80.65</td>\n",
              "      <td>5.27</td>\n",
              "      <td>27.58</td>\n",
              "      <td>0</td>\n",
              "      <td>ok</td>\n",
              "      <td>1.14</td>\n",
              "    </tr>\n",
              "    <tr>\n",
              "      <th>3</th>\n",
              "      <td>13.68</td>\n",
              "      <td>56.30</td>\n",
              "      <td>13.96</td>\n",
              "      <td>17.91</td>\n",
              "      <td>0</td>\n",
              "      <td>ok</td>\n",
              "      <td>0.77</td>\n",
              "    </tr>\n",
              "    <tr>\n",
              "      <th>4</th>\n",
              "      <td>13.67</td>\n",
              "      <td>61.49</td>\n",
              "      <td>7.71</td>\n",
              "      <td>26.40</td>\n",
              "      <td>0</td>\n",
              "      <td>ok</td>\n",
              "      <td>0.84</td>\n",
              "    </tr>\n",
              "  </tbody>\n",
              "</table>\n",
              "</div>"
            ],
            "text/plain": [
              "    vcd   amp   tmp   imp  estado_id estado  potencia\n",
              "0 14.30 68.52 13.83 39.19          0     ok      0.98\n",
              "1 14.48 86.92 12.75 32.74          0     ok      1.26\n",
              "2 14.18 80.65  5.27 27.58          0     ok      1.14\n",
              "3 13.68 56.30 13.96 17.91          0     ok      0.77\n",
              "4 13.67 61.49  7.71 26.40          0     ok      0.84"
            ]
          },
          "metadata": {
            "tags": []
          },
          "execution_count": 11
        }
      ]
    },
    {
      "cell_type": "markdown",
      "metadata": {
        "id": "G5J6Za0HB796",
        "colab_type": "text"
      },
      "source": [
        "**Visualización de Datos**"
      ]
    },
    {
      "cell_type": "code",
      "metadata": {
        "id": "v2Bodm8rB6oU",
        "colab_type": "code",
        "colab": {
          "base_uri": "https://localhost:8080/",
          "height": 82
        },
        "outputId": "905098d6-fa4b-4c1b-d3f8-b1fefe8d821f"
      },
      "source": [
        "# Se verifica como se comporta la variable target\n",
        "df_baterias[\"estado\"].value_counts()"
      ],
      "execution_count": null,
      "outputs": [
        {
          "output_type": "execute_result",
          "data": {
            "text/plain": [
              "ok        184\n",
              "alerta    178\n",
              "error     173\n",
              "Name: estado, dtype: int64"
            ]
          },
          "metadata": {
            "tags": []
          },
          "execution_count": 12
        }
      ]
    },
    {
      "cell_type": "code",
      "metadata": {
        "id": "339BmyGsCIsz",
        "colab_type": "code",
        "colab": {
          "base_uri": "https://localhost:8080/",
          "height": 263
        },
        "outputId": "15eef3e7-ba14-488b-9d91-f7c96bfd281e"
      },
      "source": [
        "df_baterias[\"estado\"].value_counts().plot(kind = \"pie\", autopct='%1.1f%%')"
      ],
      "execution_count": null,
      "outputs": [
        {
          "output_type": "execute_result",
          "data": {
            "text/plain": [
              "<matplotlib.axes._subplots.AxesSubplot at 0x7f338e8188d0>"
            ]
          },
          "metadata": {
            "tags": []
          },
          "execution_count": 13
        },
        {
          "output_type": "display_data",
          "data": {
            "image/png": "[encoded data removed]",
            "text/plain": [
              "<Figure size 432x288 with 1 Axes>"
            ]
          },
          "metadata": {
            "tags": []
          }
        }
      ]
    },
    {
      "cell_type": "markdown",
      "metadata": {
        "id": "uEuI40UHCUQi",
        "colab_type": "text"
      },
      "source": [
        "Se verifica que la *variable target* se encuentra balanceda, por lo tanto no hay que aplicar técnicas de remuestreo como **SMOTE** o **RESAMPLE**."
      ]
    },
    {
      "cell_type": "code",
      "metadata": {
        "id": "RvhvH61Nl-cG",
        "colab_type": "code",
        "colab": {
          "base_uri": "https://localhost:8080/",
          "height": 133
        },
        "outputId": "d5a3b2b4-033c-4779-c1d2-eaf1bcb0e82b"
      },
      "source": [
        "est = df_baterias[['estado', 'estado_id', 'vcd']]\n",
        "est2=est.groupby(by=['estado', 'estado_id']).count()\n",
        "\n",
        "# se debe realizar 2 veces para el indice quede creado correctamente\n",
        "est2.reset_index(level=0, inplace=True)\n",
        "est2.reset_index(level=0, inplace=True)\n",
        "\n",
        "\n",
        "est2"
      ],
      "execution_count": null,
      "outputs": [
        {
          "output_type": "execute_result",
          "data": {
            "text/html": [
              "<div>\n",
              "<style scoped>\n",
              "    .dataframe tbody tr th:only-of-type {\n",
              "        vertical-align: middle;\n",
              "    }\n",
              "\n",
              "    .dataframe tbody tr th {\n",
              "        vertical-align: top;\n",
              "    }\n",
              "\n",
              "    .dataframe thead th {\n",
              "        text-align: right;\n",
              "    }\n",
              "</style>\n",
              "<table border=\"1\" class=\"dataframe\">\n",
              "  <thead>\n",
              "    <tr style=\"text-align: right;\">\n",
              "      <th></th>\n",
              "      <th>estado_id</th>\n",
              "      <th>estado</th>\n",
              "      <th>vcd</th>\n",
              "    </tr>\n",
              "  </thead>\n",
              "  <tbody>\n",
              "    <tr>\n",
              "      <th>0</th>\n",
              "      <td>1</td>\n",
              "      <td>alerta</td>\n",
              "      <td>178</td>\n",
              "    </tr>\n",
              "    <tr>\n",
              "      <th>1</th>\n",
              "      <td>2</td>\n",
              "      <td>error</td>\n",
              "      <td>173</td>\n",
              "    </tr>\n",
              "    <tr>\n",
              "      <th>2</th>\n",
              "      <td>0</td>\n",
              "      <td>ok</td>\n",
              "      <td>184</td>\n",
              "    </tr>\n",
              "  </tbody>\n",
              "</table>\n",
              "</div>"
            ],
            "text/plain": [
              "   estado_id  estado  vcd\n",
              "0          1  alerta  178\n",
              "1          2   error  173\n",
              "2          0      ok  184"
            ]
          },
          "metadata": {
            "tags": []
          },
          "execution_count": 14
        }
      ]
    },
    {
      "cell_type": "markdown",
      "metadata": {
        "id": "d-MAeykooC27",
        "colab_type": "text"
      },
      "source": [
        "El estado_id es la representación númerica (una especie de código) de la variable estado la cuál es la descripción o la representación categorica del estado_id.\n"
      ]
    },
    {
      "cell_type": "code",
      "metadata": {
        "id": "JV6FE8BIyStc",
        "colab_type": "code",
        "colab": {
          "base_uri": "https://localhost:8080/",
          "height": 385
        },
        "outputId": "2eb7d4a6-f9c1-4fb3-d912-284bb7f1fc42"
      },
      "source": [
        "sns.catplot(x = \"estado\", y = \"vcd\", data = df_baterias, kind = \"box\")"
      ],
      "execution_count": null,
      "outputs": [
        {
          "output_type": "execute_result",
          "data": {
            "text/plain": [
              "<seaborn.axisgrid.FacetGrid at 0x7f338e796cf8>"
            ]
          },
          "metadata": {
            "tags": []
          },
          "execution_count": 15
        },
        {
          "output_type": "display_data",
          "data": {
            "image/png": "[encoded data removed]",
            "text/plain": [
              "<Figure size 360x360 with 1 Axes>"
            ]
          },
          "metadata": {
            "tags": [],
            "needs_background": "light"
          }
        }
      ]
    },
    {
      "cell_type": "markdown",
      "metadata": {
        "id": "sahFcNUWl2H6",
        "colab_type": "text"
      },
      "source": [
        "la variable de voltaje no presenta dispersión en sus diferentes estados, en el estado de **error** se evidencian unos datos **Outliers** (datos que presentan un comportamiento diferente al resto de los datos), pero no se borran dado que el objetivo es detectar fallos y estos suelen presentarse en los datos atípicos."
      ]
    },
    {
      "cell_type": "code",
      "metadata": {
        "id": "k_K7bg-EysaW",
        "colab_type": "code",
        "colab": {
          "base_uri": "https://localhost:8080/",
          "height": 385
        },
        "outputId": "bc52aa74-1619-46e2-86b2-2161a79274cc"
      },
      "source": [
        "sns.catplot(x = \"estado\", y = \"amp\", data = df_baterias, kind = \"box\")"
      ],
      "execution_count": null,
      "outputs": [
        {
          "output_type": "execute_result",
          "data": {
            "text/plain": [
              "<seaborn.axisgrid.FacetGrid at 0x7f338b9d65f8>"
            ]
          },
          "metadata": {
            "tags": []
          },
          "execution_count": 17
        },
        {
          "output_type": "display_data",
          "data": {
            "image/png": "[encoded data removed]",
            "text/plain": [
              "<Figure size 360x360 with 1 Axes>"
            ]
          },
          "metadata": {
            "tags": [],
            "needs_background": "light"
          }
        }
      ]
    },
    {
      "cell_type": "markdown",
      "metadata": {
        "id": "IhM7spOJnSlV",
        "colab_type": "text"
      },
      "source": [
        "Para la corriente se presenta una distribución normal símetrica para el estado de ok y alerta, y una distribución de skewness negativa. Al igual que en el voltaje la corriente presenta datos atípicos en el estado error, estos valores se conservan por el tema de que es en esos datos atípicos dondé se pueden concentrar las fallas (errores). el amperaje presenta dispersión pero no  es tan impactante."
      ]
    },
    {
      "cell_type": "code",
      "metadata": {
        "id": "VQ3NsZboy2sK",
        "colab_type": "code",
        "colab": {
          "base_uri": "https://localhost:8080/",
          "height": 385
        },
        "outputId": "33af0794-8a9c-438e-9055-60bdfbe8e6fc"
      },
      "source": [
        "sns.catplot(x = \"estado\", y = \"tmp\", data = df_baterias, kind = \"box\")"
      ],
      "execution_count": null,
      "outputs": [
        {
          "output_type": "execute_result",
          "data": {
            "text/plain": [
              "<seaborn.axisgrid.FacetGrid at 0x7f338b961160>"
            ]
          },
          "metadata": {
            "tags": []
          },
          "execution_count": 18
        },
        {
          "output_type": "display_data",
          "data": {
            "image/png": "[encoded data removed]",
            "text/plain": [
              "<Figure size 360x360 with 1 Axes>"
            ]
          },
          "metadata": {
            "tags": [],
            "needs_background": "light"
          }
        }
      ]
    },
    {
      "cell_type": "markdown",
      "metadata": {
        "id": "PE-KVKdgpNGe",
        "colab_type": "text"
      },
      "source": [
        "La temperatura para el estado ok presenta una distribución normal , para el estado error se presenta una distribución asímetrica negativa, y para el estado de alerta se presenta una distribución positiva, los datos presentan dispersión."
      ]
    },
    {
      "cell_type": "code",
      "metadata": {
        "id": "FEp2Ag5Sy48z",
        "colab_type": "code",
        "colab": {
          "base_uri": "https://localhost:8080/",
          "height": 385
        },
        "outputId": "32ec7541-0938-4269-c867-30730af4dc69"
      },
      "source": [
        "sns.catplot(x = \"estado\", y = \"imp\", data = df_baterias, kind = \"box\")"
      ],
      "execution_count": null,
      "outputs": [
        {
          "output_type": "execute_result",
          "data": {
            "text/plain": [
              "<seaborn.axisgrid.FacetGrid at 0x7f338b8774a8>"
            ]
          },
          "metadata": {
            "tags": []
          },
          "execution_count": 19
        },
        {
          "output_type": "display_data",
          "data": {
            "image/png": "[encoded data removed]",
            "text/plain": [
              "<Figure size 360x360 with 1 Axes>"
            ]
          },
          "metadata": {
            "tags": [],
            "needs_background": "light"
          }
        }
      ]
    },
    {
      "cell_type": "markdown",
      "metadata": {
        "id": "CMvUNJAXRrWQ",
        "colab_type": "text"
      },
      "source": [
        "Para la resistencia en el estado ok, error y alerta presentan una distribución normal (media=mediana=moda)"
      ]
    },
    {
      "cell_type": "code",
      "metadata": {
        "id": "fr2ZnTqQOVnM",
        "colab_type": "code",
        "colab": {
          "base_uri": "https://localhost:8080/",
          "height": 721
        },
        "outputId": "f2e722f3-5e31-41fe-b3e0-2fa99ebc9077"
      },
      "source": [
        "df_baterias.hist(bins=30, figsize=(15, 10))"
      ],
      "execution_count": null,
      "outputs": [
        {
          "output_type": "execute_result",
          "data": {
            "text/plain": [
              "array([[<matplotlib.axes._subplots.AxesSubplot object at 0x7f338b81eac8>,\n",
              "        <matplotlib.axes._subplots.AxesSubplot object at 0x7f338b7c87f0>],\n",
              "       [<matplotlib.axes._subplots.AxesSubplot object at 0x7f338b77ca58>,\n",
              "        <matplotlib.axes._subplots.AxesSubplot object at 0x7f338b7b0cc0>],\n",
              "       [<matplotlib.axes._subplots.AxesSubplot object at 0x7f338b765f28>,\n",
              "        <matplotlib.axes._subplots.AxesSubplot object at 0x7f338b7241d0>]],\n",
              "      dtype=object)"
            ]
          },
          "metadata": {
            "tags": []
          },
          "execution_count": 20
        },
        {
          "output_type": "display_data",
          "data": {
            "image/png": "[encoded data removed]",
            "text/plain": [
              "<Figure size 1080x720 with 6 Axes>"
            ]
          },
          "metadata": {
            "tags": [],
            "needs_background": "light"
          }
        }
      ]
    },
    {
      "cell_type": "markdown",
      "metadata": {
        "id": "c_vVbgmNT82g",
        "colab_type": "text"
      },
      "source": [
        "El comportamiento general de las diferentes variables el amperaje presenta una distribución asímetrica positiva, la resistencia presenta una distribución normal con una cola hacia la dercha, la potencia presenta una distribución un poco sesgada hacia la izquierda, el voltaje de corriente directa se centra en 15."
      ]
    },
    {
      "cell_type": "code",
      "metadata": {
        "id": "hZHZLP985KJa",
        "colab_type": "code",
        "colab": {
          "base_uri": "https://localhost:8080/",
          "height": 295
        },
        "outputId": "0f084408-f4b2-4dcb-a136-59445991ce59"
      },
      "source": [
        "sns.scatterplot(x=\"vcd\",y=\"amp\" ,data=df_baterias)"
      ],
      "execution_count": null,
      "outputs": [
        {
          "output_type": "execute_result",
          "data": {
            "text/plain": [
              "<matplotlib.axes._subplots.AxesSubplot at 0x7f338b3c8e80>"
            ]
          },
          "metadata": {
            "tags": []
          },
          "execution_count": 21
        },
        {
          "output_type": "display_data",
          "data": {
            "image/png": "[encoded data removed]",
            "text/plain": [
              "<Figure size 432x288 with 1 Axes>"
            ]
          },
          "metadata": {
            "tags": [],
            "needs_background": "light"
          }
        }
      ]
    },
    {
      "cell_type": "markdown",
      "metadata": {
        "id": "oRdcyEnMI8A2",
        "colab_type": "text"
      },
      "source": [
        "Si partimos de que el voltaje de corriente directa (vdc) es nominal, del anterior gráfico se puede deducir que el estado normal de voltaje es 15, los demás valores son posibles fallas. También se puede interpretar que la carga varía mucho, donde el  mayor consumo se da a partir de 40 amperios."
      ]
    },
    {
      "cell_type": "markdown",
      "metadata": {
        "id": "jRgoOc0LC9-e",
        "colab_type": "text"
      },
      "source": [
        "**Correlación de Datos**"
      ]
    },
    {
      "cell_type": "markdown",
      "metadata": {
        "id": "ga7tcibC_bwp",
        "colab_type": "text"
      },
      "source": [
        "Para hacer uso de la correlación de pearson se deben evaluar las suposiciones de normalidad de la distribución y homogeneidad de la varianza "
      ]
    },
    {
      "cell_type": "code",
      "metadata": {
        "id": "JrcU5NLK8ICx",
        "colab_type": "code",
        "colab": {
          "base_uri": "https://localhost:8080/",
          "height": 66
        },
        "outputId": "c90264ab-c0fd-4806-dc2c-9452bba9f4de"
      },
      "source": [
        "# lo usamos para descartar pearson\n",
        "#prueba que la hipótesis nula de que la asimetría de la población de la que se extrajo la muestra es la misma que la de una distribución normal correspondiente.\n",
        "print(skewtest(df_baterias[\"vcd\"]))\n",
        "print(skewtest(df_baterias[\"amp\"]))\n",
        "\n",
        "#prueba que la hipótesis nula de que todas las muestras de entrada provienen de poblaciones con varianzas iguales, me dice si las varaianzas son homogeneas o no\n",
        "print(levene(df_baterias[\"vcd\"],df_baterias[\"amp\"]))\n",
        "\n",
        "\n",
        "#Un valor p menor significa que hay evidencia más fuerte a favor de la hipótesis alternativa"
      ],
      "execution_count": null,
      "outputs": [
        {
          "output_type": "stream",
          "text": [
            "SkewtestResult(statistic=8.684791578284988, pvalue=3.7943745138759845e-18)\n",
            "SkewtestResult(statistic=-9.535732381635388, pvalue=1.4883129185978712e-21)\n",
            "LeveneResult(statistic=560.4567392997341, pvalue=6.122716476598878e-100)\n"
          ],
          "name": "stdout"
        }
      ]
    },
    {
      "cell_type": "markdown",
      "metadata": {
        "id": "SEc_z0A09e-2",
        "colab_type": "text"
      },
      "source": [
        "Observamos que sí hay una relación lineal entre las variables. Sin embargo, los tests de uniformidad de la distribución y homogeneidad arrojan resultados negativos. Por lo tanto, la prueba de correlación apropiada para usar sería una prueba no paramétrica como la correlación de Spearman o de Kendall."
      ]
    },
    {
      "cell_type": "markdown",
      "metadata": {
        "id": "t8tBcVoo-Cs1",
        "colab_type": "text"
      },
      "source": [
        "**Correlación Kendall**"
      ]
    },
    {
      "cell_type": "code",
      "metadata": {
        "id": "5vOhZDeK4ovx",
        "colab_type": "code",
        "colab": {
          "base_uri": "https://localhost:8080/",
          "height": 141
        },
        "outputId": "6f8467bc-6eb5-4337-fc17-c5663d936dab"
      },
      "source": [
        "corr_k = df_baterias.corr(method = \"kendall\") \n",
        "corr_k.style.background_gradient(cmap='coolwarm')"
      ],
      "execution_count": null,
      "outputs": [
        {
          "output_type": "execute_result",
          "data": {
            "text/html": [
              "<style  type=\"text/css\" >\n",
              "    #T_010811b8_c5fd_11ea_98cc_0242ac1c0002row0_col0 {\n",
              "            background-color:  #b40426;\n",
              "            color:  #f1f1f1;\n",
              "        }    #T_010811b8_c5fd_11ea_98cc_0242ac1c0002row0_col1 {\n",
              "            background-color:  #5e7de7;\n",
              "            color:  #000000;\n",
              "        }    #T_010811b8_c5fd_11ea_98cc_0242ac1c0002row0_col2 {\n",
              "            background-color:  #3c4ec2;\n",
              "            color:  #f1f1f1;\n",
              "        }    #T_010811b8_c5fd_11ea_98cc_0242ac1c0002row0_col3 {\n",
              "            background-color:  #3b4cc0;\n",
              "            color:  #f1f1f1;\n",
              "        }    #T_010811b8_c5fd_11ea_98cc_0242ac1c0002row0_col4 {\n",
              "            background-color:  #6788ee;\n",
              "            color:  #000000;\n",
              "        }    #T_010811b8_c5fd_11ea_98cc_0242ac1c0002row0_col5 {\n",
              "            background-color:  #97b8ff;\n",
              "            color:  #000000;\n",
              "        }    #T_010811b8_c5fd_11ea_98cc_0242ac1c0002row1_col0 {\n",
              "            background-color:  #3b4cc0;\n",
              "            color:  #f1f1f1;\n",
              "        }    #T_010811b8_c5fd_11ea_98cc_0242ac1c0002row1_col1 {\n",
              "            background-color:  #b40426;\n",
              "            color:  #f1f1f1;\n",
              "        }    #T_010811b8_c5fd_11ea_98cc_0242ac1c0002row1_col2 {\n",
              "            background-color:  #3e51c5;\n",
              "            color:  #f1f1f1;\n",
              "        }    #T_010811b8_c5fd_11ea_98cc_0242ac1c0002row1_col3 {\n",
              "            background-color:  #5572df;\n",
              "            color:  #000000;\n",
              "        }    #T_010811b8_c5fd_11ea_98cc_0242ac1c0002row1_col4 {\n",
              "            background-color:  #3c4ec2;\n",
              "            color:  #f1f1f1;\n",
              "        }    #T_010811b8_c5fd_11ea_98cc_0242ac1c0002row1_col5 {\n",
              "            background-color:  #e57058;\n",
              "            color:  #000000;\n",
              "        }    #T_010811b8_c5fd_11ea_98cc_0242ac1c0002row2_col0 {\n",
              "            background-color:  #4961d2;\n",
              "            color:  #f1f1f1;\n",
              "        }    #T_010811b8_c5fd_11ea_98cc_0242ac1c0002row2_col1 {\n",
              "            background-color:  #6f92f3;\n",
              "            color:  #000000;\n",
              "        }    #T_010811b8_c5fd_11ea_98cc_0242ac1c0002row2_col2 {\n",
              "            background-color:  #b40426;\n",
              "            color:  #f1f1f1;\n",
              "        }    #T_010811b8_c5fd_11ea_98cc_0242ac1c0002row2_col3 {\n",
              "            background-color:  #5470de;\n",
              "            color:  #000000;\n",
              "        }    #T_010811b8_c5fd_11ea_98cc_0242ac1c0002row2_col4 {\n",
              "            background-color:  #7ea1fa;\n",
              "            color:  #000000;\n",
              "        }    #T_010811b8_c5fd_11ea_98cc_0242ac1c0002row2_col5 {\n",
              "            background-color:  #6c8ff1;\n",
              "            color:  #000000;\n",
              "        }    #T_010811b8_c5fd_11ea_98cc_0242ac1c0002row3_col0 {\n",
              "            background-color:  #3d50c3;\n",
              "            color:  #f1f1f1;\n",
              "        }    #T_010811b8_c5fd_11ea_98cc_0242ac1c0002row3_col1 {\n",
              "            background-color:  #7b9ff9;\n",
              "            color:  #000000;\n",
              "        }    #T_010811b8_c5fd_11ea_98cc_0242ac1c0002row3_col2 {\n",
              "            background-color:  #4b64d5;\n",
              "            color:  #f1f1f1;\n",
              "        }    #T_010811b8_c5fd_11ea_98cc_0242ac1c0002row3_col3 {\n",
              "            background-color:  #b40426;\n",
              "            color:  #f1f1f1;\n",
              "        }    #T_010811b8_c5fd_11ea_98cc_0242ac1c0002row3_col4 {\n",
              "            background-color:  #6e90f2;\n",
              "            color:  #000000;\n",
              "        }    #T_010811b8_c5fd_11ea_98cc_0242ac1c0002row3_col5 {\n",
              "            background-color:  #779af7;\n",
              "            color:  #000000;\n",
              "        }    #T_010811b8_c5fd_11ea_98cc_0242ac1c0002row4_col0 {\n",
              "            background-color:  #4257c9;\n",
              "            color:  #f1f1f1;\n",
              "        }    #T_010811b8_c5fd_11ea_98cc_0242ac1c0002row4_col1 {\n",
              "            background-color:  #3b4cc0;\n",
              "            color:  #f1f1f1;\n",
              "        }    #T_010811b8_c5fd_11ea_98cc_0242ac1c0002row4_col2 {\n",
              "            background-color:  #4c66d6;\n",
              "            color:  #000000;\n",
              "        }    #T_010811b8_c5fd_11ea_98cc_0242ac1c0002row4_col3 {\n",
              "            background-color:  #445acc;\n",
              "            color:  #f1f1f1;\n",
              "        }    #T_010811b8_c5fd_11ea_98cc_0242ac1c0002row4_col4 {\n",
              "            background-color:  #b40426;\n",
              "            color:  #f1f1f1;\n",
              "        }    #T_010811b8_c5fd_11ea_98cc_0242ac1c0002row4_col5 {\n",
              "            background-color:  #3b4cc0;\n",
              "            color:  #f1f1f1;\n",
              "        }    #T_010811b8_c5fd_11ea_98cc_0242ac1c0002row5_col0 {\n",
              "            background-color:  #7597f6;\n",
              "            color:  #000000;\n",
              "        }    #T_010811b8_c5fd_11ea_98cc_0242ac1c0002row5_col1 {\n",
              "            background-color:  #e57058;\n",
              "            color:  #000000;\n",
              "        }    #T_010811b8_c5fd_11ea_98cc_0242ac1c0002row5_col2 {\n",
              "            background-color:  #3b4cc0;\n",
              "            color:  #f1f1f1;\n",
              "        }    #T_010811b8_c5fd_11ea_98cc_0242ac1c0002row5_col3 {\n",
              "            background-color:  #4f69d9;\n",
              "            color:  #000000;\n",
              "        }    #T_010811b8_c5fd_11ea_98cc_0242ac1c0002row5_col4 {\n",
              "            background-color:  #3b4cc0;\n",
              "            color:  #f1f1f1;\n",
              "        }    #T_010811b8_c5fd_11ea_98cc_0242ac1c0002row5_col5 {\n",
              "            background-color:  #b40426;\n",
              "            color:  #f1f1f1;\n",
              "        }</style><table id=\"T_010811b8_c5fd_11ea_98cc_0242ac1c0002\" ><thead>    <tr>        <th class=\"blank level0\" ></th>        <th class=\"col_heading level0 col0\" >vcd</th>        <th class=\"col_heading level0 col1\" >amp</th>        <th class=\"col_heading level0 col2\" >tmp</th>        <th class=\"col_heading level0 col3\" >imp</th>        <th class=\"col_heading level0 col4\" >estado_id</th>        <th class=\"col_heading level0 col5\" >potencia</th>    </tr></thead><tbody>\n",
              "                <tr>\n",
              "                        <th id=\"T_010811b8_c5fd_11ea_98cc_0242ac1c0002level0_row0\" class=\"row_heading level0 row0\" >vcd</th>\n",
              "                        <td id=\"T_010811b8_c5fd_11ea_98cc_0242ac1c0002row0_col0\" class=\"data row0 col0\" >1.000000</td>\n",
              "                        <td id=\"T_010811b8_c5fd_11ea_98cc_0242ac1c0002row0_col1\" class=\"data row0 col1\" >-0.055550</td>\n",
              "                        <td id=\"T_010811b8_c5fd_11ea_98cc_0242ac1c0002row0_col2\" class=\"data row0 col2\" >-0.004990</td>\n",
              "                        <td id=\"T_010811b8_c5fd_11ea_98cc_0242ac1c0002row0_col3\" class=\"data row0 col3\" >-0.044301</td>\n",
              "                        <td id=\"T_010811b8_c5fd_11ea_98cc_0242ac1c0002row0_col4\" class=\"data row0 col4\" >-0.030019</td>\n",
              "                        <td id=\"T_010811b8_c5fd_11ea_98cc_0242ac1c0002row0_col5\" class=\"data row0 col5\" >0.136462</td>\n",
              "            </tr>\n",
              "            <tr>\n",
              "                        <th id=\"T_010811b8_c5fd_11ea_98cc_0242ac1c0002level0_row1\" class=\"row_heading level0 row1\" >amp</th>\n",
              "                        <td id=\"T_010811b8_c5fd_11ea_98cc_0242ac1c0002row1_col0\" class=\"data row1 col0\" >-0.055550</td>\n",
              "                        <td id=\"T_010811b8_c5fd_11ea_98cc_0242ac1c0002row1_col1\" class=\"data row1 col1\" >1.000000</td>\n",
              "                        <td id=\"T_010811b8_c5fd_11ea_98cc_0242ac1c0002row1_col2\" class=\"data row1 col2\" >0.003018</td>\n",
              "                        <td id=\"T_010811b8_c5fd_11ea_98cc_0242ac1c0002row1_col3\" class=\"data row1 col3\" >0.045655</td>\n",
              "                        <td id=\"T_010811b8_c5fd_11ea_98cc_0242ac1c0002row1_col4\" class=\"data row1 col4\" >-0.195046</td>\n",
              "                        <td id=\"T_010811b8_c5fd_11ea_98cc_0242ac1c0002row1_col5\" class=\"data row1 col5\" >0.808787</td>\n",
              "            </tr>\n",
              "            <tr>\n",
              "                        <th id=\"T_010811b8_c5fd_11ea_98cc_0242ac1c0002level0_row2\" class=\"row_heading level0 row2\" >tmp</th>\n",
              "                        <td id=\"T_010811b8_c5fd_11ea_98cc_0242ac1c0002row2_col0\" class=\"data row2 col0\" >-0.004990</td>\n",
              "                        <td id=\"T_010811b8_c5fd_11ea_98cc_0242ac1c0002row2_col1\" class=\"data row2 col1\" >0.003018</td>\n",
              "                        <td id=\"T_010811b8_c5fd_11ea_98cc_0242ac1c0002row2_col2\" class=\"data row2 col2\" >1.000000</td>\n",
              "                        <td id=\"T_010811b8_c5fd_11ea_98cc_0242ac1c0002row2_col3\" class=\"data row2 col3\" >0.045193</td>\n",
              "                        <td id=\"T_010811b8_c5fd_11ea_98cc_0242ac1c0002row2_col4\" class=\"data row2 col4\" >0.051855</td>\n",
              "                        <td id=\"T_010811b8_c5fd_11ea_98cc_0242ac1c0002row2_col5\" class=\"data row2 col5\" >-0.011064</td>\n",
              "            </tr>\n",
              "            <tr>\n",
              "                        <th id=\"T_010811b8_c5fd_11ea_98cc_0242ac1c0002level0_row3\" class=\"row_heading level0 row3\" >imp</th>\n",
              "                        <td id=\"T_010811b8_c5fd_11ea_98cc_0242ac1c0002row3_col0\" class=\"data row3 col0\" >-0.044301</td>\n",
              "                        <td id=\"T_010811b8_c5fd_11ea_98cc_0242ac1c0002row3_col1\" class=\"data row3 col1\" >0.045655</td>\n",
              "                        <td id=\"T_010811b8_c5fd_11ea_98cc_0242ac1c0002row3_col2\" class=\"data row3 col2\" >0.045193</td>\n",
              "                        <td id=\"T_010811b8_c5fd_11ea_98cc_0242ac1c0002row3_col3\" class=\"data row3 col3\" >1.000000</td>\n",
              "                        <td id=\"T_010811b8_c5fd_11ea_98cc_0242ac1c0002row3_col4\" class=\"data row3 col4\" >-0.007686</td>\n",
              "                        <td id=\"T_010811b8_c5fd_11ea_98cc_0242ac1c0002row3_col5\" class=\"data row3 col5\" >0.027936</td>\n",
              "            </tr>\n",
              "            <tr>\n",
              "                        <th id=\"T_010811b8_c5fd_11ea_98cc_0242ac1c0002level0_row4\" class=\"row_heading level0 row4\" >estado_id</th>\n",
              "                        <td id=\"T_010811b8_c5fd_11ea_98cc_0242ac1c0002row4_col0\" class=\"data row4 col0\" >-0.030019</td>\n",
              "                        <td id=\"T_010811b8_c5fd_11ea_98cc_0242ac1c0002row4_col1\" class=\"data row4 col1\" >-0.195046</td>\n",
              "                        <td id=\"T_010811b8_c5fd_11ea_98cc_0242ac1c0002row4_col2\" class=\"data row4 col2\" >0.051855</td>\n",
              "                        <td id=\"T_010811b8_c5fd_11ea_98cc_0242ac1c0002row4_col3\" class=\"data row4 col3\" >-0.007686</td>\n",
              "                        <td id=\"T_010811b8_c5fd_11ea_98cc_0242ac1c0002row4_col4\" class=\"data row4 col4\" >1.000000</td>\n",
              "                        <td id=\"T_010811b8_c5fd_11ea_98cc_0242ac1c0002row4_col5\" class=\"data row4 col5\" >-0.200971</td>\n",
              "            </tr>\n",
              "            <tr>\n",
              "                        <th id=\"T_010811b8_c5fd_11ea_98cc_0242ac1c0002level0_row5\" class=\"row_heading level0 row5\" >potencia</th>\n",
              "                        <td id=\"T_010811b8_c5fd_11ea_98cc_0242ac1c0002row5_col0\" class=\"data row5 col0\" >0.136462</td>\n",
              "                        <td id=\"T_010811b8_c5fd_11ea_98cc_0242ac1c0002row5_col1\" class=\"data row5 col1\" >0.808787</td>\n",
              "                        <td id=\"T_010811b8_c5fd_11ea_98cc_0242ac1c0002row5_col2\" class=\"data row5 col2\" >-0.011064</td>\n",
              "                        <td id=\"T_010811b8_c5fd_11ea_98cc_0242ac1c0002row5_col3\" class=\"data row5 col3\" >0.027936</td>\n",
              "                        <td id=\"T_010811b8_c5fd_11ea_98cc_0242ac1c0002row5_col4\" class=\"data row5 col4\" >-0.200971</td>\n",
              "                        <td id=\"T_010811b8_c5fd_11ea_98cc_0242ac1c0002row5_col5\" class=\"data row5 col5\" >1.000000</td>\n",
              "            </tr>\n",
              "    </tbody></table>"
            ],
            "text/plain": [
              "<pandas.io.formats.style.Styler at 0x7f338b371630>"
            ]
          },
          "metadata": {
            "tags": []
          },
          "execution_count": 23
        }
      ]
    },
    {
      "cell_type": "markdown",
      "metadata": {
        "id": "K4WJmEXE-Mtq",
        "colab_type": "text"
      },
      "source": [
        "**Correlación de Spearman**"
      ]
    },
    {
      "cell_type": "code",
      "metadata": {
        "id": "p0CGykPS9wlG",
        "colab_type": "code",
        "colab": {
          "base_uri": "https://localhost:8080/",
          "height": 141
        },
        "outputId": "d778ab88-d34e-4e2e-e312-a63fb7dd7806"
      },
      "source": [
        "corr_s = df_baterias.corr(method = \"spearman\")\n",
        "corr_s.style.background_gradient(cmap='coolwarm')"
      ],
      "execution_count": null,
      "outputs": [
        {
          "output_type": "execute_result",
          "data": {
            "text/html": [
              "<style  type=\"text/css\" >\n",
              "    #T_024daba0_c5fd_11ea_98cc_0242ac1c0002row0_col0 {\n",
              "            background-color:  #b40426;\n",
              "            color:  #f1f1f1;\n",
              "        }    #T_024daba0_c5fd_11ea_98cc_0242ac1c0002row0_col1 {\n",
              "            background-color:  #6282ea;\n",
              "            color:  #000000;\n",
              "        }    #T_024daba0_c5fd_11ea_98cc_0242ac1c0002row0_col2 {\n",
              "            background-color:  #3c4ec2;\n",
              "            color:  #f1f1f1;\n",
              "        }    #T_024daba0_c5fd_11ea_98cc_0242ac1c0002row0_col3 {\n",
              "            background-color:  #3b4cc0;\n",
              "            color:  #f1f1f1;\n",
              "        }    #T_024daba0_c5fd_11ea_98cc_0242ac1c0002row0_col4 {\n",
              "            background-color:  #6f92f3;\n",
              "            color:  #000000;\n",
              "        }    #T_024daba0_c5fd_11ea_98cc_0242ac1c0002row0_col5 {\n",
              "            background-color:  #b2ccfb;\n",
              "            color:  #000000;\n",
              "        }    #T_024daba0_c5fd_11ea_98cc_0242ac1c0002row1_col0 {\n",
              "            background-color:  #3b4cc0;\n",
              "            color:  #f1f1f1;\n",
              "        }    #T_024daba0_c5fd_11ea_98cc_0242ac1c0002row1_col1 {\n",
              "            background-color:  #b40426;\n",
              "            color:  #f1f1f1;\n",
              "        }    #T_024daba0_c5fd_11ea_98cc_0242ac1c0002row1_col2 {\n",
              "            background-color:  #3f53c6;\n",
              "            color:  #f1f1f1;\n",
              "        }    #T_024daba0_c5fd_11ea_98cc_0242ac1c0002row1_col3 {\n",
              "            background-color:  #6180e9;\n",
              "            color:  #000000;\n",
              "        }    #T_024daba0_c5fd_11ea_98cc_0242ac1c0002row1_col4 {\n",
              "            background-color:  #3b4cc0;\n",
              "            color:  #f1f1f1;\n",
              "        }    #T_024daba0_c5fd_11ea_98cc_0242ac1c0002row1_col5 {\n",
              "            background-color:  #cf453c;\n",
              "            color:  #f1f1f1;\n",
              "        }    #T_024daba0_c5fd_11ea_98cc_0242ac1c0002row2_col0 {\n",
              "            background-color:  #506bda;\n",
              "            color:  #000000;\n",
              "        }    #T_024daba0_c5fd_11ea_98cc_0242ac1c0002row2_col1 {\n",
              "            background-color:  #7b9ff9;\n",
              "            color:  #000000;\n",
              "        }    #T_024daba0_c5fd_11ea_98cc_0242ac1c0002row2_col2 {\n",
              "            background-color:  #b40426;\n",
              "            color:  #f1f1f1;\n",
              "        }    #T_024daba0_c5fd_11ea_98cc_0242ac1c0002row2_col3 {\n",
              "            background-color:  #6180e9;\n",
              "            color:  #000000;\n",
              "        }    #T_024daba0_c5fd_11ea_98cc_0242ac1c0002row2_col4 {\n",
              "            background-color:  #8db0fe;\n",
              "            color:  #000000;\n",
              "        }    #T_024daba0_c5fd_11ea_98cc_0242ac1c0002row2_col5 {\n",
              "            background-color:  #7699f6;\n",
              "            color:  #000000;\n",
              "        }    #T_024daba0_c5fd_11ea_98cc_0242ac1c0002row3_col0 {\n",
              "            background-color:  #4055c8;\n",
              "            color:  #f1f1f1;\n",
              "        }    #T_024daba0_c5fd_11ea_98cc_0242ac1c0002row3_col1 {\n",
              "            background-color:  #8db0fe;\n",
              "            color:  #000000;\n",
              "        }    #T_024daba0_c5fd_11ea_98cc_0242ac1c0002row3_col2 {\n",
              "            background-color:  #5470de;\n",
              "            color:  #000000;\n",
              "        }    #T_024daba0_c5fd_11ea_98cc_0242ac1c0002row3_col3 {\n",
              "            background-color:  #b40426;\n",
              "            color:  #f1f1f1;\n",
              "        }    #T_024daba0_c5fd_11ea_98cc_0242ac1c0002row3_col4 {\n",
              "            background-color:  #779af7;\n",
              "            color:  #000000;\n",
              "        }    #T_024daba0_c5fd_11ea_98cc_0242ac1c0002row3_col5 {\n",
              "            background-color:  #86a9fc;\n",
              "            color:  #000000;\n",
              "        }    #T_024daba0_c5fd_11ea_98cc_0242ac1c0002row4_col0 {\n",
              "            background-color:  #465ecf;\n",
              "            color:  #f1f1f1;\n",
              "        }    #T_024daba0_c5fd_11ea_98cc_0242ac1c0002row4_col1 {\n",
              "            background-color:  #3b4cc0;\n",
              "            color:  #f1f1f1;\n",
              "        }    #T_024daba0_c5fd_11ea_98cc_0242ac1c0002row4_col2 {\n",
              "            background-color:  #5470de;\n",
              "            color:  #000000;\n",
              "        }    #T_024daba0_c5fd_11ea_98cc_0242ac1c0002row4_col3 {\n",
              "            background-color:  #4961d2;\n",
              "            color:  #f1f1f1;\n",
              "        }    #T_024daba0_c5fd_11ea_98cc_0242ac1c0002row4_col4 {\n",
              "            background-color:  #b40426;\n",
              "            color:  #f1f1f1;\n",
              "        }    #T_024daba0_c5fd_11ea_98cc_0242ac1c0002row4_col5 {\n",
              "            background-color:  #3b4cc0;\n",
              "            color:  #f1f1f1;\n",
              "        }    #T_024daba0_c5fd_11ea_98cc_0242ac1c0002row5_col0 {\n",
              "            background-color:  #90b2fe;\n",
              "            color:  #000000;\n",
              "        }    #T_024daba0_c5fd_11ea_98cc_0242ac1c0002row5_col1 {\n",
              "            background-color:  #cf453c;\n",
              "            color:  #f1f1f1;\n",
              "        }    #T_024daba0_c5fd_11ea_98cc_0242ac1c0002row5_col2 {\n",
              "            background-color:  #3b4cc0;\n",
              "            color:  #f1f1f1;\n",
              "        }    #T_024daba0_c5fd_11ea_98cc_0242ac1c0002row5_col3 {\n",
              "            background-color:  #5977e3;\n",
              "            color:  #000000;\n",
              "        }    #T_024daba0_c5fd_11ea_98cc_0242ac1c0002row5_col4 {\n",
              "            background-color:  #3b4cc0;\n",
              "            color:  #f1f1f1;\n",
              "        }    #T_024daba0_c5fd_11ea_98cc_0242ac1c0002row5_col5 {\n",
              "            background-color:  #b40426;\n",
              "            color:  #f1f1f1;\n",
              "        }</style><table id=\"T_024daba0_c5fd_11ea_98cc_0242ac1c0002\" ><thead>    <tr>        <th class=\"blank level0\" ></th>        <th class=\"col_heading level0 col0\" >vcd</th>        <th class=\"col_heading level0 col1\" >amp</th>        <th class=\"col_heading level0 col2\" >tmp</th>        <th class=\"col_heading level0 col3\" >imp</th>        <th class=\"col_heading level0 col4\" >estado_id</th>        <th class=\"col_heading level0 col5\" >potencia</th>    </tr></thead><tbody>\n",
              "                <tr>\n",
              "                        <th id=\"T_024daba0_c5fd_11ea_98cc_0242ac1c0002level0_row0\" class=\"row_heading level0 row0\" >vcd</th>\n",
              "                        <td id=\"T_024daba0_c5fd_11ea_98cc_0242ac1c0002row0_col0\" class=\"data row0 col0\" >1.000000</td>\n",
              "                        <td id=\"T_024daba0_c5fd_11ea_98cc_0242ac1c0002row0_col1\" class=\"data row0 col1\" >-0.085974</td>\n",
              "                        <td id=\"T_024daba0_c5fd_11ea_98cc_0242ac1c0002row0_col2\" class=\"data row0 col2\" >-0.008749</td>\n",
              "                        <td id=\"T_024daba0_c5fd_11ea_98cc_0242ac1c0002row0_col3\" class=\"data row0 col3\" >-0.064160</td>\n",
              "                        <td id=\"T_024daba0_c5fd_11ea_98cc_0242ac1c0002row0_col4\" class=\"data row0 col4\" >-0.039981</td>\n",
              "                        <td id=\"T_024daba0_c5fd_11ea_98cc_0242ac1c0002row0_col5\" class=\"data row0 col5\" >0.197248</td>\n",
              "            </tr>\n",
              "            <tr>\n",
              "                        <th id=\"T_024daba0_c5fd_11ea_98cc_0242ac1c0002level0_row1\" class=\"row_heading level0 row1\" >amp</th>\n",
              "                        <td id=\"T_024daba0_c5fd_11ea_98cc_0242ac1c0002row1_col0\" class=\"data row1 col0\" >-0.085974</td>\n",
              "                        <td id=\"T_024daba0_c5fd_11ea_98cc_0242ac1c0002row1_col1\" class=\"data row1 col1\" >1.000000</td>\n",
              "                        <td id=\"T_024daba0_c5fd_11ea_98cc_0242ac1c0002row1_col2\" class=\"data row1 col2\" >0.003654</td>\n",
              "                        <td id=\"T_024daba0_c5fd_11ea_98cc_0242ac1c0002row1_col3\" class=\"data row1 col3\" >0.068178</td>\n",
              "                        <td id=\"T_024daba0_c5fd_11ea_98cc_0242ac1c0002row1_col4\" class=\"data row1 col4\" >-0.245945</td>\n",
              "                        <td id=\"T_024daba0_c5fd_11ea_98cc_0242ac1c0002row1_col5\" class=\"data row1 col5\" >0.903088</td>\n",
              "            </tr>\n",
              "            <tr>\n",
              "                        <th id=\"T_024daba0_c5fd_11ea_98cc_0242ac1c0002level0_row2\" class=\"row_heading level0 row2\" >tmp</th>\n",
              "                        <td id=\"T_024daba0_c5fd_11ea_98cc_0242ac1c0002row2_col0\" class=\"data row2 col0\" >-0.008749</td>\n",
              "                        <td id=\"T_024daba0_c5fd_11ea_98cc_0242ac1c0002row2_col1\" class=\"data row2 col1\" >0.003654</td>\n",
              "                        <td id=\"T_024daba0_c5fd_11ea_98cc_0242ac1c0002row2_col2\" class=\"data row2 col2\" >1.000000</td>\n",
              "                        <td id=\"T_024daba0_c5fd_11ea_98cc_0242ac1c0002row2_col3\" class=\"data row2 col3\" >0.068798</td>\n",
              "                        <td id=\"T_024daba0_c5fd_11ea_98cc_0242ac1c0002row2_col4\" class=\"data row2 col4\" >0.070170</td>\n",
              "                        <td id=\"T_024daba0_c5fd_11ea_98cc_0242ac1c0002row2_col5\" class=\"data row2 col5\" >-0.015923</td>\n",
              "            </tr>\n",
              "            <tr>\n",
              "                        <th id=\"T_024daba0_c5fd_11ea_98cc_0242ac1c0002level0_row3\" class=\"row_heading level0 row3\" >imp</th>\n",
              "                        <td id=\"T_024daba0_c5fd_11ea_98cc_0242ac1c0002row3_col0\" class=\"data row3 col0\" >-0.064160</td>\n",
              "                        <td id=\"T_024daba0_c5fd_11ea_98cc_0242ac1c0002row3_col1\" class=\"data row3 col1\" >0.068178</td>\n",
              "                        <td id=\"T_024daba0_c5fd_11ea_98cc_0242ac1c0002row3_col2\" class=\"data row3 col2\" >0.068798</td>\n",
              "                        <td id=\"T_024daba0_c5fd_11ea_98cc_0242ac1c0002row3_col3\" class=\"data row3 col3\" >1.000000</td>\n",
              "                        <td id=\"T_024daba0_c5fd_11ea_98cc_0242ac1c0002row3_col4\" class=\"data row3 col4\" >-0.011126</td>\n",
              "                        <td id=\"T_024daba0_c5fd_11ea_98cc_0242ac1c0002row3_col5\" class=\"data row3 col5\" >0.043240</td>\n",
              "            </tr>\n",
              "            <tr>\n",
              "                        <th id=\"T_024daba0_c5fd_11ea_98cc_0242ac1c0002level0_row4\" class=\"row_heading level0 row4\" >estado_id</th>\n",
              "                        <td id=\"T_024daba0_c5fd_11ea_98cc_0242ac1c0002row4_col0\" class=\"data row4 col0\" >-0.039981</td>\n",
              "                        <td id=\"T_024daba0_c5fd_11ea_98cc_0242ac1c0002row4_col1\" class=\"data row4 col1\" >-0.245945</td>\n",
              "                        <td id=\"T_024daba0_c5fd_11ea_98cc_0242ac1c0002row4_col2\" class=\"data row4 col2\" >0.070170</td>\n",
              "                        <td id=\"T_024daba0_c5fd_11ea_98cc_0242ac1c0002row4_col3\" class=\"data row4 col3\" >-0.011126</td>\n",
              "                        <td id=\"T_024daba0_c5fd_11ea_98cc_0242ac1c0002row4_col4\" class=\"data row4 col4\" >1.000000</td>\n",
              "                        <td id=\"T_024daba0_c5fd_11ea_98cc_0242ac1c0002row4_col5\" class=\"data row4 col5\" >-0.246046</td>\n",
              "            </tr>\n",
              "            <tr>\n",
              "                        <th id=\"T_024daba0_c5fd_11ea_98cc_0242ac1c0002level0_row5\" class=\"row_heading level0 row5\" >potencia</th>\n",
              "                        <td id=\"T_024daba0_c5fd_11ea_98cc_0242ac1c0002row5_col0\" class=\"data row5 col0\" >0.197248</td>\n",
              "                        <td id=\"T_024daba0_c5fd_11ea_98cc_0242ac1c0002row5_col1\" class=\"data row5 col1\" >0.903088</td>\n",
              "                        <td id=\"T_024daba0_c5fd_11ea_98cc_0242ac1c0002row5_col2\" class=\"data row5 col2\" >-0.015923</td>\n",
              "                        <td id=\"T_024daba0_c5fd_11ea_98cc_0242ac1c0002row5_col3\" class=\"data row5 col3\" >0.043240</td>\n",
              "                        <td id=\"T_024daba0_c5fd_11ea_98cc_0242ac1c0002row5_col4\" class=\"data row5 col4\" >-0.246046</td>\n",
              "                        <td id=\"T_024daba0_c5fd_11ea_98cc_0242ac1c0002row5_col5\" class=\"data row5 col5\" >1.000000</td>\n",
              "            </tr>\n",
              "    </tbody></table>"
            ],
            "text/plain": [
              "<pandas.io.formats.style.Styler at 0x7f338b0edfd0>"
            ]
          },
          "metadata": {
            "tags": []
          },
          "execution_count": 24
        }
      ]
    },
    {
      "cell_type": "markdown",
      "metadata": {
        "id": "SxQvKcITDG66",
        "colab_type": "text"
      },
      "source": [
        "Se evidencia que la hipotesis planteda de la potencia se rechaza dado que presenta una alta correlación con el amperaje (corriente) por lo tanto se puede descartar. De resto no se evidencia una alta correlación entre las variables, por lo tanto para desarrollar los modelos se  hace uso de todas las características excepto de potencia y estado_id que está altamente relacionada con la variable target."
      ]
    },
    {
      "cell_type": "markdown",
      "metadata": {
        "id": "5UBeqToz_6Mx",
        "colab_type": "text"
      },
      "source": [
        "# 3. Preprocesamiento de la información"
      ]
    },
    {
      "cell_type": "markdown",
      "metadata": {
        "id": "X0sEppKPEKCs",
        "colab_type": "text"
      },
      "source": [
        "Se elimina la variable estado, ya que es una variable que nos indica lo mismo que la variable estado_id, nos quedamos con la variable de estado_id ya que para la implementación de modelos de Machine learning lo ideal es trabajar con tipos de datos númericos.\n"
      ]
    },
    {
      "cell_type": "markdown",
      "metadata": {
        "id": "ctiIF0gGPhQn",
        "colab_type": "text"
      },
      "source": [
        "una muy buena práctica es hacerle una copia al dataframe por si sucede algo no volverlo a cargar"
      ]
    },
    {
      "cell_type": "code",
      "metadata": {
        "id": "zWRTa6r_Pqf8",
        "colab_type": "code",
        "colab": {}
      },
      "source": [
        "df_baterias_p = df_baterias"
      ],
      "execution_count": null,
      "outputs": []
    },
    {
      "cell_type": "code",
      "metadata": {
        "id": "WhOOl2nCDgvD",
        "colab_type": "code",
        "colab": {}
      },
      "source": [
        "del df_baterias_p['estado']\n",
        "del df_baterias_p['potencia']"
      ],
      "execution_count": null,
      "outputs": []
    },
    {
      "cell_type": "code",
      "metadata": {
        "id": "2uVVE6cACTji",
        "colab_type": "code",
        "colab": {
          "base_uri": "https://localhost:8080/",
          "height": 33
        },
        "outputId": "f50a34e4-b859-4033-99ac-892073c8e884"
      },
      "source": [
        "# Se verifica que la variable estado y potencia ya no esté en el dataframe\n",
        "df_baterias_p.columns"
      ],
      "execution_count": null,
      "outputs": [
        {
          "output_type": "execute_result",
          "data": {
            "text/plain": [
              "Index(['vcd', 'amp', 'tmp', 'imp', 'estado_id'], dtype='object')"
            ]
          },
          "metadata": {
            "tags": []
          },
          "execution_count": 27
        }
      ]
    },
    {
      "cell_type": "markdown",
      "metadata": {
        "id": "5yzb16-3ADl6",
        "colab_type": "text"
      },
      "source": [
        "# 4. Implementación modelo de Machine Learning"
      ]
    },
    {
      "cell_type": "markdown",
      "metadata": {
        "id": "HjDmTEexP479",
        "colab_type": "text"
      },
      "source": [
        "Se deben separar los arrays, queda uno para  las variables predictoras (X) y otro  para la variable target (y)\n"
      ]
    },
    {
      "cell_type": "code",
      "metadata": {
        "id": "B_V-Y3BoIPKM",
        "colab_type": "code",
        "colab": {}
      },
      "source": [
        "X = df_baterias_p.drop([\"estado_id\"], axis=1)\n",
        "y = df_baterias_p['estado_id']"
      ],
      "execution_count": null,
      "outputs": []
    },
    {
      "cell_type": "markdown",
      "metadata": {
        "id": "-uoO3CaPQdZf",
        "colab_type": "text"
      },
      "source": [
        "Luego con el dataframe de implementación se separan los datos en entrenamiento (80%) y prueba (20%)"
      ]
    },
    {
      "cell_type": "code",
      "metadata": {
        "id": "bxWwe0y5P3Wu",
        "colab_type": "code",
        "colab": {}
      },
      "source": [
        "X_train, X_test, y_train, y_test = train_test_split(X, y, test_size=0.2, random_state=42)"
      ],
      "execution_count": null,
      "outputs": []
    },
    {
      "cell_type": "markdown",
      "metadata": {
        "id": "M9ofa2lYa7gs",
        "colab_type": "text"
      },
      "source": [
        "Se escalan los datos para que los algoritmos tengan un mejor rendimiento"
      ]
    },
    {
      "cell_type": "code",
      "metadata": {
        "id": "CaIh-GHYa6s8",
        "colab_type": "code",
        "colab": {}
      },
      "source": [
        "X_train = preprocessing.scale(X_train)\n",
        "X_test = preprocessing.scale(X_test)"
      ],
      "execution_count": null,
      "outputs": []
    },
    {
      "cell_type": "markdown",
      "metadata": {
        "id": "fWanst6_sDWp",
        "colab_type": "text"
      },
      "source": [
        "# Funciones para entrenamiento y validación"
      ]
    },
    {
      "cell_type": "code",
      "metadata": {
        "id": "ztBsOA9hrjKA",
        "colab_type": "code",
        "colab": {}
      },
      "source": [
        "#Se crea un diccionario que contendrá cada uno de los mejores modelos obtenidos con el GridSearchCV\n",
        "best_models = {}"
      ],
      "execution_count": null,
      "outputs": []
    },
    {
      "cell_type": "markdown",
      "metadata": {
        "id": "KLOAUCPGDnpG",
        "colab_type": "text"
      },
      "source": [
        "**Función creada para la optimización de hiperparámetros**"
      ]
    },
    {
      "cell_type": "markdown",
      "metadata": {
        "id": "HglSJOLmlvjd",
        "colab_type": "text"
      },
      "source": [
        "Para la evaluación de los modelos se hará uso de la métrica del **recall**, la cuál nos indica la proporción de fallas que se identifican correctamente, sobre el # total de fallas que efectivamente están en el dataset."
      ]
    },
    {
      "cell_type": "code",
      "metadata": {
        "id": "5uJkCivjr_xy",
        "colab_type": "code",
        "colab": {}
      },
      "source": [
        "def Grid_Search(parameters,model):\n",
        "    \n",
        "    grid_search = GridSearchCV(estimator=model, \n",
        "                           scoring='recall_weighted',\n",
        "                           param_grid=parameters,\n",
        "                           return_train_score = True,\n",
        "                           cv = 5,\n",
        "                           n_jobs = -1,\n",
        "                           verbose = 2)\n",
        "    \n",
        "    grid_search = grid_search.fit(X_train, y_train)\n",
        "    \n",
        "    grid_scores = pd.DataFrame(grid_search.cv_results_['params'])\n",
        "    grid_scores['mean_train_score'] = grid_search.cv_results_['mean_train_score']\n",
        "    grid_scores['mean_test_score'] = grid_search.cv_results_['mean_test_score']\n",
        "    \n",
        "    grid_best_params = grid_search.best_params_\n",
        "    \n",
        "    optimised_model = grid_search.best_estimator_\n",
        "    \n",
        "    return grid_search, grid_scores, grid_best_params, optimised_model"
      ],
      "execution_count": null,
      "outputs": []
    },
    {
      "cell_type": "markdown",
      "metadata": {
        "id": "Z1KOzIqXUhrF",
        "colab_type": "text"
      },
      "source": [
        "Se define una función para gráficar la matriz de confusión"
      ]
    },
    {
      "cell_type": "code",
      "metadata": {
        "id": "8fTmFG5bUmqu",
        "colab_type": "code",
        "colab": {}
      },
      "source": [
        "def plot_confusion_matrix(cm, classes,\n",
        "                          normalize=False,\n",
        "                          title='Confusion matrix',\n",
        "                          cmap=plt.cm.Blues):\n",
        "    if normalize:\n",
        "        cm = cm.astype('float') / cm.sum(axis=1)[:, np.newaxis]\n",
        "        print(\"Normalized confusion matrix\")\n",
        "    else:\n",
        "        print('Matriz de confusión sin normalización')\n",
        "\n",
        "    print(cm)\n",
        "\n",
        "    plt.imshow(cm, interpolation='nearest', cmap=cmap)\n",
        "    plt.title(title)\n",
        "    plt.colorbar()\n",
        "    tick_marks = np.arange(len(classes))\n",
        "    plt.xticks(tick_marks, classes, rotation=45)\n",
        "    plt.yticks(tick_marks, classes)\n",
        "\n",
        "    fmt = '.2f' if normalize else 'd'\n",
        "    thresh = cm.max() / 2.\n",
        "    for i, j in itertools.product(range(cm.shape[0]), range(cm.shape[1])):\n",
        "        plt.text(j, i, format(cm[i, j], fmt),\n",
        "                 horizontalalignment=\"center\",\n",
        "                 color=\"white\" if cm[i, j] > thresh else \"black\")\n",
        "\n",
        "    plt.tight_layout()\n",
        "    plt.ylabel('Verdadero')\n",
        "    plt.xlabel('Predicción')"
      ],
      "execution_count": null,
      "outputs": []
    },
    {
      "cell_type": "markdown",
      "metadata": {
        "id": "Sxdt_R8zPBaE",
        "colab_type": "text"
      },
      "source": [
        "#1. K vecinos más cercanos"
      ]
    },
    {
      "cell_type": "markdown",
      "metadata": {
        "id": "ZCW0nwm3BEZg",
        "colab_type": "text"
      },
      "source": [
        "Es un algoritmo de distancias dondé el hiperparámetro a calibrar es la cantidad de vecinos"
      ]
    },
    {
      "cell_type": "markdown",
      "metadata": {
        "id": "Xn3US6aULLxv",
        "colab_type": "text"
      },
      "source": [
        "Se hace uso de las **Curvas de validación** para detectar el rango del hiperparámetro cantidad de vecinos dondé se maximice el accuracy\n"
      ]
    },
    {
      "cell_type": "code",
      "metadata": {
        "id": "8Imy24sBJ6hx",
        "colab_type": "code",
        "colab": {
          "base_uri": "https://localhost:8080/",
          "height": 953
        },
        "outputId": "135699eb-2dc9-4d5d-e6f9-c2b607ea2962"
      },
      "source": [
        "n_neighbors = np.arange(0, 30)\n",
        "train_score, val_score = validation_curve(KNeighborsClassifier(), X, y,\n",
        "                                          'n_neighbors', n_neighbors, cv=10)\n",
        "\n",
        "plt.plot(n_neighbors, np.median(train_score, 1), color='blue', label='Puntaje de entrenamiento')\n",
        "plt.plot(n_neighbors, np.median(val_score, 1), color='red', label='Puntaje de validación')\n",
        "plt.legend(loc='best')\n",
        "plt.ylim(0, 1)\n",
        "plt.xlabel('n_neighbors')\n",
        "plt.ylabel('Puntaje');"
      ],
      "execution_count": null,
      "outputs": [
        {
          "output_type": "stream",
          "text": [
            "/usr/local/lib/python3.6/dist-packages/sklearn/model_selection/_validation.py:536: FitFailedWarning: Estimator fit failed. The score on this train-test partition for these parameters will be set to nan. Details: \n",
            "ValueError: Expected n_neighbors > 0. Got 0\n",
            "\n",
            "  FitFailedWarning)\n",
            "/usr/local/lib/python3.6/dist-packages/sklearn/model_selection/_validation.py:536: FitFailedWarning: Estimator fit failed. The score on this train-test partition for these parameters will be set to nan. Details: \n",
            "ValueError: Expected n_neighbors > 0. Got 0\n",
            "\n",
            "  FitFailedWarning)\n",
            "/usr/local/lib/python3.6/dist-packages/sklearn/model_selection/_validation.py:536: FitFailedWarning: Estimator fit failed. The score on this train-test partition for these parameters will be set to nan. Details: \n",
            "ValueError: Expected n_neighbors > 0. Got 0\n",
            "\n",
            "  FitFailedWarning)\n",
            "/usr/local/lib/python3.6/dist-packages/sklearn/model_selection/_validation.py:536: FitFailedWarning: Estimator fit failed. The score on this train-test partition for these parameters will be set to nan. Details: \n",
            "ValueError: Expected n_neighbors > 0. Got 0\n",
            "\n",
            "  FitFailedWarning)\n",
            "/usr/local/lib/python3.6/dist-packages/sklearn/model_selection/_validation.py:536: FitFailedWarning: Estimator fit failed. The score on this train-test partition for these parameters will be set to nan. Details: \n",
            "ValueError: Expected n_neighbors > 0. Got 0\n",
            "\n",
            "  FitFailedWarning)\n",
            "/usr/local/lib/python3.6/dist-packages/sklearn/model_selection/_validation.py:536: FitFailedWarning: Estimator fit failed. The score on this train-test partition for these parameters will be set to nan. Details: \n",
            "ValueError: Expected n_neighbors > 0. Got 0\n",
            "\n",
            "  FitFailedWarning)\n",
            "/usr/local/lib/python3.6/dist-packages/sklearn/model_selection/_validation.py:536: FitFailedWarning: Estimator fit failed. The score on this train-test partition for these parameters will be set to nan. Details: \n",
            "ValueError: Expected n_neighbors > 0. Got 0\n",
            "\n",
            "  FitFailedWarning)\n",
            "/usr/local/lib/python3.6/dist-packages/sklearn/model_selection/_validation.py:536: FitFailedWarning: Estimator fit failed. The score on this train-test partition for these parameters will be set to nan. Details: \n",
            "ValueError: Expected n_neighbors > 0. Got 0\n",
            "\n",
            "  FitFailedWarning)\n",
            "/usr/local/lib/python3.6/dist-packages/sklearn/model_selection/_validation.py:536: FitFailedWarning: Estimator fit failed. The score on this train-test partition for these parameters will be set to nan. Details: \n",
            "ValueError: Expected n_neighbors > 0. Got 0\n",
            "\n",
            "  FitFailedWarning)\n",
            "/usr/local/lib/python3.6/dist-packages/sklearn/model_selection/_validation.py:536: FitFailedWarning: Estimator fit failed. The score on this train-test partition for these parameters will be set to nan. Details: \n",
            "ValueError: Expected n_neighbors > 0. Got 0\n",
            "\n",
            "  FitFailedWarning)\n"
          ],
          "name": "stderr"
        },
        {
          "output_type": "display_data",
          "data": {
            "image/png": "[encoded data removed]",
            "text/plain": [
              "<Figure size 432x288 with 1 Axes>"
            ]
          },
          "metadata": {
            "tags": [],
            "needs_background": "light"
          }
        }
      ]
    },
    {
      "cell_type": "markdown",
      "metadata": {
        "id": "HWlkUtxVLojh",
        "colab_type": "text"
      },
      "source": [
        "Se puede observar que las líneas de entrenamiento y validación se empiezan a estabalizar después de 10 vecinos,se implementa Gridsearch para 10,15 y 20 vecinos, aunque  la diferencia entre ambos puntajes es considerablemnte, por lo que se pueden estar presentando problemas de overfitting"
      ]
    },
    {
      "cell_type": "code",
      "metadata": {
        "id": "ElEe-TFvAZDh",
        "colab_type": "code",
        "colab": {
          "base_uri": "https://localhost:8080/",
          "height": 66
        },
        "outputId": "cae52188-d04d-4a06-c48f-f957433d3c43"
      },
      "source": [
        "parameters = {'n_neighbors':[10,15,20]}\n",
        "knn = KNeighborsClassifier()\n",
        "\n",
        "grid_search, grid_scores, grid_best_params, optimised_model = Grid_Search(parameters,knn)\n",
        "\n",
        "best_models[str(type(optimised_model).__name__)] = optimised_model\n",
        "\n"
      ],
      "execution_count": null,
      "outputs": [
        {
          "output_type": "stream",
          "text": [
            "Fitting 5 folds for each of 3 candidates, totalling 15 fits\n"
          ],
          "name": "stdout"
        },
        {
          "output_type": "stream",
          "text": [
            "[Parallel(n_jobs=-1)]: Using backend LokyBackend with 2 concurrent workers.\n",
            "[Parallel(n_jobs=-1)]: Done  15 out of  15 | elapsed:    1.7s finished\n"
          ],
          "name": "stderr"
        }
      ]
    },
    {
      "cell_type": "code",
      "metadata": {
        "id": "h1ZLs06dPlPW",
        "colab_type": "code",
        "colab": {
          "base_uri": "https://localhost:8080/",
          "height": 133
        },
        "outputId": "55025a07-9032-4a7e-d81b-8eb51b9dec7e"
      },
      "source": [
        "grid_scores"
      ],
      "execution_count": null,
      "outputs": [
        {
          "output_type": "execute_result",
          "data": {
            "text/html": [
              "<div>\n",
              "<style scoped>\n",
              "    .dataframe tbody tr th:only-of-type {\n",
              "        vertical-align: middle;\n",
              "    }\n",
              "\n",
              "    .dataframe tbody tr th {\n",
              "        vertical-align: top;\n",
              "    }\n",
              "\n",
              "    .dataframe thead th {\n",
              "        text-align: right;\n",
              "    }\n",
              "</style>\n",
              "<table border=\"1\" class=\"dataframe\">\n",
              "  <thead>\n",
              "    <tr style=\"text-align: right;\">\n",
              "      <th></th>\n",
              "      <th>n_neighbors</th>\n",
              "      <th>mean_train_score</th>\n",
              "      <th>mean_test_score</th>\n",
              "    </tr>\n",
              "  </thead>\n",
              "  <tbody>\n",
              "    <tr>\n",
              "      <th>0</th>\n",
              "      <td>10</td>\n",
              "      <td>0.71</td>\n",
              "      <td>0.64</td>\n",
              "    </tr>\n",
              "    <tr>\n",
              "      <th>1</th>\n",
              "      <td>15</td>\n",
              "      <td>0.68</td>\n",
              "      <td>0.62</td>\n",
              "    </tr>\n",
              "    <tr>\n",
              "      <th>2</th>\n",
              "      <td>20</td>\n",
              "      <td>0.66</td>\n",
              "      <td>0.58</td>\n",
              "    </tr>\n",
              "  </tbody>\n",
              "</table>\n",
              "</div>"
            ],
            "text/plain": [
              "   n_neighbors  mean_train_score  mean_test_score\n",
              "0           10              0.71             0.64\n",
              "1           15              0.68             0.62\n",
              "2           20              0.66             0.58"
            ]
          },
          "metadata": {
            "tags": []
          },
          "execution_count": 36
        }
      ]
    },
    {
      "cell_type": "code",
      "metadata": {
        "id": "16316jh0R9bz",
        "colab_type": "code",
        "colab": {
          "base_uri": "https://localhost:8080/",
          "height": 66
        },
        "outputId": "1e811557-ab58-4f1e-b93b-158bc676cd05"
      },
      "source": [
        "optimised_model"
      ],
      "execution_count": null,
      "outputs": [
        {
          "output_type": "execute_result",
          "data": {
            "text/plain": [
              "KNeighborsClassifier(algorithm='auto', leaf_size=30, metric='minkowski',\n",
              "                     metric_params=None, n_jobs=None, n_neighbors=10, p=2,\n",
              "                     weights='uniform')"
            ]
          },
          "metadata": {
            "tags": []
          },
          "execution_count": 37
        }
      ]
    },
    {
      "cell_type": "code",
      "metadata": {
        "id": "QK6EqvK7WAys",
        "colab_type": "code",
        "colab": {
          "base_uri": "https://localhost:8080/",
          "height": 33
        },
        "outputId": "26bedbc0-da3f-47d4-ace8-8e10b8ebae26"
      },
      "source": [
        "grid_best_params"
      ],
      "execution_count": null,
      "outputs": [
        {
          "output_type": "execute_result",
          "data": {
            "text/plain": [
              "{'n_neighbors': 10}"
            ]
          },
          "metadata": {
            "tags": []
          },
          "execution_count": 38
        }
      ]
    },
    {
      "cell_type": "markdown",
      "metadata": {
        "id": "gWomeECtUvnT",
        "colab_type": "text"
      },
      "source": [
        "Entrenamos nuevamente con los hiperparámetros del mejor modelo en esto caso con número de vecinos = 10, el promedio del recall es 0.69 para entrenamiento y 0.63 para test, lo cuál no presentá una diferencia considerable y por lo tanto no podríamos hablar de overfitting."
      ]
    },
    {
      "cell_type": "code",
      "metadata": {
        "id": "B0ngwBNaUJPO",
        "colab_type": "code",
        "colab": {}
      },
      "source": [
        "vmc = KNeighborsClassifier(n_neighbors = 10).fit(X_train,y_train)\n",
        "y_pred_knn=vmc.predict(X_test)"
      ],
      "execution_count": null,
      "outputs": []
    },
    {
      "cell_type": "markdown",
      "metadata": {
        "id": "L4OF60vNU_DV",
        "colab_type": "text"
      },
      "source": [
        "Evaluamos nuevamente el modelo la medida para la evaluación es el recall."
      ]
    },
    {
      "cell_type": "code",
      "metadata": {
        "id": "P4Q75ZEH4TID",
        "colab_type": "code",
        "colab": {
          "base_uri": "https://localhost:8080/",
          "height": 538
        },
        "outputId": "777a4cd5-01c0-496f-ce7a-cf316d22ad93"
      },
      "source": [
        "cnf_matrix = confusion_matrix(y_test, y_pred_knn, labels=[0,1,2])\n",
        "np.set_printoptions(precision=2)\n",
        "\n",
        "print (classification_report(y_test, y_pred_knn))\n",
        "\n",
        "# Gráfico personalizado matriz de confusión\n",
        "plt.figure()\n",
        "plot_confusion_matrix(cnf_matrix, classes=['ok','alerta','error'],normalize= False,  title='Matriz de confusión')\n"
      ],
      "execution_count": null,
      "outputs": [
        {
          "output_type": "stream",
          "text": [
            "              precision    recall  f1-score   support\n",
            "\n",
            "           0       0.71      0.64      0.67        45\n",
            "           1       0.56      0.67      0.61        36\n",
            "           2       0.96      0.85      0.90        26\n",
            "\n",
            "    accuracy                           0.70       107\n",
            "   macro avg       0.74      0.72      0.73       107\n",
            "weighted avg       0.72      0.70      0.71       107\n",
            "\n",
            "Matriz de confusión sin normalización\n",
            "[[29 16  0]\n",
            " [11 24  1]\n",
            " [ 1  3 22]]\n"
          ],
          "name": "stdout"
        },
        {
          "output_type": "display_data",
          "data": {
            "image/png": "[encoded data removed]",
            "text/plain": [
              "<Figure size 432x288 with 2 Axes>"
            ]
          },
          "metadata": {
            "tags": [],
            "needs_background": "light"
          }
        }
      ]
    },
    {
      "cell_type": "markdown",
      "metadata": {
        "id": "QyyffiLBMNuB",
        "colab_type": "text"
      },
      "source": [
        "Los resultados del modelo es decir el comportamiento del recall para la clase de interés que es la 2 (error) presenta un comportamiento bueno  del 85%, sin embargo se prueban otro modelos, para observar cuál se comporta mejor."
      ]
    },
    {
      "cell_type": "markdown",
      "metadata": {
        "id": "rFLfKBwbTM66",
        "colab_type": "text"
      },
      "source": [
        "#2. Árboles de Decisión"
      ]
    },
    {
      "cell_type": "markdown",
      "metadata": {
        "id": "qhOgbKvHSV0l",
        "colab_type": "text"
      },
      "source": [
        "**Curva de Validación**"
      ]
    },
    {
      "cell_type": "code",
      "metadata": {
        "id": "JzuvhuUaMh8T",
        "colab_type": "code",
        "colab": {
          "base_uri": "https://localhost:8080/",
          "height": 970
        },
        "outputId": "1e99aca4-a86e-45f2-aa76-2c824e300063"
      },
      "source": [
        "max_depth = np.arange(0, 30)\n",
        "train_score, val_score = validation_curve(DecisionTreeClassifier(), X, y,\n",
        "                                          'max_depth', max_depth, cv=10)\n",
        "\n",
        "plt.plot(max_depth, np.median(train_score, 1), color='blue', label='Puntaje de entrenamiento')\n",
        "plt.plot(max_depth, np.median(val_score, 1), color='red', label='Puntaje de validación')\n",
        "plt.legend(loc='best')\n",
        "plt.ylim(0, 1)\n",
        "plt.xlabel('max_depth')\n",
        "plt.ylabel('Puntaje')"
      ],
      "execution_count": null,
      "outputs": [
        {
          "output_type": "stream",
          "text": [
            "/usr/local/lib/python3.6/dist-packages/sklearn/model_selection/_validation.py:536: FitFailedWarning: Estimator fit failed. The score on this train-test partition for these parameters will be set to nan. Details: \n",
            "ValueError: max_depth must be greater than zero. \n",
            "\n",
            "  FitFailedWarning)\n",
            "/usr/local/lib/python3.6/dist-packages/sklearn/model_selection/_validation.py:536: FitFailedWarning: Estimator fit failed. The score on this train-test partition for these parameters will be set to nan. Details: \n",
            "ValueError: max_depth must be greater than zero. \n",
            "\n",
            "  FitFailedWarning)\n",
            "/usr/local/lib/python3.6/dist-packages/sklearn/model_selection/_validation.py:536: FitFailedWarning: Estimator fit failed. The score on this train-test partition for these parameters will be set to nan. Details: \n",
            "ValueError: max_depth must be greater than zero. \n",
            "\n",
            "  FitFailedWarning)\n",
            "/usr/local/lib/python3.6/dist-packages/sklearn/model_selection/_validation.py:536: FitFailedWarning: Estimator fit failed. The score on this train-test partition for these parameters will be set to nan. Details: \n",
            "ValueError: max_depth must be greater than zero. \n",
            "\n",
            "  FitFailedWarning)\n",
            "/usr/local/lib/python3.6/dist-packages/sklearn/model_selection/_validation.py:536: FitFailedWarning: Estimator fit failed. The score on this train-test partition for these parameters will be set to nan. Details: \n",
            "ValueError: max_depth must be greater than zero. \n",
            "\n",
            "  FitFailedWarning)\n",
            "/usr/local/lib/python3.6/dist-packages/sklearn/model_selection/_validation.py:536: FitFailedWarning: Estimator fit failed. The score on this train-test partition for these parameters will be set to nan. Details: \n",
            "ValueError: max_depth must be greater than zero. \n",
            "\n",
            "  FitFailedWarning)\n",
            "/usr/local/lib/python3.6/dist-packages/sklearn/model_selection/_validation.py:536: FitFailedWarning: Estimator fit failed. The score on this train-test partition for these parameters will be set to nan. Details: \n",
            "ValueError: max_depth must be greater than zero. \n",
            "\n",
            "  FitFailedWarning)\n",
            "/usr/local/lib/python3.6/dist-packages/sklearn/model_selection/_validation.py:536: FitFailedWarning: Estimator fit failed. The score on this train-test partition for these parameters will be set to nan. Details: \n",
            "ValueError: max_depth must be greater than zero. \n",
            "\n",
            "  FitFailedWarning)\n",
            "/usr/local/lib/python3.6/dist-packages/sklearn/model_selection/_validation.py:536: FitFailedWarning: Estimator fit failed. The score on this train-test partition for these parameters will be set to nan. Details: \n",
            "ValueError: max_depth must be greater than zero. \n",
            "\n",
            "  FitFailedWarning)\n",
            "/usr/local/lib/python3.6/dist-packages/sklearn/model_selection/_validation.py:536: FitFailedWarning: Estimator fit failed. The score on this train-test partition for these parameters will be set to nan. Details: \n",
            "ValueError: max_depth must be greater than zero. \n",
            "\n",
            "  FitFailedWarning)\n"
          ],
          "name": "stderr"
        },
        {
          "output_type": "execute_result",
          "data": {
            "text/plain": [
              "Text(0, 0.5, 'Puntaje')"
            ]
          },
          "metadata": {
            "tags": []
          },
          "execution_count": 41
        },
        {
          "output_type": "display_data",
          "data": {
            "image/png": "[encoded data removed]",
            "text/plain": [
              "<Figure size 432x288 with 1 Axes>"
            ]
          },
          "metadata": {
            "tags": [],
            "needs_background": "light"
          }
        }
      ]
    },
    {
      "cell_type": "markdown",
      "metadata": {
        "id": "05dR_BFyNO_b",
        "colab_type": "text"
      },
      "source": [
        "el valor del hiperparámetro max depth, presenta sobreajuste (overfitting) con profundidades mayores a 15, por lo tanto se busca el mejor modelo entre 10 y 15 qué es dondé se maximiza el accuracy."
      ]
    },
    {
      "cell_type": "code",
      "metadata": {
        "id": "9KzTmLFvTTLQ",
        "colab_type": "code",
        "colab": {
          "base_uri": "https://localhost:8080/",
          "height": 98
        },
        "outputId": "a09bf5bb-ff19-414e-8a5f-626f9942bd6f"
      },
      "source": [
        "%%time\n",
        "\n",
        "parameters = {'criterion':[\"gini\", \"entropy\"],\n",
        "              'max_depth':[10,12,14, None]}\n",
        "\n",
        "dtc = DecisionTreeClassifier()\n",
        "\n",
        "grid_search, grid_scores, grid_best_params, optimised_model = Grid_Search(parameters,dtc)\n",
        "\n",
        "best_models[str(type(optimised_model).__name__)] = optimised_model"
      ],
      "execution_count": null,
      "outputs": [
        {
          "output_type": "stream",
          "text": [
            "Fitting 5 folds for each of 8 candidates, totalling 40 fits\n"
          ],
          "name": "stdout"
        },
        {
          "output_type": "stream",
          "text": [
            "[Parallel(n_jobs=-1)]: Using backend LokyBackend with 2 concurrent workers.\n"
          ],
          "name": "stderr"
        },
        {
          "output_type": "stream",
          "text": [
            "CPU times: user 109 ms, sys: 24.9 ms, total: 134 ms\n",
            "Wall time: 1.45 s\n"
          ],
          "name": "stdout"
        },
        {
          "output_type": "stream",
          "text": [
            "[Parallel(n_jobs=-1)]: Done  40 out of  40 | elapsed:    1.4s finished\n"
          ],
          "name": "stderr"
        }
      ]
    },
    {
      "cell_type": "code",
      "metadata": {
        "id": "KLSL_ZNHTwSU",
        "colab_type": "code",
        "colab": {
          "base_uri": "https://localhost:8080/",
          "height": 277
        },
        "outputId": "fbabc574-9a29-49ac-a228-bd958093e45c"
      },
      "source": [
        "grid_scores"
      ],
      "execution_count": null,
      "outputs": [
        {
          "output_type": "execute_result",
          "data": {
            "text/html": [
              "<div>\n",
              "<style scoped>\n",
              "    .dataframe tbody tr th:only-of-type {\n",
              "        vertical-align: middle;\n",
              "    }\n",
              "\n",
              "    .dataframe tbody tr th {\n",
              "        vertical-align: top;\n",
              "    }\n",
              "\n",
              "    .dataframe thead th {\n",
              "        text-align: right;\n",
              "    }\n",
              "</style>\n",
              "<table border=\"1\" class=\"dataframe\">\n",
              "  <thead>\n",
              "    <tr style=\"text-align: right;\">\n",
              "      <th></th>\n",
              "      <th>criterion</th>\n",
              "      <th>max_depth</th>\n",
              "      <th>mean_train_score</th>\n",
              "      <th>mean_test_score</th>\n",
              "    </tr>\n",
              "  </thead>\n",
              "  <tbody>\n",
              "    <tr>\n",
              "      <th>0</th>\n",
              "      <td>gini</td>\n",
              "      <td>10.00</td>\n",
              "      <td>0.85</td>\n",
              "      <td>0.79</td>\n",
              "    </tr>\n",
              "    <tr>\n",
              "      <th>1</th>\n",
              "      <td>gini</td>\n",
              "      <td>12.00</td>\n",
              "      <td>0.94</td>\n",
              "      <td>0.87</td>\n",
              "    </tr>\n",
              "    <tr>\n",
              "      <th>2</th>\n",
              "      <td>gini</td>\n",
              "      <td>14.00</td>\n",
              "      <td>1.00</td>\n",
              "      <td>0.98</td>\n",
              "    </tr>\n",
              "    <tr>\n",
              "      <th>3</th>\n",
              "      <td>gini</td>\n",
              "      <td>nan</td>\n",
              "      <td>1.00</td>\n",
              "      <td>0.98</td>\n",
              "    </tr>\n",
              "    <tr>\n",
              "      <th>4</th>\n",
              "      <td>entropy</td>\n",
              "      <td>10.00</td>\n",
              "      <td>0.85</td>\n",
              "      <td>0.79</td>\n",
              "    </tr>\n",
              "    <tr>\n",
              "      <th>5</th>\n",
              "      <td>entropy</td>\n",
              "      <td>12.00</td>\n",
              "      <td>0.94</td>\n",
              "      <td>0.87</td>\n",
              "    </tr>\n",
              "    <tr>\n",
              "      <th>6</th>\n",
              "      <td>entropy</td>\n",
              "      <td>14.00</td>\n",
              "      <td>1.00</td>\n",
              "      <td>0.98</td>\n",
              "    </tr>\n",
              "    <tr>\n",
              "      <th>7</th>\n",
              "      <td>entropy</td>\n",
              "      <td>nan</td>\n",
              "      <td>1.00</td>\n",
              "      <td>0.98</td>\n",
              "    </tr>\n",
              "  </tbody>\n",
              "</table>\n",
              "</div>"
            ],
            "text/plain": [
              "  criterion  max_depth  mean_train_score  mean_test_score\n",
              "0      gini      10.00              0.85             0.79\n",
              "1      gini      12.00              0.94             0.87\n",
              "2      gini      14.00              1.00             0.98\n",
              "3      gini        nan              1.00             0.98\n",
              "4   entropy      10.00              0.85             0.79\n",
              "5   entropy      12.00              0.94             0.87\n",
              "6   entropy      14.00              1.00             0.98\n",
              "7   entropy        nan              1.00             0.98"
            ]
          },
          "metadata": {
            "tags": []
          },
          "execution_count": 43
        }
      ]
    },
    {
      "cell_type": "markdown",
      "metadata": {
        "id": "I9abpyBrWtgS",
        "colab_type": "text"
      },
      "source": [
        "Entrenamos nuevamente el modelo con los mejores hiperparámetros"
      ]
    },
    {
      "cell_type": "code",
      "metadata": {
        "id": "bf0R3OwlWFgy",
        "colab_type": "code",
        "colab": {
          "base_uri": "https://localhost:8080/",
          "height": 33
        },
        "outputId": "92a0816f-66df-4b16-b44b-9d7d261488f2"
      },
      "source": [
        "grid_best_params"
      ],
      "execution_count": null,
      "outputs": [
        {
          "output_type": "execute_result",
          "data": {
            "text/plain": [
              "{'criterion': 'gini', 'max_depth': 14}"
            ]
          },
          "metadata": {
            "tags": []
          },
          "execution_count": 44
        }
      ]
    },
    {
      "cell_type": "code",
      "metadata": {
        "id": "pR424p0oWkgD",
        "colab_type": "code",
        "colab": {}
      },
      "source": [
        "ad = DecisionTreeClassifier(criterion='gini',max_depth=14).fit(X_train,y_train)\n",
        "y_pred_dtc = ad.predict(X_test)\n"
      ],
      "execution_count": null,
      "outputs": []
    },
    {
      "cell_type": "markdown",
      "metadata": {
        "id": "hsLgGHfcXLwG",
        "colab_type": "text"
      },
      "source": [
        "Evaluemos nuevamente con el recall y la matriz de confusión"
      ]
    },
    {
      "cell_type": "code",
      "metadata": {
        "id": "mnSrwgnmXRZo",
        "colab_type": "code",
        "colab": {
          "base_uri": "https://localhost:8080/",
          "height": 538
        },
        "outputId": "b3a2d8a7-2be0-4f22-eec1-a7c852f537b0"
      },
      "source": [
        "cnf_matrix = confusion_matrix(y_test, y_pred_dtc, labels=[0,1,2])\n",
        "np.set_printoptions(precision=2)\n",
        "\n",
        "print (classification_report(y_test, y_pred_dtc))\n",
        "\n",
        "# Gráfico personalizado matriz de confusión\n",
        "plt.figure()\n",
        "plot_confusion_matrix(cnf_matrix, classes=['ok','alerta','error'],normalize= False,  title='Matriz de confusión')"
      ],
      "execution_count": null,
      "outputs": [
        {
          "output_type": "stream",
          "text": [
            "              precision    recall  f1-score   support\n",
            "\n",
            "           0       0.82      0.69      0.75        45\n",
            "           1       0.55      0.44      0.49        36\n",
            "           2       0.62      0.96      0.76        26\n",
            "\n",
            "    accuracy                           0.67       107\n",
            "   macro avg       0.66      0.70      0.67       107\n",
            "weighted avg       0.68      0.67      0.66       107\n",
            "\n",
            "Matriz de confusión sin normalización\n",
            "[[31 12  2]\n",
            " [ 7 16 13]\n",
            " [ 0  1 25]]\n"
          ],
          "name": "stdout"
        },
        {
          "output_type": "display_data",
          "data": {
            "image/png": "[encoded data removed]",
            "text/plain": [
              "<Figure size 432x288 with 2 Axes>"
            ]
          },
          "metadata": {
            "tags": [],
            "needs_background": "light"
          }
        }
      ]
    },
    {
      "cell_type": "markdown",
      "metadata": {
        "id": "eKg5TNlut3fc",
        "colab_type": "text"
      },
      "source": [
        "Los árboles de decisión tuvieron un mejor desempeño que el algoritmo de k- vecinos más cercanos, brindando en promedio un recall del 96%, y para nuestra clase de interés del 96%, de un modelo tan perfecto hay que dudar pero para eso se usa el dataset de validación."
      ]
    },
    {
      "cell_type": "markdown",
      "metadata": {
        "id": "R9ivalK44bbZ",
        "colab_type": "text"
      },
      "source": [
        "#3. Máquinas de soporte vectorial"
      ]
    },
    {
      "cell_type": "markdown",
      "metadata": {
        "id": "T-SeKNRUQcO9",
        "colab_type": "text"
      },
      "source": [
        "**SVC - Lineal**"
      ]
    },
    {
      "cell_type": "code",
      "metadata": {
        "id": "Qnu-uL1a4gIK",
        "colab_type": "code",
        "colab": {
          "base_uri": "https://localhost:8080/",
          "height": 98
        },
        "outputId": "e24abb58-2af1-41bf-ef23-c1f218599e4a"
      },
      "source": [
        "%%time\n",
        "parameters = {'C':[0.001, 0.01, 0.1, 1,10],\n",
        "              'loss':['hinge', 'squared_hinge']}\n",
        "\n",
        "svc = LinearSVC(random_state = 0)\n",
        "\n",
        "grid_search, grid_scores, grid_best_params, optimised_model = Grid_Search(parameters,svc)\n",
        "\n",
        "best_models[str(type(optimised_model).__name__)] = optimised_model"
      ],
      "execution_count": null,
      "outputs": [
        {
          "output_type": "stream",
          "text": [
            "Fitting 5 folds for each of 10 candidates, totalling 50 fits\n"
          ],
          "name": "stdout"
        },
        {
          "output_type": "stream",
          "text": [
            "[Parallel(n_jobs=-1)]: Using backend LokyBackend with 2 concurrent workers.\n"
          ],
          "name": "stderr"
        },
        {
          "output_type": "stream",
          "text": [
            "CPU times: user 281 ms, sys: 6.43 ms, total: 287 ms\n",
            "Wall time: 599 ms\n"
          ],
          "name": "stdout"
        },
        {
          "output_type": "stream",
          "text": [
            "[Parallel(n_jobs=-1)]: Done  50 out of  50 | elapsed:    0.6s finished\n"
          ],
          "name": "stderr"
        }
      ]
    },
    {
      "cell_type": "code",
      "metadata": {
        "id": "c7tzWA1t5b5q",
        "colab_type": "code",
        "colab": {
          "base_uri": "https://localhost:8080/",
          "height": 335
        },
        "outputId": "ad43d5ce-adb4-4bf9-d024-cf23930ed3b1"
      },
      "source": [
        "grid_scores"
      ],
      "execution_count": null,
      "outputs": [
        {
          "output_type": "execute_result",
          "data": {
            "text/html": [
              "<div>\n",
              "<style scoped>\n",
              "    .dataframe tbody tr th:only-of-type {\n",
              "        vertical-align: middle;\n",
              "    }\n",
              "\n",
              "    .dataframe tbody tr th {\n",
              "        vertical-align: top;\n",
              "    }\n",
              "\n",
              "    .dataframe thead th {\n",
              "        text-align: right;\n",
              "    }\n",
              "</style>\n",
              "<table border=\"1\" class=\"dataframe\">\n",
              "  <thead>\n",
              "    <tr style=\"text-align: right;\">\n",
              "      <th></th>\n",
              "      <th>C</th>\n",
              "      <th>loss</th>\n",
              "      <th>mean_train_score</th>\n",
              "      <th>mean_test_score</th>\n",
              "    </tr>\n",
              "  </thead>\n",
              "  <tbody>\n",
              "    <tr>\n",
              "      <th>0</th>\n",
              "      <td>0.00</td>\n",
              "      <td>hinge</td>\n",
              "      <td>0.42</td>\n",
              "      <td>0.38</td>\n",
              "    </tr>\n",
              "    <tr>\n",
              "      <th>1</th>\n",
              "      <td>0.00</td>\n",
              "      <td>squared_hinge</td>\n",
              "      <td>0.42</td>\n",
              "      <td>0.39</td>\n",
              "    </tr>\n",
              "    <tr>\n",
              "      <th>2</th>\n",
              "      <td>0.01</td>\n",
              "      <td>hinge</td>\n",
              "      <td>0.40</td>\n",
              "      <td>0.38</td>\n",
              "    </tr>\n",
              "    <tr>\n",
              "      <th>3</th>\n",
              "      <td>0.01</td>\n",
              "      <td>squared_hinge</td>\n",
              "      <td>0.42</td>\n",
              "      <td>0.39</td>\n",
              "    </tr>\n",
              "    <tr>\n",
              "      <th>4</th>\n",
              "      <td>0.10</td>\n",
              "      <td>hinge</td>\n",
              "      <td>0.39</td>\n",
              "      <td>0.38</td>\n",
              "    </tr>\n",
              "    <tr>\n",
              "      <th>5</th>\n",
              "      <td>0.10</td>\n",
              "      <td>squared_hinge</td>\n",
              "      <td>0.42</td>\n",
              "      <td>0.39</td>\n",
              "    </tr>\n",
              "    <tr>\n",
              "      <th>6</th>\n",
              "      <td>1.00</td>\n",
              "      <td>hinge</td>\n",
              "      <td>0.41</td>\n",
              "      <td>0.37</td>\n",
              "    </tr>\n",
              "    <tr>\n",
              "      <th>7</th>\n",
              "      <td>1.00</td>\n",
              "      <td>squared_hinge</td>\n",
              "      <td>0.42</td>\n",
              "      <td>0.39</td>\n",
              "    </tr>\n",
              "    <tr>\n",
              "      <th>8</th>\n",
              "      <td>10.00</td>\n",
              "      <td>hinge</td>\n",
              "      <td>0.40</td>\n",
              "      <td>0.35</td>\n",
              "    </tr>\n",
              "    <tr>\n",
              "      <th>9</th>\n",
              "      <td>10.00</td>\n",
              "      <td>squared_hinge</td>\n",
              "      <td>0.42</td>\n",
              "      <td>0.38</td>\n",
              "    </tr>\n",
              "  </tbody>\n",
              "</table>\n",
              "</div>"
            ],
            "text/plain": [
              "      C           loss  mean_train_score  mean_test_score\n",
              "0  0.00          hinge              0.42             0.38\n",
              "1  0.00  squared_hinge              0.42             0.39\n",
              "2  0.01          hinge              0.40             0.38\n",
              "3  0.01  squared_hinge              0.42             0.39\n",
              "4  0.10          hinge              0.39             0.38\n",
              "5  0.10  squared_hinge              0.42             0.39\n",
              "6  1.00          hinge              0.41             0.37\n",
              "7  1.00  squared_hinge              0.42             0.39\n",
              "8 10.00          hinge              0.40             0.35\n",
              "9 10.00  squared_hinge              0.42             0.38"
            ]
          },
          "metadata": {
            "tags": []
          },
          "execution_count": 48
        }
      ]
    },
    {
      "cell_type": "markdown",
      "metadata": {
        "id": "fAL5TV0VN97M",
        "colab_type": "text"
      },
      "source": [
        "Esté modelo nos arroja un recall bajo, por lo tanto no es buen clasificador, ya que se evidencia que  la frontera de decisión no puede ser lineal."
      ]
    },
    {
      "cell_type": "markdown",
      "metadata": {
        "id": "HtGtcI29QVYD",
        "colab_type": "text"
      },
      "source": [
        "**SVM - kernel**"
      ]
    },
    {
      "cell_type": "code",
      "metadata": {
        "id": "atwugOcVQGij",
        "colab_type": "code",
        "colab": {
          "base_uri": "https://localhost:8080/",
          "height": 66
        },
        "outputId": "856055cc-8556-416f-c2ae-78a36b278753"
      },
      "source": [
        "parameters = {'C':[1,2,3]}\n",
        "\n",
        "msp =  svm.SVC(kernel='rbf')\n",
        "\n",
        "grid_search, grid_scores, grid_best_params, optimised_model = Grid_Search(parameters,msp)\n",
        "\n",
        "best_models[str(type(optimised_model).__name__)] = optimised_model"
      ],
      "execution_count": null,
      "outputs": [
        {
          "output_type": "stream",
          "text": [
            "Fitting 5 folds for each of 3 candidates, totalling 15 fits\n"
          ],
          "name": "stdout"
        },
        {
          "output_type": "stream",
          "text": [
            "[Parallel(n_jobs=-1)]: Using backend LokyBackend with 2 concurrent workers.\n",
            "[Parallel(n_jobs=-1)]: Done  15 out of  15 | elapsed:    1.2s finished\n"
          ],
          "name": "stderr"
        }
      ]
    },
    {
      "cell_type": "code",
      "metadata": {
        "id": "H6GYeIzhROFb",
        "colab_type": "code",
        "colab": {
          "base_uri": "https://localhost:8080/",
          "height": 133
        },
        "outputId": "f121708c-5799-4658-ce78-c36bb762b820"
      },
      "source": [
        "grid_scores"
      ],
      "execution_count": null,
      "outputs": [
        {
          "output_type": "execute_result",
          "data": {
            "text/html": [
              "<div>\n",
              "<style scoped>\n",
              "    .dataframe tbody tr th:only-of-type {\n",
              "        vertical-align: middle;\n",
              "    }\n",
              "\n",
              "    .dataframe tbody tr th {\n",
              "        vertical-align: top;\n",
              "    }\n",
              "\n",
              "    .dataframe thead th {\n",
              "        text-align: right;\n",
              "    }\n",
              "</style>\n",
              "<table border=\"1\" class=\"dataframe\">\n",
              "  <thead>\n",
              "    <tr style=\"text-align: right;\">\n",
              "      <th></th>\n",
              "      <th>C</th>\n",
              "      <th>mean_train_score</th>\n",
              "      <th>mean_test_score</th>\n",
              "    </tr>\n",
              "  </thead>\n",
              "  <tbody>\n",
              "    <tr>\n",
              "      <th>0</th>\n",
              "      <td>1</td>\n",
              "      <td>0.77</td>\n",
              "      <td>0.71</td>\n",
              "    </tr>\n",
              "    <tr>\n",
              "      <th>1</th>\n",
              "      <td>2</td>\n",
              "      <td>0.78</td>\n",
              "      <td>0.71</td>\n",
              "    </tr>\n",
              "    <tr>\n",
              "      <th>2</th>\n",
              "      <td>3</td>\n",
              "      <td>0.79</td>\n",
              "      <td>0.73</td>\n",
              "    </tr>\n",
              "  </tbody>\n",
              "</table>\n",
              "</div>"
            ],
            "text/plain": [
              "   C  mean_train_score  mean_test_score\n",
              "0  1              0.77             0.71\n",
              "1  2              0.78             0.71\n",
              "2  3              0.79             0.73"
            ]
          },
          "metadata": {
            "tags": []
          },
          "execution_count": 183
        }
      ]
    },
    {
      "cell_type": "markdown",
      "metadata": {
        "id": "O6AzUjq7YTOI",
        "colab_type": "text"
      },
      "source": [
        "Esté modelo nos arroja un recall aceptable del 79%, esté es inferior a los de los árboles de decisión."
      ]
    },
    {
      "cell_type": "code",
      "metadata": {
        "id": "-FWbRFT7uirp",
        "colab_type": "code",
        "colab": {
          "base_uri": "https://localhost:8080/",
          "height": 33
        },
        "outputId": "19463ffc-6bff-4329-debf-4e2d16783990"
      },
      "source": [
        "grid_best_params"
      ],
      "execution_count": null,
      "outputs": [
        {
          "output_type": "execute_result",
          "data": {
            "text/plain": [
              "{'C': 3}"
            ]
          },
          "metadata": {
            "tags": []
          },
          "execution_count": 184
        }
      ]
    },
    {
      "cell_type": "markdown",
      "metadata": {
        "id": "Wu8eWcrKu-qN",
        "colab_type": "text"
      },
      "source": [
        "Entrenamos el modelo nuevamente con los mejores hiperparámetros"
      ]
    },
    {
      "cell_type": "code",
      "metadata": {
        "id": "w1Q9NpZpuxog",
        "colab_type": "code",
        "colab": {}
      },
      "source": [
        "ms = svm.SVC(C=3).fit(X_train,y_train)\n",
        "y_pred_svm = ms.predict(X_test)\n"
      ],
      "execution_count": null,
      "outputs": []
    },
    {
      "cell_type": "markdown",
      "metadata": {
        "id": "V2F97EIXvPJw",
        "colab_type": "text"
      },
      "source": [
        "Se evidencia que las máquinas de soporte vectorial presentan también un muy buen desempeño en la variable de interés 85% pero sigue siendo mejor los árboles de decisión -> detectar fallar (código 2)"
      ]
    },
    {
      "cell_type": "markdown",
      "metadata": {
        "id": "l5ju63CW6AKf",
        "colab_type": "text"
      },
      "source": [
        "#4. Algoritmo Perceptron Multicapa\n"
      ]
    },
    {
      "cell_type": "code",
      "metadata": {
        "id": "DBeKqTsd6DmU",
        "colab_type": "code",
        "colab": {
          "base_uri": "https://localhost:8080/",
          "height": 212
        },
        "outputId": "8fad4cad-a902-47ec-ca1d-23afd407baea"
      },
      "source": [
        "%%time\n",
        "parameters = {'hidden_layer_sizes':[(100,),(5,5), (10,10)],\n",
        "              'activation':['relu','tanh'],\n",
        "              'solver': ['lbfgs', 'sgd', 'adam']}\n",
        "\n",
        "m_perc = MLPClassifier(random_state=0)\n",
        "\n",
        "grid_search, grid_scores, grid_best_params, optimised_model = Grid_Search(parameters, m_perc)\n",
        "\n",
        "best_models[str(type(optimised_model).__name__)] = optimised_model"
      ],
      "execution_count": null,
      "outputs": [
        {
          "output_type": "stream",
          "text": [
            "Fitting 5 folds for each of 18 candidates, totalling 90 fits\n"
          ],
          "name": "stdout"
        },
        {
          "output_type": "stream",
          "text": [
            "[Parallel(n_jobs=-1)]: Using backend LokyBackend with 2 concurrent workers.\n",
            "[Parallel(n_jobs=-1)]: Done  37 tasks      | elapsed:    6.9s\n"
          ],
          "name": "stderr"
        },
        {
          "output_type": "stream",
          "text": [
            "CPU times: user 551 ms, sys: 21.9 ms, total: 573 ms\n",
            "Wall time: 17.2 s\n"
          ],
          "name": "stdout"
        },
        {
          "output_type": "stream",
          "text": [
            "[Parallel(n_jobs=-1)]: Done  90 out of  90 | elapsed:   17.0s finished\n",
            "/usr/local/lib/python3.6/dist-packages/sklearn/neural_network/_multilayer_perceptron.py:470: ConvergenceWarning: lbfgs failed to converge (status=1):\n",
            "STOP: TOTAL NO. of ITERATIONS REACHED LIMIT.\n",
            "\n",
            "Increase the number of iterations (max_iter) or scale the data as shown in:\n",
            "    https://scikit-learn.org/stable/modules/preprocessing.html\n",
            "  self.n_iter_ = _check_optimize_result(\"lbfgs\", opt_res, self.max_iter)\n"
          ],
          "name": "stderr"
        }
      ]
    },
    {
      "cell_type": "code",
      "metadata": {
        "id": "oX3-Xzv26Upi",
        "colab_type": "code",
        "colab": {
          "base_uri": "https://localhost:8080/",
          "height": 565
        },
        "outputId": "86add453-8b2b-48d4-b68d-be6cf34c0de9"
      },
      "source": [
        "grid_scores"
      ],
      "execution_count": null,
      "outputs": [
        {
          "output_type": "execute_result",
          "data": {
            "text/html": [
              "<div>\n",
              "<style scoped>\n",
              "    .dataframe tbody tr th:only-of-type {\n",
              "        vertical-align: middle;\n",
              "    }\n",
              "\n",
              "    .dataframe tbody tr th {\n",
              "        vertical-align: top;\n",
              "    }\n",
              "\n",
              "    .dataframe thead th {\n",
              "        text-align: right;\n",
              "    }\n",
              "</style>\n",
              "<table border=\"1\" class=\"dataframe\">\n",
              "  <thead>\n",
              "    <tr style=\"text-align: right;\">\n",
              "      <th></th>\n",
              "      <th>activation</th>\n",
              "      <th>hidden_layer_sizes</th>\n",
              "      <th>solver</th>\n",
              "      <th>mean_train_score</th>\n",
              "      <th>mean_test_score</th>\n",
              "    </tr>\n",
              "  </thead>\n",
              "  <tbody>\n",
              "    <tr>\n",
              "      <th>0</th>\n",
              "      <td>relu</td>\n",
              "      <td>(100,)</td>\n",
              "      <td>lbfgs</td>\n",
              "      <td>1.00</td>\n",
              "      <td>0.80</td>\n",
              "    </tr>\n",
              "    <tr>\n",
              "      <th>1</th>\n",
              "      <td>relu</td>\n",
              "      <td>(100,)</td>\n",
              "      <td>sgd</td>\n",
              "      <td>0.51</td>\n",
              "      <td>0.47</td>\n",
              "    </tr>\n",
              "    <tr>\n",
              "      <th>2</th>\n",
              "      <td>relu</td>\n",
              "      <td>(100,)</td>\n",
              "      <td>adam</td>\n",
              "      <td>0.79</td>\n",
              "      <td>0.68</td>\n",
              "    </tr>\n",
              "    <tr>\n",
              "      <th>3</th>\n",
              "      <td>relu</td>\n",
              "      <td>(5, 5)</td>\n",
              "      <td>lbfgs</td>\n",
              "      <td>0.85</td>\n",
              "      <td>0.79</td>\n",
              "    </tr>\n",
              "    <tr>\n",
              "      <th>4</th>\n",
              "      <td>relu</td>\n",
              "      <td>(5, 5)</td>\n",
              "      <td>sgd</td>\n",
              "      <td>0.30</td>\n",
              "      <td>0.29</td>\n",
              "    </tr>\n",
              "    <tr>\n",
              "      <th>5</th>\n",
              "      <td>relu</td>\n",
              "      <td>(5, 5)</td>\n",
              "      <td>adam</td>\n",
              "      <td>0.55</td>\n",
              "      <td>0.50</td>\n",
              "    </tr>\n",
              "    <tr>\n",
              "      <th>6</th>\n",
              "      <td>relu</td>\n",
              "      <td>(10, 10)</td>\n",
              "      <td>lbfgs</td>\n",
              "      <td>0.96</td>\n",
              "      <td>0.82</td>\n",
              "    </tr>\n",
              "    <tr>\n",
              "      <th>7</th>\n",
              "      <td>relu</td>\n",
              "      <td>(10, 10)</td>\n",
              "      <td>sgd</td>\n",
              "      <td>0.47</td>\n",
              "      <td>0.44</td>\n",
              "    </tr>\n",
              "    <tr>\n",
              "      <th>8</th>\n",
              "      <td>relu</td>\n",
              "      <td>(10, 10)</td>\n",
              "      <td>adam</td>\n",
              "      <td>0.67</td>\n",
              "      <td>0.61</td>\n",
              "    </tr>\n",
              "    <tr>\n",
              "      <th>9</th>\n",
              "      <td>tanh</td>\n",
              "      <td>(100,)</td>\n",
              "      <td>lbfgs</td>\n",
              "      <td>1.00</td>\n",
              "      <td>0.68</td>\n",
              "    </tr>\n",
              "    <tr>\n",
              "      <th>10</th>\n",
              "      <td>tanh</td>\n",
              "      <td>(100,)</td>\n",
              "      <td>sgd</td>\n",
              "      <td>0.44</td>\n",
              "      <td>0.41</td>\n",
              "    </tr>\n",
              "    <tr>\n",
              "      <th>11</th>\n",
              "      <td>tanh</td>\n",
              "      <td>(100,)</td>\n",
              "      <td>adam</td>\n",
              "      <td>0.60</td>\n",
              "      <td>0.55</td>\n",
              "    </tr>\n",
              "    <tr>\n",
              "      <th>12</th>\n",
              "      <td>tanh</td>\n",
              "      <td>(5, 5)</td>\n",
              "      <td>lbfgs</td>\n",
              "      <td>0.85</td>\n",
              "      <td>0.74</td>\n",
              "    </tr>\n",
              "    <tr>\n",
              "      <th>13</th>\n",
              "      <td>tanh</td>\n",
              "      <td>(5, 5)</td>\n",
              "      <td>sgd</td>\n",
              "      <td>0.41</td>\n",
              "      <td>0.40</td>\n",
              "    </tr>\n",
              "    <tr>\n",
              "      <th>14</th>\n",
              "      <td>tanh</td>\n",
              "      <td>(5, 5)</td>\n",
              "      <td>adam</td>\n",
              "      <td>0.52</td>\n",
              "      <td>0.47</td>\n",
              "    </tr>\n",
              "    <tr>\n",
              "      <th>15</th>\n",
              "      <td>tanh</td>\n",
              "      <td>(10, 10)</td>\n",
              "      <td>lbfgs</td>\n",
              "      <td>0.99</td>\n",
              "      <td>0.72</td>\n",
              "    </tr>\n",
              "    <tr>\n",
              "      <th>16</th>\n",
              "      <td>tanh</td>\n",
              "      <td>(10, 10)</td>\n",
              "      <td>sgd</td>\n",
              "      <td>0.44</td>\n",
              "      <td>0.42</td>\n",
              "    </tr>\n",
              "    <tr>\n",
              "      <th>17</th>\n",
              "      <td>tanh</td>\n",
              "      <td>(10, 10)</td>\n",
              "      <td>adam</td>\n",
              "      <td>0.59</td>\n",
              "      <td>0.55</td>\n",
              "    </tr>\n",
              "  </tbody>\n",
              "</table>\n",
              "</div>"
            ],
            "text/plain": [
              "   activation hidden_layer_sizes solver  mean_train_score  mean_test_score\n",
              "0        relu             (100,)  lbfgs              1.00             0.80\n",
              "1        relu             (100,)    sgd              0.51             0.47\n",
              "2        relu             (100,)   adam              0.79             0.68\n",
              "3        relu             (5, 5)  lbfgs              0.85             0.79\n",
              "4        relu             (5, 5)    sgd              0.30             0.29\n",
              "5        relu             (5, 5)   adam              0.55             0.50\n",
              "6        relu           (10, 10)  lbfgs              0.96             0.82\n",
              "7        relu           (10, 10)    sgd              0.47             0.44\n",
              "8        relu           (10, 10)   adam              0.67             0.61\n",
              "9        tanh             (100,)  lbfgs              1.00             0.68\n",
              "10       tanh             (100,)    sgd              0.44             0.41\n",
              "11       tanh             (100,)   adam              0.60             0.55\n",
              "12       tanh             (5, 5)  lbfgs              0.85             0.74\n",
              "13       tanh             (5, 5)    sgd              0.41             0.40\n",
              "14       tanh             (5, 5)   adam              0.52             0.47\n",
              "15       tanh           (10, 10)  lbfgs              0.99             0.72\n",
              "16       tanh           (10, 10)    sgd              0.44             0.42\n",
              "17       tanh           (10, 10)   adam              0.59             0.55"
            ]
          },
          "metadata": {
            "tags": []
          },
          "execution_count": 54
        }
      ]
    },
    {
      "cell_type": "code",
      "metadata": {
        "id": "__I5rA-JYuWz",
        "colab_type": "code",
        "colab": {
          "base_uri": "https://localhost:8080/",
          "height": 33
        },
        "outputId": "50650728-8d33-46c8-95ad-89afbdb72410"
      },
      "source": [
        "grid_best_params"
      ],
      "execution_count": null,
      "outputs": [
        {
          "output_type": "execute_result",
          "data": {
            "text/plain": [
              "{'activation': 'relu', 'hidden_layer_sizes': (10, 10), 'solver': 'lbfgs'}"
            ]
          },
          "metadata": {
            "tags": []
          },
          "execution_count": 55
        }
      ]
    },
    {
      "cell_type": "markdown",
      "metadata": {
        "id": "2uZxOEPyR1UE",
        "colab_type": "text"
      },
      "source": [
        "Para esté caso el mejor modelo es el que tiene una función de activación relu, 100 neuronas en la última capa y el optimizador lbfgs, es el mejor, pero al parecer el modelo está presentando overfitting (diferencia entre score de train y test es considerablemente mayor.). se prueban otros algoritmos."
      ]
    },
    {
      "cell_type": "markdown",
      "metadata": {
        "id": "WxfuWz-VtcCV",
        "colab_type": "text"
      },
      "source": [
        "#5. Métodos de ensamble"
      ]
    },
    {
      "cell_type": "markdown",
      "metadata": {
        "id": "Aau8ulrsSiJq",
        "colab_type": "text"
      },
      "source": [
        "**Curva de validación para Random Forest**"
      ]
    },
    {
      "cell_type": "code",
      "metadata": {
        "id": "X5OaomsPSkri",
        "colab_type": "code",
        "colab": {
          "base_uri": "https://localhost:8080/",
          "height": 970
        },
        "outputId": "515d3ff0-1b3a-43de-d3d5-7df7b49c6b5b"
      },
      "source": [
        "max_depth = np.arange(0, 30)\n",
        "train_score, val_score = validation_curve(RandomForestClassifier(random_state=0), X, y,\n",
        "                                          'max_depth', max_depth, cv=10)\n",
        "\n",
        "plt.plot(max_depth, np.median(train_score, 1), color='blue', label='Puntaje de entrenamiento')\n",
        "plt.plot(max_depth, np.median(val_score, 1), color='red', label='Puntaje de validación')\n",
        "plt.legend(loc='best')\n",
        "plt.ylim(0, 1)\n",
        "plt.xlabel('max_depth')\n",
        "plt.ylabel('Puntaje')"
      ],
      "execution_count": null,
      "outputs": [
        {
          "output_type": "stream",
          "text": [
            "/usr/local/lib/python3.6/dist-packages/sklearn/model_selection/_validation.py:536: FitFailedWarning: Estimator fit failed. The score on this train-test partition for these parameters will be set to nan. Details: \n",
            "ValueError: max_depth must be greater than zero. \n",
            "\n",
            "  FitFailedWarning)\n",
            "/usr/local/lib/python3.6/dist-packages/sklearn/model_selection/_validation.py:536: FitFailedWarning: Estimator fit failed. The score on this train-test partition for these parameters will be set to nan. Details: \n",
            "ValueError: max_depth must be greater than zero. \n",
            "\n",
            "  FitFailedWarning)\n",
            "/usr/local/lib/python3.6/dist-packages/sklearn/model_selection/_validation.py:536: FitFailedWarning: Estimator fit failed. The score on this train-test partition for these parameters will be set to nan. Details: \n",
            "ValueError: max_depth must be greater than zero. \n",
            "\n",
            "  FitFailedWarning)\n",
            "/usr/local/lib/python3.6/dist-packages/sklearn/model_selection/_validation.py:536: FitFailedWarning: Estimator fit failed. The score on this train-test partition for these parameters will be set to nan. Details: \n",
            "ValueError: max_depth must be greater than zero. \n",
            "\n",
            "  FitFailedWarning)\n",
            "/usr/local/lib/python3.6/dist-packages/sklearn/model_selection/_validation.py:536: FitFailedWarning: Estimator fit failed. The score on this train-test partition for these parameters will be set to nan. Details: \n",
            "ValueError: max_depth must be greater than zero. \n",
            "\n",
            "  FitFailedWarning)\n",
            "/usr/local/lib/python3.6/dist-packages/sklearn/model_selection/_validation.py:536: FitFailedWarning: Estimator fit failed. The score on this train-test partition for these parameters will be set to nan. Details: \n",
            "ValueError: max_depth must be greater than zero. \n",
            "\n",
            "  FitFailedWarning)\n",
            "/usr/local/lib/python3.6/dist-packages/sklearn/model_selection/_validation.py:536: FitFailedWarning: Estimator fit failed. The score on this train-test partition for these parameters will be set to nan. Details: \n",
            "ValueError: max_depth must be greater than zero. \n",
            "\n",
            "  FitFailedWarning)\n",
            "/usr/local/lib/python3.6/dist-packages/sklearn/model_selection/_validation.py:536: FitFailedWarning: Estimator fit failed. The score on this train-test partition for these parameters will be set to nan. Details: \n",
            "ValueError: max_depth must be greater than zero. \n",
            "\n",
            "  FitFailedWarning)\n",
            "/usr/local/lib/python3.6/dist-packages/sklearn/model_selection/_validation.py:536: FitFailedWarning: Estimator fit failed. The score on this train-test partition for these parameters will be set to nan. Details: \n",
            "ValueError: max_depth must be greater than zero. \n",
            "\n",
            "  FitFailedWarning)\n",
            "/usr/local/lib/python3.6/dist-packages/sklearn/model_selection/_validation.py:536: FitFailedWarning: Estimator fit failed. The score on this train-test partition for these parameters will be set to nan. Details: \n",
            "ValueError: max_depth must be greater than zero. \n",
            "\n",
            "  FitFailedWarning)\n"
          ],
          "name": "stderr"
        },
        {
          "output_type": "execute_result",
          "data": {
            "text/plain": [
              "Text(0, 0.5, 'Puntaje')"
            ]
          },
          "metadata": {
            "tags": []
          },
          "execution_count": 56
        },
        {
          "output_type": "display_data",
          "data": {
            "image/png": "[encoded data removed]",
            "text/plain": [
              "<Figure size 432x288 with 1 Axes>"
            ]
          },
          "metadata": {
            "tags": [],
            "needs_background": "light"
          }
        }
      ]
    },
    {
      "cell_type": "markdown",
      "metadata": {
        "id": "UxySt3LwTiyy",
        "colab_type": "text"
      },
      "source": [
        "Al igual que en los árboles de decisión cuando la profundidad de los estimadores (árboles de decisión) es mayor a 15 se presenta overfitting.\n"
      ]
    },
    {
      "cell_type": "markdown",
      "metadata": {
        "id": "3pqGB30VUTO7",
        "colab_type": "text"
      },
      "source": [
        "**Random Forest**"
      ]
    },
    {
      "cell_type": "code",
      "metadata": {
        "id": "N_hkiGx8thei",
        "colab_type": "code",
        "colab": {
          "base_uri": "https://localhost:8080/",
          "height": 163
        },
        "outputId": "afd1cb9e-7dea-4729-99af-89e40e25ba8b"
      },
      "source": [
        "%%time\n",
        "parameters = {'max_depth':[5,7,11, None],\n",
        "              'bootstrap':[True, False],\n",
        "              'min_samples_split':[2, 3, 10],\n",
        "              'criterion':[\"gini\", \"entropy\"],\n",
        "              'n_estimators':[100, 500, 1000]}\n",
        "\n",
        "rf = RandomForestClassifier(random_state=0)\n",
        "\n",
        "grid_search, grid_scores, grid_best_params, optimised_model = Grid_Search(parameters,rf)\n",
        "\n",
        "best_models[str(type(optimised_model).__name__)] = optimised_model"
      ],
      "execution_count": null,
      "outputs": [
        {
          "output_type": "stream",
          "text": [
            "Fitting 5 folds for each of 144 candidates, totalling 720 fits\n"
          ],
          "name": "stdout"
        },
        {
          "output_type": "stream",
          "text": [
            "[Parallel(n_jobs=-1)]: Using backend LokyBackend with 2 concurrent workers.\n",
            "[Parallel(n_jobs=-1)]: Done  37 tasks      | elapsed:   25.2s\n",
            "[Parallel(n_jobs=-1)]: Done 158 tasks      | elapsed:  2.0min\n",
            "[Parallel(n_jobs=-1)]: Done 361 tasks      | elapsed:  5.2min\n",
            "[Parallel(n_jobs=-1)]: Done 644 tasks      | elapsed:  8.7min\n"
          ],
          "name": "stderr"
        },
        {
          "output_type": "stream",
          "text": [
            "CPU times: user 3.16 s, sys: 97.4 ms, total: 3.26 s\n",
            "Wall time: 9min 58s\n"
          ],
          "name": "stdout"
        },
        {
          "output_type": "stream",
          "text": [
            "[Parallel(n_jobs=-1)]: Done 720 out of 720 | elapsed: 10.0min finished\n"
          ],
          "name": "stderr"
        }
      ]
    },
    {
      "cell_type": "code",
      "metadata": {
        "id": "Bqg0pYF1471k",
        "colab_type": "code",
        "colab": {
          "base_uri": "https://localhost:8080/",
          "height": 391
        },
        "outputId": "b81c9ac8-3b45-48d8-f864-86ad2098eac9"
      },
      "source": [
        "grid_scores"
      ],
      "execution_count": null,
      "outputs": [
        {
          "output_type": "execute_result",
          "data": {
            "text/html": [
              "<div>\n",
              "<style scoped>\n",
              "    .dataframe tbody tr th:only-of-type {\n",
              "        vertical-align: middle;\n",
              "    }\n",
              "\n",
              "    .dataframe tbody tr th {\n",
              "        vertical-align: top;\n",
              "    }\n",
              "\n",
              "    .dataframe thead th {\n",
              "        text-align: right;\n",
              "    }\n",
              "</style>\n",
              "<table border=\"1\" class=\"dataframe\">\n",
              "  <thead>\n",
              "    <tr style=\"text-align: right;\">\n",
              "      <th></th>\n",
              "      <th>bootstrap</th>\n",
              "      <th>criterion</th>\n",
              "      <th>max_depth</th>\n",
              "      <th>min_samples_split</th>\n",
              "      <th>n_estimators</th>\n",
              "      <th>mean_train_score</th>\n",
              "      <th>mean_test_score</th>\n",
              "    </tr>\n",
              "  </thead>\n",
              "  <tbody>\n",
              "    <tr>\n",
              "      <th>0</th>\n",
              "      <td>True</td>\n",
              "      <td>gini</td>\n",
              "      <td>5.00</td>\n",
              "      <td>2</td>\n",
              "      <td>100</td>\n",
              "      <td>0.77</td>\n",
              "      <td>0.70</td>\n",
              "    </tr>\n",
              "    <tr>\n",
              "      <th>1</th>\n",
              "      <td>True</td>\n",
              "      <td>gini</td>\n",
              "      <td>5.00</td>\n",
              "      <td>2</td>\n",
              "      <td>500</td>\n",
              "      <td>0.78</td>\n",
              "      <td>0.73</td>\n",
              "    </tr>\n",
              "    <tr>\n",
              "      <th>2</th>\n",
              "      <td>True</td>\n",
              "      <td>gini</td>\n",
              "      <td>5.00</td>\n",
              "      <td>2</td>\n",
              "      <td>1000</td>\n",
              "      <td>0.78</td>\n",
              "      <td>0.72</td>\n",
              "    </tr>\n",
              "    <tr>\n",
              "      <th>3</th>\n",
              "      <td>True</td>\n",
              "      <td>gini</td>\n",
              "      <td>5.00</td>\n",
              "      <td>3</td>\n",
              "      <td>100</td>\n",
              "      <td>0.77</td>\n",
              "      <td>0.70</td>\n",
              "    </tr>\n",
              "    <tr>\n",
              "      <th>4</th>\n",
              "      <td>True</td>\n",
              "      <td>gini</td>\n",
              "      <td>5.00</td>\n",
              "      <td>3</td>\n",
              "      <td>500</td>\n",
              "      <td>0.78</td>\n",
              "      <td>0.73</td>\n",
              "    </tr>\n",
              "    <tr>\n",
              "      <th>...</th>\n",
              "      <td>...</td>\n",
              "      <td>...</td>\n",
              "      <td>...</td>\n",
              "      <td>...</td>\n",
              "      <td>...</td>\n",
              "      <td>...</td>\n",
              "      <td>...</td>\n",
              "    </tr>\n",
              "    <tr>\n",
              "      <th>139</th>\n",
              "      <td>False</td>\n",
              "      <td>entropy</td>\n",
              "      <td>nan</td>\n",
              "      <td>3</td>\n",
              "      <td>500</td>\n",
              "      <td>1.00</td>\n",
              "      <td>0.98</td>\n",
              "    </tr>\n",
              "    <tr>\n",
              "      <th>140</th>\n",
              "      <td>False</td>\n",
              "      <td>entropy</td>\n",
              "      <td>nan</td>\n",
              "      <td>3</td>\n",
              "      <td>1000</td>\n",
              "      <td>1.00</td>\n",
              "      <td>0.98</td>\n",
              "    </tr>\n",
              "    <tr>\n",
              "      <th>141</th>\n",
              "      <td>False</td>\n",
              "      <td>entropy</td>\n",
              "      <td>nan</td>\n",
              "      <td>10</td>\n",
              "      <td>100</td>\n",
              "      <td>1.00</td>\n",
              "      <td>0.98</td>\n",
              "    </tr>\n",
              "    <tr>\n",
              "      <th>142</th>\n",
              "      <td>False</td>\n",
              "      <td>entropy</td>\n",
              "      <td>nan</td>\n",
              "      <td>10</td>\n",
              "      <td>500</td>\n",
              "      <td>1.00</td>\n",
              "      <td>0.98</td>\n",
              "    </tr>\n",
              "    <tr>\n",
              "      <th>143</th>\n",
              "      <td>False</td>\n",
              "      <td>entropy</td>\n",
              "      <td>nan</td>\n",
              "      <td>10</td>\n",
              "      <td>1000</td>\n",
              "      <td>1.00</td>\n",
              "      <td>0.98</td>\n",
              "    </tr>\n",
              "  </tbody>\n",
              "</table>\n",
              "<p>144 rows × 7 columns</p>\n",
              "</div>"
            ],
            "text/plain": [
              "     bootstrap criterion  ...  mean_train_score  mean_test_score\n",
              "0         True      gini  ...              0.77             0.70\n",
              "1         True      gini  ...              0.78             0.73\n",
              "2         True      gini  ...              0.78             0.72\n",
              "3         True      gini  ...              0.77             0.70\n",
              "4         True      gini  ...              0.78             0.73\n",
              "..         ...       ...  ...               ...              ...\n",
              "139      False   entropy  ...              1.00             0.98\n",
              "140      False   entropy  ...              1.00             0.98\n",
              "141      False   entropy  ...              1.00             0.98\n",
              "142      False   entropy  ...              1.00             0.98\n",
              "143      False   entropy  ...              1.00             0.98\n",
              "\n",
              "[144 rows x 7 columns]"
            ]
          },
          "metadata": {
            "tags": []
          },
          "execution_count": 58
        }
      ]
    },
    {
      "cell_type": "markdown",
      "metadata": {
        "id": "bFWUAvOTzKEZ",
        "colab_type": "text"
      },
      "source": [
        "Encontramos muy buenos valores promedios en el recall, tanto en entrenamiento como en prueba, estos valores serán validados con el set de validación."
      ]
    },
    {
      "cell_type": "code",
      "metadata": {
        "id": "cqqi8QcDwdBt",
        "colab_type": "code",
        "colab": {
          "base_uri": "https://localhost:8080/",
          "height": 98
        },
        "outputId": "f9a16533-f177-4e49-829c-9896e92e3af0"
      },
      "source": [
        "grid_best_params"
      ],
      "execution_count": null,
      "outputs": [
        {
          "output_type": "execute_result",
          "data": {
            "text/plain": [
              "{'bootstrap': True,\n",
              " 'criterion': 'gini',\n",
              " 'max_depth': None,\n",
              " 'min_samples_split': 2,\n",
              " 'n_estimators': 100}"
            ]
          },
          "metadata": {
            "tags": []
          },
          "execution_count": 59
        }
      ]
    },
    {
      "cell_type": "code",
      "metadata": {
        "id": "cGTVvIeczirb",
        "colab_type": "code",
        "colab": {
          "base_uri": "https://localhost:8080/",
          "height": 538
        },
        "outputId": "0e2bbb15-b4c4-437e-dbbf-94c220d32cd3"
      },
      "source": [
        "rfb = RandomForestClassifier(random_state=0,bootstrap=True,criterion='gini',max_depth= None, min_samples_split=2,n_estimators=500).fit(X_train,y_train)\n",
        "y_pred_rf= rfb.predict(X_test)\n",
        "\n",
        "cnf_matrix = confusion_matrix(y_test, y_pred_rf, labels=[0,1,2])\n",
        "np.set_printoptions(precision=2)\n",
        "\n",
        "print (classification_report(y_test, y_pred_rf))\n",
        "\n",
        "# Gráfico personalizado matriz de confusión\n",
        "plt.figure()\n",
        "plot_confusion_matrix(cnf_matrix, classes=['ok','alerta','error'],normalize= False,  title='Matriz de confusión')"
      ],
      "execution_count": null,
      "outputs": [
        {
          "output_type": "stream",
          "text": [
            "              precision    recall  f1-score   support\n",
            "\n",
            "           0       0.82      0.69      0.75        45\n",
            "           1       0.55      0.44      0.49        36\n",
            "           2       0.62      0.96      0.76        26\n",
            "\n",
            "    accuracy                           0.67       107\n",
            "   macro avg       0.66      0.70      0.67       107\n",
            "weighted avg       0.68      0.67      0.66       107\n",
            "\n",
            "Matriz de confusión sin normalización\n",
            "[[31 12  2]\n",
            " [ 7 16 13]\n",
            " [ 0  1 25]]\n"
          ],
          "name": "stdout"
        },
        {
          "output_type": "display_data",
          "data": {
            "image/png": "[encoded data removed]",
            "text/plain": [
              "<Figure size 432x288 with 2 Axes>"
            ]
          },
          "metadata": {
            "tags": [],
            "needs_background": "light"
          }
        }
      ]
    },
    {
      "cell_type": "markdown",
      "metadata": {
        "id": "o1wvYls70R9F",
        "colab_type": "text"
      },
      "source": [
        "Esté algorimo tamién presenta un muy bien comportamiento en el recall en la variable target con el valor 2, da resultados similares a los árboles de decisión pero el tiempo de  entrenamiento es mayor."
      ]
    },
    {
      "cell_type": "markdown",
      "metadata": {
        "id": "xMMjGiVVUXlp",
        "colab_type": "text"
      },
      "source": [
        "**Ada Boost**"
      ]
    },
    {
      "cell_type": "markdown",
      "metadata": {
        "id": "u_NzlX2t1I_S",
        "colab_type": "text"
      },
      "source": [
        "**Curva de validación para Ada Boost**"
      ]
    },
    {
      "cell_type": "code",
      "metadata": {
        "id": "Pj4xD0iZ1Mpv",
        "colab_type": "code",
        "colab": {
          "base_uri": "https://localhost:8080/",
          "height": 300
        },
        "outputId": "28df6c18-9495-435f-f57d-5e5b304ae7da"
      },
      "source": [
        "n_estimators = np.arange(10, 60)\n",
        "train_score, val_score = validation_curve(AdaBoostClassifier(random_state=0), X, y,\n",
        "                                          'n_estimators', n_estimators, cv=10)\n",
        "\n",
        "plt.plot(n_estimators, np.median(train_score, 1), color='blue', label='Puntaje de entrenamiento')\n",
        "plt.plot(n_estimators, np.median(val_score, 1), color='red', label='Puntaje de validación')\n",
        "plt.legend(loc='best')\n",
        "plt.ylim(0, 1)\n",
        "plt.xlabel('n_estimators')\n",
        "plt.ylabel('Puntaje')"
      ],
      "execution_count": null,
      "outputs": [
        {
          "output_type": "execute_result",
          "data": {
            "text/plain": [
              "Text(0, 0.5, 'Puntaje')"
            ]
          },
          "metadata": {
            "tags": []
          },
          "execution_count": 62
        },
        {
          "output_type": "display_data",
          "data": {
            "image/png": "[encoded data removed]",
            "text/plain": [
              "<Figure size 432x288 with 1 Axes>"
            ]
          },
          "metadata": {
            "tags": [],
            "needs_background": "light"
          }
        }
      ]
    },
    {
      "cell_type": "markdown",
      "metadata": {
        "id": "J5YvioFP1mTW",
        "colab_type": "text"
      },
      "source": [
        "Se evidencia que después de 10 estimadores se estabiliza el comportamiento del recall, que independiente del número de estimadores va  atener el mismo comportamiento en el score."
      ]
    },
    {
      "cell_type": "code",
      "metadata": {
        "id": "odgviXBMUfq0",
        "colab_type": "code",
        "colab": {
          "base_uri": "https://localhost:8080/",
          "height": 66
        },
        "outputId": "68124a38-7def-41b1-9616-e426e6358976"
      },
      "source": [
        "parameters = {'n_estimators': [10, 15, 20]}\n",
        "\n",
        "adab = AdaBoostClassifier(random_state=0)\n",
        "\n",
        "grid_search, grid_scores, grid_best_params, optimised_model = Grid_Search(parameters, adab)\n",
        "\n",
        "best_models[str(type(optimised_model).__name__)] = optimised_model"
      ],
      "execution_count": null,
      "outputs": [
        {
          "output_type": "stream",
          "text": [
            "Fitting 5 folds for each of 3 candidates, totalling 15 fits\n"
          ],
          "name": "stdout"
        },
        {
          "output_type": "stream",
          "text": [
            "[Parallel(n_jobs=-1)]: Using backend LokyBackend with 2 concurrent workers.\n",
            "[Parallel(n_jobs=-1)]: Done  15 out of  15 | elapsed:    0.4s finished\n"
          ],
          "name": "stderr"
        }
      ]
    },
    {
      "cell_type": "code",
      "metadata": {
        "id": "36qaKWXAUgOQ",
        "colab_type": "code",
        "colab": {
          "base_uri": "https://localhost:8080/",
          "height": 133
        },
        "outputId": "e402a4ec-4289-4135-c7a0-1ffccb8bcc45"
      },
      "source": [
        "grid_scores"
      ],
      "execution_count": null,
      "outputs": [
        {
          "output_type": "execute_result",
          "data": {
            "text/html": [
              "<div>\n",
              "<style scoped>\n",
              "    .dataframe tbody tr th:only-of-type {\n",
              "        vertical-align: middle;\n",
              "    }\n",
              "\n",
              "    .dataframe tbody tr th {\n",
              "        vertical-align: top;\n",
              "    }\n",
              "\n",
              "    .dataframe thead th {\n",
              "        text-align: right;\n",
              "    }\n",
              "</style>\n",
              "<table border=\"1\" class=\"dataframe\">\n",
              "  <thead>\n",
              "    <tr style=\"text-align: right;\">\n",
              "      <th></th>\n",
              "      <th>n_estimators</th>\n",
              "      <th>mean_train_score</th>\n",
              "      <th>mean_test_score</th>\n",
              "    </tr>\n",
              "  </thead>\n",
              "  <tbody>\n",
              "    <tr>\n",
              "      <th>0</th>\n",
              "      <td>10</td>\n",
              "      <td>0.76</td>\n",
              "      <td>0.75</td>\n",
              "    </tr>\n",
              "    <tr>\n",
              "      <th>1</th>\n",
              "      <td>15</td>\n",
              "      <td>0.74</td>\n",
              "      <td>0.73</td>\n",
              "    </tr>\n",
              "    <tr>\n",
              "      <th>2</th>\n",
              "      <td>20</td>\n",
              "      <td>0.76</td>\n",
              "      <td>0.75</td>\n",
              "    </tr>\n",
              "  </tbody>\n",
              "</table>\n",
              "</div>"
            ],
            "text/plain": [
              "   n_estimators  mean_train_score  mean_test_score\n",
              "0            10              0.76             0.75\n",
              "1            15              0.74             0.73\n",
              "2            20              0.76             0.75"
            ]
          },
          "metadata": {
            "tags": []
          },
          "execution_count": 65
        }
      ]
    },
    {
      "cell_type": "markdown",
      "metadata": {
        "id": "CEfAvC_L4qx9",
        "colab_type": "text"
      },
      "source": [
        "Tiene en promedio un recall aceptable del 75%."
      ]
    },
    {
      "cell_type": "markdown",
      "metadata": {
        "id": "I7iiTfEU4K4O",
        "colab_type": "text"
      },
      "source": [
        "Se vuelve a entrenar el modelo con los mejores hiperparámetros "
      ]
    },
    {
      "cell_type": "code",
      "metadata": {
        "id": "xl7e3tIo09cn",
        "colab_type": "code",
        "colab": {
          "base_uri": "https://localhost:8080/",
          "height": 33
        },
        "outputId": "548ad1a7-5167-494e-d886-b5856b202635"
      },
      "source": [
        "grid_best_params"
      ],
      "execution_count": null,
      "outputs": [
        {
          "output_type": "execute_result",
          "data": {
            "text/plain": [
              "{'n_estimators': 10}"
            ]
          },
          "metadata": {
            "tags": []
          },
          "execution_count": 66
        }
      ]
    },
    {
      "cell_type": "markdown",
      "metadata": {
        "id": "yW9a675S_sm6",
        "colab_type": "text"
      },
      "source": [
        "Se vuelve a entrenar y a evaluar el algoritmo con los mejores hiperparámetros"
      ]
    },
    {
      "cell_type": "code",
      "metadata": {
        "id": "aNF0pvj64Wy7",
        "colab_type": "code",
        "colab": {
          "base_uri": "https://localhost:8080/",
          "height": 538
        },
        "outputId": "7c08fb1b-1aac-42f8-d460-0435af409833"
      },
      "source": [
        "adb = AdaBoostClassifier(random_state=0,n_estimators=10).fit(X_train,y_train)\n",
        "y_pred_adb= adb.predict(X_test)\n",
        "\n",
        "cnf_matrix = confusion_matrix(y_test, y_pred_adb, labels=[0,1,2])\n",
        "np.set_printoptions(precision=2)\n",
        "\n",
        "print (classification_report(y_test, y_pred_adb))\n",
        "\n",
        "# Gráfico personalizado matriz de confusión\n",
        "plt.figure()\n",
        "plot_confusion_matrix(cnf_matrix, classes=['ok','alerta','error'],normalize= False,  title='Matriz de confusión')"
      ],
      "execution_count": null,
      "outputs": [
        {
          "output_type": "stream",
          "text": [
            "              precision    recall  f1-score   support\n",
            "\n",
            "           0       0.74      0.87      0.80        45\n",
            "           1       0.60      0.17      0.26        36\n",
            "           2       0.57      0.96      0.71        26\n",
            "\n",
            "    accuracy                           0.65       107\n",
            "   macro avg       0.63      0.66      0.59       107\n",
            "weighted avg       0.65      0.65      0.60       107\n",
            "\n",
            "Matriz de confusión sin normalización\n",
            "[[39  4  2]\n",
            " [13  6 17]\n",
            " [ 1  0 25]]\n"
          ],
          "name": "stdout"
        },
        {
          "output_type": "display_data",
          "data": {
            "image/png": "[encoded data removed]",
            "text/plain": [
              "<Figure size 432x288 with 2 Axes>"
            ]
          },
          "metadata": {
            "tags": [],
            "needs_background": "light"
          }
        }
      ]
    },
    {
      "cell_type": "markdown",
      "metadata": {
        "id": "8TEfqva746rk",
        "colab_type": "text"
      },
      "source": [
        "Tiene un comportamiento del recall en nuestra clase de interés el error, tiene un comportamiento similar a random forest y a los árboles de decisión."
      ]
    },
    {
      "cell_type": "markdown",
      "metadata": {
        "id": "bCJ3vWI_Usxn",
        "colab_type": "text"
      },
      "source": [
        "**Gradient Boost**"
      ]
    },
    {
      "cell_type": "markdown",
      "metadata": {
        "id": "RSmvziXP5lid",
        "colab_type": "text"
      },
      "source": [
        "**Curva de validación para gradient boost**"
      ]
    },
    {
      "cell_type": "code",
      "metadata": {
        "id": "Al8YQFhU5p2W",
        "colab_type": "code",
        "colab": {
          "base_uri": "https://localhost:8080/",
          "height": 300
        },
        "outputId": "fed52443-7531-4ef0-f78d-3a5c411831e7"
      },
      "source": [
        "n_estimators = np.arange(50, 200)\n",
        "train_score, val_score = validation_curve(GradientBoostingClassifier(random_state=0), X, y,\n",
        "                                          'n_estimators', n_estimators, cv=10)\n",
        "\n",
        "plt.plot(n_estimators, np.median(train_score, 1), color='blue', label='Puntaje de entrenamiento')\n",
        "plt.plot(n_estimators, np.median(val_score, 1), color='red', label='Puntaje de validación')\n",
        "plt.legend(loc='best')\n",
        "plt.ylim(0, 1)\n",
        "plt.xlabel('n_estimators')\n",
        "plt.ylabel('Puntaje')"
      ],
      "execution_count": null,
      "outputs": [
        {
          "output_type": "execute_result",
          "data": {
            "text/plain": [
              "Text(0, 0.5, 'Puntaje')"
            ]
          },
          "metadata": {
            "tags": []
          },
          "execution_count": 70
        },
        {
          "output_type": "display_data",
          "data": {
            "image/png": "[encoded data removed]",
            "text/plain": [
              "<Figure size 432x288 with 1 Axes>"
            ]
          },
          "metadata": {
            "tags": [],
            "needs_background": "light"
          }
        }
      ]
    },
    {
      "cell_type": "markdown",
      "metadata": {
        "id": "wZs4jhCi05yk",
        "colab_type": "text"
      },
      "source": [
        "Cómo son pocos features se prueba con profundidades pequeñas"
      ]
    },
    {
      "cell_type": "code",
      "metadata": {
        "id": "bTc8g_qFSUah",
        "colab_type": "code",
        "colab": {
          "base_uri": "https://localhost:8080/",
          "height": 131
        },
        "outputId": "b26094b7-85f9-48d2-ac9c-dfd0bb8f894e"
      },
      "source": [
        "%%time\n",
        "parameters = {'max_depth':[3,4,6, None],\n",
        "              'subsample':[0.7,0.6, 0.8],\n",
        "              'n_estimators':[50, 80, 120]}\n",
        "\n",
        "gb= GradientBoostingClassifier(random_state=0)\n",
        "\n",
        "\n",
        "grid_search, grid_scores, grid_best_params, optimised_model = Grid_Search(parameters, gb)\n",
        "\n",
        "best_models[str(type(optimised_model).__name__)] = optimised_model\n"
      ],
      "execution_count": null,
      "outputs": [
        {
          "output_type": "stream",
          "text": [
            "Fitting 5 folds for each of 36 candidates, totalling 180 fits\n"
          ],
          "name": "stdout"
        },
        {
          "output_type": "stream",
          "text": [
            "[Parallel(n_jobs=-1)]: Using backend LokyBackend with 2 concurrent workers.\n",
            "[Parallel(n_jobs=-1)]: Done  37 tasks      | elapsed:    8.4s\n",
            "[Parallel(n_jobs=-1)]: Done 158 tasks      | elapsed:   45.4s\n",
            "[Parallel(n_jobs=-1)]: Done 180 out of 180 | elapsed:   55.2s finished\n"
          ],
          "name": "stderr"
        },
        {
          "output_type": "stream",
          "text": [
            "CPU times: user 1.04 s, sys: 51 ms, total: 1.09 s\n",
            "Wall time: 55.5 s\n"
          ],
          "name": "stdout"
        }
      ]
    },
    {
      "cell_type": "code",
      "metadata": {
        "id": "oNhCzfffb5Nz",
        "colab_type": "code",
        "colab": {
          "base_uri": "https://localhost:8080/",
          "height": 1000
        },
        "outputId": "2b0d76f7-b411-42db-a5ba-1a90a8af4221"
      },
      "source": [
        "grid_scores"
      ],
      "execution_count": null,
      "outputs": [
        {
          "output_type": "execute_result",
          "data": {
            "text/html": [
              "<div>\n",
              "<style scoped>\n",
              "    .dataframe tbody tr th:only-of-type {\n",
              "        vertical-align: middle;\n",
              "    }\n",
              "\n",
              "    .dataframe tbody tr th {\n",
              "        vertical-align: top;\n",
              "    }\n",
              "\n",
              "    .dataframe thead th {\n",
              "        text-align: right;\n",
              "    }\n",
              "</style>\n",
              "<table border=\"1\" class=\"dataframe\">\n",
              "  <thead>\n",
              "    <tr style=\"text-align: right;\">\n",
              "      <th></th>\n",
              "      <th>max_depth</th>\n",
              "      <th>n_estimators</th>\n",
              "      <th>subsample</th>\n",
              "      <th>mean_train_score</th>\n",
              "      <th>mean_test_score</th>\n",
              "    </tr>\n",
              "  </thead>\n",
              "  <tbody>\n",
              "    <tr>\n",
              "      <th>0</th>\n",
              "      <td>3.00</td>\n",
              "      <td>50</td>\n",
              "      <td>0.70</td>\n",
              "      <td>1.00</td>\n",
              "      <td>0.98</td>\n",
              "    </tr>\n",
              "    <tr>\n",
              "      <th>1</th>\n",
              "      <td>3.00</td>\n",
              "      <td>50</td>\n",
              "      <td>0.60</td>\n",
              "      <td>1.00</td>\n",
              "      <td>0.98</td>\n",
              "    </tr>\n",
              "    <tr>\n",
              "      <th>2</th>\n",
              "      <td>3.00</td>\n",
              "      <td>50</td>\n",
              "      <td>0.80</td>\n",
              "      <td>1.00</td>\n",
              "      <td>0.98</td>\n",
              "    </tr>\n",
              "    <tr>\n",
              "      <th>3</th>\n",
              "      <td>3.00</td>\n",
              "      <td>80</td>\n",
              "      <td>0.70</td>\n",
              "      <td>1.00</td>\n",
              "      <td>0.99</td>\n",
              "    </tr>\n",
              "    <tr>\n",
              "      <th>4</th>\n",
              "      <td>3.00</td>\n",
              "      <td>80</td>\n",
              "      <td>0.60</td>\n",
              "      <td>1.00</td>\n",
              "      <td>0.99</td>\n",
              "    </tr>\n",
              "    <tr>\n",
              "      <th>5</th>\n",
              "      <td>3.00</td>\n",
              "      <td>80</td>\n",
              "      <td>0.80</td>\n",
              "      <td>1.00</td>\n",
              "      <td>0.99</td>\n",
              "    </tr>\n",
              "    <tr>\n",
              "      <th>6</th>\n",
              "      <td>3.00</td>\n",
              "      <td>120</td>\n",
              "      <td>0.70</td>\n",
              "      <td>1.00</td>\n",
              "      <td>0.99</td>\n",
              "    </tr>\n",
              "    <tr>\n",
              "      <th>7</th>\n",
              "      <td>3.00</td>\n",
              "      <td>120</td>\n",
              "      <td>0.60</td>\n",
              "      <td>1.00</td>\n",
              "      <td>0.99</td>\n",
              "    </tr>\n",
              "    <tr>\n",
              "      <th>8</th>\n",
              "      <td>3.00</td>\n",
              "      <td>120</td>\n",
              "      <td>0.80</td>\n",
              "      <td>1.00</td>\n",
              "      <td>0.99</td>\n",
              "    </tr>\n",
              "    <tr>\n",
              "      <th>9</th>\n",
              "      <td>4.00</td>\n",
              "      <td>50</td>\n",
              "      <td>0.70</td>\n",
              "      <td>1.00</td>\n",
              "      <td>0.98</td>\n",
              "    </tr>\n",
              "    <tr>\n",
              "      <th>10</th>\n",
              "      <td>4.00</td>\n",
              "      <td>50</td>\n",
              "      <td>0.60</td>\n",
              "      <td>1.00</td>\n",
              "      <td>0.98</td>\n",
              "    </tr>\n",
              "    <tr>\n",
              "      <th>11</th>\n",
              "      <td>4.00</td>\n",
              "      <td>50</td>\n",
              "      <td>0.80</td>\n",
              "      <td>1.00</td>\n",
              "      <td>0.98</td>\n",
              "    </tr>\n",
              "    <tr>\n",
              "      <th>12</th>\n",
              "      <td>4.00</td>\n",
              "      <td>80</td>\n",
              "      <td>0.70</td>\n",
              "      <td>1.00</td>\n",
              "      <td>0.99</td>\n",
              "    </tr>\n",
              "    <tr>\n",
              "      <th>13</th>\n",
              "      <td>4.00</td>\n",
              "      <td>80</td>\n",
              "      <td>0.60</td>\n",
              "      <td>1.00</td>\n",
              "      <td>0.99</td>\n",
              "    </tr>\n",
              "    <tr>\n",
              "      <th>14</th>\n",
              "      <td>4.00</td>\n",
              "      <td>80</td>\n",
              "      <td>0.80</td>\n",
              "      <td>1.00</td>\n",
              "      <td>0.99</td>\n",
              "    </tr>\n",
              "    <tr>\n",
              "      <th>15</th>\n",
              "      <td>4.00</td>\n",
              "      <td>120</td>\n",
              "      <td>0.70</td>\n",
              "      <td>1.00</td>\n",
              "      <td>0.99</td>\n",
              "    </tr>\n",
              "    <tr>\n",
              "      <th>16</th>\n",
              "      <td>4.00</td>\n",
              "      <td>120</td>\n",
              "      <td>0.60</td>\n",
              "      <td>1.00</td>\n",
              "      <td>0.99</td>\n",
              "    </tr>\n",
              "    <tr>\n",
              "      <th>17</th>\n",
              "      <td>4.00</td>\n",
              "      <td>120</td>\n",
              "      <td>0.80</td>\n",
              "      <td>1.00</td>\n",
              "      <td>0.99</td>\n",
              "    </tr>\n",
              "    <tr>\n",
              "      <th>18</th>\n",
              "      <td>6.00</td>\n",
              "      <td>50</td>\n",
              "      <td>0.70</td>\n",
              "      <td>1.00</td>\n",
              "      <td>0.98</td>\n",
              "    </tr>\n",
              "    <tr>\n",
              "      <th>19</th>\n",
              "      <td>6.00</td>\n",
              "      <td>50</td>\n",
              "      <td>0.60</td>\n",
              "      <td>1.00</td>\n",
              "      <td>0.98</td>\n",
              "    </tr>\n",
              "    <tr>\n",
              "      <th>20</th>\n",
              "      <td>6.00</td>\n",
              "      <td>50</td>\n",
              "      <td>0.80</td>\n",
              "      <td>1.00</td>\n",
              "      <td>0.98</td>\n",
              "    </tr>\n",
              "    <tr>\n",
              "      <th>21</th>\n",
              "      <td>6.00</td>\n",
              "      <td>80</td>\n",
              "      <td>0.70</td>\n",
              "      <td>1.00</td>\n",
              "      <td>0.99</td>\n",
              "    </tr>\n",
              "    <tr>\n",
              "      <th>22</th>\n",
              "      <td>6.00</td>\n",
              "      <td>80</td>\n",
              "      <td>0.60</td>\n",
              "      <td>1.00</td>\n",
              "      <td>0.99</td>\n",
              "    </tr>\n",
              "    <tr>\n",
              "      <th>23</th>\n",
              "      <td>6.00</td>\n",
              "      <td>80</td>\n",
              "      <td>0.80</td>\n",
              "      <td>1.00</td>\n",
              "      <td>0.99</td>\n",
              "    </tr>\n",
              "    <tr>\n",
              "      <th>24</th>\n",
              "      <td>6.00</td>\n",
              "      <td>120</td>\n",
              "      <td>0.70</td>\n",
              "      <td>1.00</td>\n",
              "      <td>0.99</td>\n",
              "    </tr>\n",
              "    <tr>\n",
              "      <th>25</th>\n",
              "      <td>6.00</td>\n",
              "      <td>120</td>\n",
              "      <td>0.60</td>\n",
              "      <td>1.00</td>\n",
              "      <td>0.99</td>\n",
              "    </tr>\n",
              "    <tr>\n",
              "      <th>26</th>\n",
              "      <td>6.00</td>\n",
              "      <td>120</td>\n",
              "      <td>0.80</td>\n",
              "      <td>1.00</td>\n",
              "      <td>0.99</td>\n",
              "    </tr>\n",
              "    <tr>\n",
              "      <th>27</th>\n",
              "      <td>nan</td>\n",
              "      <td>50</td>\n",
              "      <td>0.70</td>\n",
              "      <td>1.00</td>\n",
              "      <td>0.98</td>\n",
              "    </tr>\n",
              "    <tr>\n",
              "      <th>28</th>\n",
              "      <td>nan</td>\n",
              "      <td>50</td>\n",
              "      <td>0.60</td>\n",
              "      <td>1.00</td>\n",
              "      <td>0.97</td>\n",
              "    </tr>\n",
              "    <tr>\n",
              "      <th>29</th>\n",
              "      <td>nan</td>\n",
              "      <td>50</td>\n",
              "      <td>0.80</td>\n",
              "      <td>1.00</td>\n",
              "      <td>0.98</td>\n",
              "    </tr>\n",
              "    <tr>\n",
              "      <th>30</th>\n",
              "      <td>nan</td>\n",
              "      <td>80</td>\n",
              "      <td>0.70</td>\n",
              "      <td>1.00</td>\n",
              "      <td>0.98</td>\n",
              "    </tr>\n",
              "    <tr>\n",
              "      <th>31</th>\n",
              "      <td>nan</td>\n",
              "      <td>80</td>\n",
              "      <td>0.60</td>\n",
              "      <td>1.00</td>\n",
              "      <td>0.98</td>\n",
              "    </tr>\n",
              "    <tr>\n",
              "      <th>32</th>\n",
              "      <td>nan</td>\n",
              "      <td>80</td>\n",
              "      <td>0.80</td>\n",
              "      <td>1.00</td>\n",
              "      <td>0.98</td>\n",
              "    </tr>\n",
              "    <tr>\n",
              "      <th>33</th>\n",
              "      <td>nan</td>\n",
              "      <td>120</td>\n",
              "      <td>0.70</td>\n",
              "      <td>1.00</td>\n",
              "      <td>0.98</td>\n",
              "    </tr>\n",
              "    <tr>\n",
              "      <th>34</th>\n",
              "      <td>nan</td>\n",
              "      <td>120</td>\n",
              "      <td>0.60</td>\n",
              "      <td>1.00</td>\n",
              "      <td>0.98</td>\n",
              "    </tr>\n",
              "    <tr>\n",
              "      <th>35</th>\n",
              "      <td>nan</td>\n",
              "      <td>120</td>\n",
              "      <td>0.80</td>\n",
              "      <td>1.00</td>\n",
              "      <td>0.98</td>\n",
              "    </tr>\n",
              "  </tbody>\n",
              "</table>\n",
              "</div>"
            ],
            "text/plain": [
              "    max_depth  n_estimators  subsample  mean_train_score  mean_test_score\n",
              "0        3.00            50       0.70              1.00             0.98\n",
              "1        3.00            50       0.60              1.00             0.98\n",
              "2        3.00            50       0.80              1.00             0.98\n",
              "3        3.00            80       0.70              1.00             0.99\n",
              "4        3.00            80       0.60              1.00             0.99\n",
              "5        3.00            80       0.80              1.00             0.99\n",
              "6        3.00           120       0.70              1.00             0.99\n",
              "7        3.00           120       0.60              1.00             0.99\n",
              "8        3.00           120       0.80              1.00             0.99\n",
              "9        4.00            50       0.70              1.00             0.98\n",
              "10       4.00            50       0.60              1.00             0.98\n",
              "11       4.00            50       0.80              1.00             0.98\n",
              "12       4.00            80       0.70              1.00             0.99\n",
              "13       4.00            80       0.60              1.00             0.99\n",
              "14       4.00            80       0.80              1.00             0.99\n",
              "15       4.00           120       0.70              1.00             0.99\n",
              "16       4.00           120       0.60              1.00             0.99\n",
              "17       4.00           120       0.80              1.00             0.99\n",
              "18       6.00            50       0.70              1.00             0.98\n",
              "19       6.00            50       0.60              1.00             0.98\n",
              "20       6.00            50       0.80              1.00             0.98\n",
              "21       6.00            80       0.70              1.00             0.99\n",
              "22       6.00            80       0.60              1.00             0.99\n",
              "23       6.00            80       0.80              1.00             0.99\n",
              "24       6.00           120       0.70              1.00             0.99\n",
              "25       6.00           120       0.60              1.00             0.99\n",
              "26       6.00           120       0.80              1.00             0.99\n",
              "27        nan            50       0.70              1.00             0.98\n",
              "28        nan            50       0.60              1.00             0.97\n",
              "29        nan            50       0.80              1.00             0.98\n",
              "30        nan            80       0.70              1.00             0.98\n",
              "31        nan            80       0.60              1.00             0.98\n",
              "32        nan            80       0.80              1.00             0.98\n",
              "33        nan           120       0.70              1.00             0.98\n",
              "34        nan           120       0.60              1.00             0.98\n",
              "35        nan           120       0.80              1.00             0.98"
            ]
          },
          "metadata": {
            "tags": []
          },
          "execution_count": 72
        }
      ]
    },
    {
      "cell_type": "markdown",
      "metadata": {
        "id": "mdpc66oGWOjK",
        "colab_type": "text"
      },
      "source": [
        "Se entrena el modelo nuevamente con los mejores hiperparámetros"
      ]
    },
    {
      "cell_type": "code",
      "metadata": {
        "id": "e7CPr0MsWHAa",
        "colab_type": "code",
        "colab": {
          "base_uri": "https://localhost:8080/",
          "height": 33
        },
        "outputId": "551ba779-e916-4b05-9b6d-c08d7a608b52"
      },
      "source": [
        "grid_best_params"
      ],
      "execution_count": null,
      "outputs": [
        {
          "output_type": "execute_result",
          "data": {
            "text/plain": [
              "{'max_depth': 3, 'n_estimators': 80, 'subsample': 0.7}"
            ]
          },
          "metadata": {
            "tags": []
          },
          "execution_count": 73
        }
      ]
    },
    {
      "cell_type": "markdown",
      "metadata": {
        "id": "VwoTSUyI_6X5",
        "colab_type": "text"
      },
      "source": [
        "Se vuelve a entrenar y a evaluar el algoritmo con los mejores hiperparámetros"
      ]
    },
    {
      "cell_type": "code",
      "metadata": {
        "id": "2HmrXWQPQt1g",
        "colab_type": "code",
        "colab": {
          "base_uri": "https://localhost:8080/",
          "height": 538
        },
        "outputId": "34af2635-1820-4d00-846a-18abec3f9210"
      },
      "source": [
        "gbm = GradientBoostingClassifier(random_state=0,n_estimators=100).fit(X_train,y_train)\n",
        "y_pred_gb= gbm.predict(X_test)\n",
        "\n",
        "cnf_matrix = confusion_matrix(y_test, y_pred_gb, labels=[0,1,2])\n",
        "np.set_printoptions(precision=2)\n",
        "\n",
        "print (classification_report(y_test, y_pred_gb))\n",
        "\n",
        "# Gráfico personalizado matriz de confusión\n",
        "plt.figure()\n",
        "plot_confusion_matrix(cnf_matrix, classes=['ok','alerta','error'],normalize= False,  title='Matriz de confusión')"
      ],
      "execution_count": null,
      "outputs": [
        {
          "output_type": "stream",
          "text": [
            "              precision    recall  f1-score   support\n",
            "\n",
            "           0       0.79      0.69      0.74        45\n",
            "           1       0.52      0.36      0.43        36\n",
            "           2       0.58      0.96      0.72        26\n",
            "\n",
            "    accuracy                           0.64       107\n",
            "   macro avg       0.63      0.67      0.63       107\n",
            "weighted avg       0.65      0.64      0.63       107\n",
            "\n",
            "Matriz de confusión sin normalización\n",
            "[[31 12  2]\n",
            " [ 7 13 16]\n",
            " [ 1  0 25]]\n"
          ],
          "name": "stdout"
        },
        {
          "output_type": "display_data",
          "data": {
            "image/png": "[encoded data removed]",
            "text/plain": [
              "<Figure size 432x288 with 2 Axes>"
            ]
          },
          "metadata": {
            "tags": [],
            "needs_background": "light"
          }
        }
      ]
    },
    {
      "cell_type": "markdown",
      "metadata": {
        "id": "x8y0AIyx5Rxr",
        "colab_type": "text"
      },
      "source": [
        "El algoritmo gradient boosting se comporta igual de bien en nuestra clase objetivo de error con un recall del 96%"
      ]
    },
    {
      "cell_type": "markdown",
      "metadata": {
        "id": "Ih7Y6zU6UynQ",
        "colab_type": "text"
      },
      "source": [
        "**Extra Tree Classifier**"
      ]
    },
    {
      "cell_type": "code",
      "metadata": {
        "id": "qBW80Xm1Eb9W",
        "colab_type": "code",
        "colab": {
          "base_uri": "https://localhost:8080/",
          "height": 300
        },
        "outputId": "f32b973d-c154-4c68-fd72-62eb116b503a"
      },
      "source": [
        "n_estimators = np.arange(5, 50)\n",
        "train_score, val_score = validation_curve(ExtraTreesClassifier(random_state=0), X, y,\n",
        "                                          'n_estimators', n_estimators, cv=10)\n",
        "\n",
        "plt.plot(n_estimators, np.median(train_score, 1), color='blue', label='Puntaje de entrenamiento')\n",
        "plt.plot(n_estimators, np.median(val_score, 1), color='red', label='Puntaje de validación')\n",
        "plt.legend(loc='best')\n",
        "plt.ylim(0, 1)\n",
        "plt.xlabel('n_estimators')\n",
        "plt.ylabel('Puntaje')"
      ],
      "execution_count": null,
      "outputs": [
        {
          "output_type": "execute_result",
          "data": {
            "text/plain": [
              "Text(0, 0.5, 'Puntaje')"
            ]
          },
          "metadata": {
            "tags": []
          },
          "execution_count": 75
        },
        {
          "output_type": "display_data",
          "data": {
            "image/png": "[encoded data removed]",
            "text/plain": [
              "<Figure size 432x288 with 1 Axes>"
            ]
          },
          "metadata": {
            "tags": [],
            "needs_background": "light"
          }
        }
      ]
    },
    {
      "cell_type": "markdown",
      "metadata": {
        "id": "qEdqNGXZ7ilc",
        "colab_type": "text"
      },
      "source": [
        "El scoring mejora un poco con un rango de estimadores entre 20 y 35."
      ]
    },
    {
      "cell_type": "code",
      "metadata": {
        "id": "UmwozbpqI29d",
        "colab_type": "code",
        "colab": {
          "base_uri": "https://localhost:8080/",
          "height": 82
        },
        "outputId": "9cc0750a-af07-44ef-f061-ae7a1e92a8e8"
      },
      "source": [
        "parameters = {'max_depth':[4, 8, None],\n",
        "              'min_samples_split':[2, 8, 15],\n",
        "              'criterion':[\"gini\", \"entropy\"],\n",
        "              'n_estimators':[10, 30, 45]}\n",
        "\n",
        "etc=ExtraTreesClassifier(random_state=0)\n",
        "\n",
        "grid_search, grid_scores, grid_best_params, optimised_model = Grid_Search(parameters, etc)\n",
        "\n",
        "best_models[str(type(optimised_model).__name__)] = optimised_model"
      ],
      "execution_count": null,
      "outputs": [
        {
          "output_type": "stream",
          "text": [
            "Fitting 5 folds for each of 54 candidates, totalling 270 fits\n"
          ],
          "name": "stdout"
        },
        {
          "output_type": "stream",
          "text": [
            "[Parallel(n_jobs=-1)]: Using backend LokyBackend with 2 concurrent workers.\n",
            "[Parallel(n_jobs=-1)]: Done  80 tasks      | elapsed:    3.6s\n",
            "[Parallel(n_jobs=-1)]: Done 270 out of 270 | elapsed:   10.0s finished\n"
          ],
          "name": "stderr"
        }
      ]
    },
    {
      "cell_type": "code",
      "metadata": {
        "id": "ZN0hbKoBKBBm",
        "colab_type": "code",
        "colab": {
          "base_uri": "https://localhost:8080/",
          "height": 1000
        },
        "outputId": "592d8e00-e356-4324-9f84-23457549c90d"
      },
      "source": [
        "grid_scores"
      ],
      "execution_count": null,
      "outputs": [
        {
          "output_type": "execute_result",
          "data": {
            "text/html": [
              "<div>\n",
              "<style scoped>\n",
              "    .dataframe tbody tr th:only-of-type {\n",
              "        vertical-align: middle;\n",
              "    }\n",
              "\n",
              "    .dataframe tbody tr th {\n",
              "        vertical-align: top;\n",
              "    }\n",
              "\n",
              "    .dataframe thead th {\n",
              "        text-align: right;\n",
              "    }\n",
              "</style>\n",
              "<table border=\"1\" class=\"dataframe\">\n",
              "  <thead>\n",
              "    <tr style=\"text-align: right;\">\n",
              "      <th></th>\n",
              "      <th>criterion</th>\n",
              "      <th>max_depth</th>\n",
              "      <th>min_samples_split</th>\n",
              "      <th>n_estimators</th>\n",
              "      <th>mean_train_score</th>\n",
              "      <th>mean_test_score</th>\n",
              "    </tr>\n",
              "  </thead>\n",
              "  <tbody>\n",
              "    <tr>\n",
              "      <th>0</th>\n",
              "      <td>gini</td>\n",
              "      <td>4.00</td>\n",
              "      <td>2</td>\n",
              "      <td>10</td>\n",
              "      <td>0.71</td>\n",
              "      <td>0.64</td>\n",
              "    </tr>\n",
              "    <tr>\n",
              "      <th>1</th>\n",
              "      <td>gini</td>\n",
              "      <td>4.00</td>\n",
              "      <td>2</td>\n",
              "      <td>30</td>\n",
              "      <td>0.73</td>\n",
              "      <td>0.67</td>\n",
              "    </tr>\n",
              "    <tr>\n",
              "      <th>2</th>\n",
              "      <td>gini</td>\n",
              "      <td>4.00</td>\n",
              "      <td>2</td>\n",
              "      <td>45</td>\n",
              "      <td>0.77</td>\n",
              "      <td>0.70</td>\n",
              "    </tr>\n",
              "    <tr>\n",
              "      <th>3</th>\n",
              "      <td>gini</td>\n",
              "      <td>4.00</td>\n",
              "      <td>8</td>\n",
              "      <td>10</td>\n",
              "      <td>0.71</td>\n",
              "      <td>0.65</td>\n",
              "    </tr>\n",
              "    <tr>\n",
              "      <th>4</th>\n",
              "      <td>gini</td>\n",
              "      <td>4.00</td>\n",
              "      <td>8</td>\n",
              "      <td>30</td>\n",
              "      <td>0.73</td>\n",
              "      <td>0.67</td>\n",
              "    </tr>\n",
              "    <tr>\n",
              "      <th>5</th>\n",
              "      <td>gini</td>\n",
              "      <td>4.00</td>\n",
              "      <td>8</td>\n",
              "      <td>45</td>\n",
              "      <td>0.76</td>\n",
              "      <td>0.70</td>\n",
              "    </tr>\n",
              "    <tr>\n",
              "      <th>6</th>\n",
              "      <td>gini</td>\n",
              "      <td>4.00</td>\n",
              "      <td>15</td>\n",
              "      <td>10</td>\n",
              "      <td>0.71</td>\n",
              "      <td>0.65</td>\n",
              "    </tr>\n",
              "    <tr>\n",
              "      <th>7</th>\n",
              "      <td>gini</td>\n",
              "      <td>4.00</td>\n",
              "      <td>15</td>\n",
              "      <td>30</td>\n",
              "      <td>0.73</td>\n",
              "      <td>0.67</td>\n",
              "    </tr>\n",
              "    <tr>\n",
              "      <th>8</th>\n",
              "      <td>gini</td>\n",
              "      <td>4.00</td>\n",
              "      <td>15</td>\n",
              "      <td>45</td>\n",
              "      <td>0.76</td>\n",
              "      <td>0.70</td>\n",
              "    </tr>\n",
              "    <tr>\n",
              "      <th>9</th>\n",
              "      <td>gini</td>\n",
              "      <td>8.00</td>\n",
              "      <td>2</td>\n",
              "      <td>10</td>\n",
              "      <td>0.87</td>\n",
              "      <td>0.78</td>\n",
              "    </tr>\n",
              "    <tr>\n",
              "      <th>10</th>\n",
              "      <td>gini</td>\n",
              "      <td>8.00</td>\n",
              "      <td>2</td>\n",
              "      <td>30</td>\n",
              "      <td>0.88</td>\n",
              "      <td>0.75</td>\n",
              "    </tr>\n",
              "    <tr>\n",
              "      <th>11</th>\n",
              "      <td>gini</td>\n",
              "      <td>8.00</td>\n",
              "      <td>2</td>\n",
              "      <td>45</td>\n",
              "      <td>0.90</td>\n",
              "      <td>0.75</td>\n",
              "    </tr>\n",
              "    <tr>\n",
              "      <th>12</th>\n",
              "      <td>gini</td>\n",
              "      <td>8.00</td>\n",
              "      <td>8</td>\n",
              "      <td>10</td>\n",
              "      <td>0.85</td>\n",
              "      <td>0.76</td>\n",
              "    </tr>\n",
              "    <tr>\n",
              "      <th>13</th>\n",
              "      <td>gini</td>\n",
              "      <td>8.00</td>\n",
              "      <td>8</td>\n",
              "      <td>30</td>\n",
              "      <td>0.86</td>\n",
              "      <td>0.77</td>\n",
              "    </tr>\n",
              "    <tr>\n",
              "      <th>14</th>\n",
              "      <td>gini</td>\n",
              "      <td>8.00</td>\n",
              "      <td>8</td>\n",
              "      <td>45</td>\n",
              "      <td>0.87</td>\n",
              "      <td>0.76</td>\n",
              "    </tr>\n",
              "    <tr>\n",
              "      <th>15</th>\n",
              "      <td>gini</td>\n",
              "      <td>8.00</td>\n",
              "      <td>15</td>\n",
              "      <td>10</td>\n",
              "      <td>0.85</td>\n",
              "      <td>0.74</td>\n",
              "    </tr>\n",
              "    <tr>\n",
              "      <th>16</th>\n",
              "      <td>gini</td>\n",
              "      <td>8.00</td>\n",
              "      <td>15</td>\n",
              "      <td>30</td>\n",
              "      <td>0.86</td>\n",
              "      <td>0.76</td>\n",
              "    </tr>\n",
              "    <tr>\n",
              "      <th>17</th>\n",
              "      <td>gini</td>\n",
              "      <td>8.00</td>\n",
              "      <td>15</td>\n",
              "      <td>45</td>\n",
              "      <td>0.87</td>\n",
              "      <td>0.76</td>\n",
              "    </tr>\n",
              "    <tr>\n",
              "      <th>18</th>\n",
              "      <td>gini</td>\n",
              "      <td>nan</td>\n",
              "      <td>2</td>\n",
              "      <td>10</td>\n",
              "      <td>1.00</td>\n",
              "      <td>0.82</td>\n",
              "    </tr>\n",
              "    <tr>\n",
              "      <th>19</th>\n",
              "      <td>gini</td>\n",
              "      <td>nan</td>\n",
              "      <td>2</td>\n",
              "      <td>30</td>\n",
              "      <td>1.00</td>\n",
              "      <td>0.85</td>\n",
              "    </tr>\n",
              "    <tr>\n",
              "      <th>20</th>\n",
              "      <td>gini</td>\n",
              "      <td>nan</td>\n",
              "      <td>2</td>\n",
              "      <td>45</td>\n",
              "      <td>1.00</td>\n",
              "      <td>0.86</td>\n",
              "    </tr>\n",
              "    <tr>\n",
              "      <th>21</th>\n",
              "      <td>gini</td>\n",
              "      <td>nan</td>\n",
              "      <td>8</td>\n",
              "      <td>10</td>\n",
              "      <td>0.99</td>\n",
              "      <td>0.81</td>\n",
              "    </tr>\n",
              "    <tr>\n",
              "      <th>22</th>\n",
              "      <td>gini</td>\n",
              "      <td>nan</td>\n",
              "      <td>8</td>\n",
              "      <td>30</td>\n",
              "      <td>0.99</td>\n",
              "      <td>0.84</td>\n",
              "    </tr>\n",
              "    <tr>\n",
              "      <th>23</th>\n",
              "      <td>gini</td>\n",
              "      <td>nan</td>\n",
              "      <td>8</td>\n",
              "      <td>45</td>\n",
              "      <td>0.99</td>\n",
              "      <td>0.85</td>\n",
              "    </tr>\n",
              "    <tr>\n",
              "      <th>24</th>\n",
              "      <td>gini</td>\n",
              "      <td>nan</td>\n",
              "      <td>15</td>\n",
              "      <td>10</td>\n",
              "      <td>0.95</td>\n",
              "      <td>0.81</td>\n",
              "    </tr>\n",
              "    <tr>\n",
              "      <th>25</th>\n",
              "      <td>gini</td>\n",
              "      <td>nan</td>\n",
              "      <td>15</td>\n",
              "      <td>30</td>\n",
              "      <td>0.96</td>\n",
              "      <td>0.84</td>\n",
              "    </tr>\n",
              "    <tr>\n",
              "      <th>26</th>\n",
              "      <td>gini</td>\n",
              "      <td>nan</td>\n",
              "      <td>15</td>\n",
              "      <td>45</td>\n",
              "      <td>0.97</td>\n",
              "      <td>0.86</td>\n",
              "    </tr>\n",
              "    <tr>\n",
              "      <th>27</th>\n",
              "      <td>entropy</td>\n",
              "      <td>4.00</td>\n",
              "      <td>2</td>\n",
              "      <td>10</td>\n",
              "      <td>0.71</td>\n",
              "      <td>0.64</td>\n",
              "    </tr>\n",
              "    <tr>\n",
              "      <th>28</th>\n",
              "      <td>entropy</td>\n",
              "      <td>4.00</td>\n",
              "      <td>2</td>\n",
              "      <td>30</td>\n",
              "      <td>0.74</td>\n",
              "      <td>0.68</td>\n",
              "    </tr>\n",
              "    <tr>\n",
              "      <th>29</th>\n",
              "      <td>entropy</td>\n",
              "      <td>4.00</td>\n",
              "      <td>2</td>\n",
              "      <td>45</td>\n",
              "      <td>0.78</td>\n",
              "      <td>0.70</td>\n",
              "    </tr>\n",
              "    <tr>\n",
              "      <th>30</th>\n",
              "      <td>entropy</td>\n",
              "      <td>4.00</td>\n",
              "      <td>8</td>\n",
              "      <td>10</td>\n",
              "      <td>0.70</td>\n",
              "      <td>0.64</td>\n",
              "    </tr>\n",
              "    <tr>\n",
              "      <th>31</th>\n",
              "      <td>entropy</td>\n",
              "      <td>4.00</td>\n",
              "      <td>8</td>\n",
              "      <td>30</td>\n",
              "      <td>0.74</td>\n",
              "      <td>0.68</td>\n",
              "    </tr>\n",
              "    <tr>\n",
              "      <th>32</th>\n",
              "      <td>entropy</td>\n",
              "      <td>4.00</td>\n",
              "      <td>8</td>\n",
              "      <td>45</td>\n",
              "      <td>0.77</td>\n",
              "      <td>0.70</td>\n",
              "    </tr>\n",
              "    <tr>\n",
              "      <th>33</th>\n",
              "      <td>entropy</td>\n",
              "      <td>4.00</td>\n",
              "      <td>15</td>\n",
              "      <td>10</td>\n",
              "      <td>0.71</td>\n",
              "      <td>0.65</td>\n",
              "    </tr>\n",
              "    <tr>\n",
              "      <th>34</th>\n",
              "      <td>entropy</td>\n",
              "      <td>4.00</td>\n",
              "      <td>15</td>\n",
              "      <td>30</td>\n",
              "      <td>0.74</td>\n",
              "      <td>0.68</td>\n",
              "    </tr>\n",
              "    <tr>\n",
              "      <th>35</th>\n",
              "      <td>entropy</td>\n",
              "      <td>4.00</td>\n",
              "      <td>15</td>\n",
              "      <td>45</td>\n",
              "      <td>0.77</td>\n",
              "      <td>0.70</td>\n",
              "    </tr>\n",
              "    <tr>\n",
              "      <th>36</th>\n",
              "      <td>entropy</td>\n",
              "      <td>8.00</td>\n",
              "      <td>2</td>\n",
              "      <td>10</td>\n",
              "      <td>0.87</td>\n",
              "      <td>0.75</td>\n",
              "    </tr>\n",
              "    <tr>\n",
              "      <th>37</th>\n",
              "      <td>entropy</td>\n",
              "      <td>8.00</td>\n",
              "      <td>2</td>\n",
              "      <td>30</td>\n",
              "      <td>0.87</td>\n",
              "      <td>0.75</td>\n",
              "    </tr>\n",
              "    <tr>\n",
              "      <th>38</th>\n",
              "      <td>entropy</td>\n",
              "      <td>8.00</td>\n",
              "      <td>2</td>\n",
              "      <td>45</td>\n",
              "      <td>0.89</td>\n",
              "      <td>0.77</td>\n",
              "    </tr>\n",
              "    <tr>\n",
              "      <th>39</th>\n",
              "      <td>entropy</td>\n",
              "      <td>8.00</td>\n",
              "      <td>8</td>\n",
              "      <td>10</td>\n",
              "      <td>0.85</td>\n",
              "      <td>0.75</td>\n",
              "    </tr>\n",
              "    <tr>\n",
              "      <th>40</th>\n",
              "      <td>entropy</td>\n",
              "      <td>8.00</td>\n",
              "      <td>8</td>\n",
              "      <td>30</td>\n",
              "      <td>0.86</td>\n",
              "      <td>0.77</td>\n",
              "    </tr>\n",
              "    <tr>\n",
              "      <th>41</th>\n",
              "      <td>entropy</td>\n",
              "      <td>8.00</td>\n",
              "      <td>8</td>\n",
              "      <td>45</td>\n",
              "      <td>0.87</td>\n",
              "      <td>0.78</td>\n",
              "    </tr>\n",
              "    <tr>\n",
              "      <th>42</th>\n",
              "      <td>entropy</td>\n",
              "      <td>8.00</td>\n",
              "      <td>15</td>\n",
              "      <td>10</td>\n",
              "      <td>0.84</td>\n",
              "      <td>0.75</td>\n",
              "    </tr>\n",
              "    <tr>\n",
              "      <th>43</th>\n",
              "      <td>entropy</td>\n",
              "      <td>8.00</td>\n",
              "      <td>15</td>\n",
              "      <td>30</td>\n",
              "      <td>0.85</td>\n",
              "      <td>0.77</td>\n",
              "    </tr>\n",
              "    <tr>\n",
              "      <th>44</th>\n",
              "      <td>entropy</td>\n",
              "      <td>8.00</td>\n",
              "      <td>15</td>\n",
              "      <td>45</td>\n",
              "      <td>0.87</td>\n",
              "      <td>0.77</td>\n",
              "    </tr>\n",
              "    <tr>\n",
              "      <th>45</th>\n",
              "      <td>entropy</td>\n",
              "      <td>nan</td>\n",
              "      <td>2</td>\n",
              "      <td>10</td>\n",
              "      <td>1.00</td>\n",
              "      <td>0.81</td>\n",
              "    </tr>\n",
              "    <tr>\n",
              "      <th>46</th>\n",
              "      <td>entropy</td>\n",
              "      <td>nan</td>\n",
              "      <td>2</td>\n",
              "      <td>30</td>\n",
              "      <td>1.00</td>\n",
              "      <td>0.86</td>\n",
              "    </tr>\n",
              "    <tr>\n",
              "      <th>47</th>\n",
              "      <td>entropy</td>\n",
              "      <td>nan</td>\n",
              "      <td>2</td>\n",
              "      <td>45</td>\n",
              "      <td>1.00</td>\n",
              "      <td>0.85</td>\n",
              "    </tr>\n",
              "    <tr>\n",
              "      <th>48</th>\n",
              "      <td>entropy</td>\n",
              "      <td>nan</td>\n",
              "      <td>8</td>\n",
              "      <td>10</td>\n",
              "      <td>0.98</td>\n",
              "      <td>0.82</td>\n",
              "    </tr>\n",
              "    <tr>\n",
              "      <th>49</th>\n",
              "      <td>entropy</td>\n",
              "      <td>nan</td>\n",
              "      <td>8</td>\n",
              "      <td>30</td>\n",
              "      <td>0.99</td>\n",
              "      <td>0.86</td>\n",
              "    </tr>\n",
              "    <tr>\n",
              "      <th>50</th>\n",
              "      <td>entropy</td>\n",
              "      <td>nan</td>\n",
              "      <td>8</td>\n",
              "      <td>45</td>\n",
              "      <td>0.99</td>\n",
              "      <td>0.87</td>\n",
              "    </tr>\n",
              "    <tr>\n",
              "      <th>51</th>\n",
              "      <td>entropy</td>\n",
              "      <td>nan</td>\n",
              "      <td>15</td>\n",
              "      <td>10</td>\n",
              "      <td>0.94</td>\n",
              "      <td>0.79</td>\n",
              "    </tr>\n",
              "    <tr>\n",
              "      <th>52</th>\n",
              "      <td>entropy</td>\n",
              "      <td>nan</td>\n",
              "      <td>15</td>\n",
              "      <td>30</td>\n",
              "      <td>0.97</td>\n",
              "      <td>0.85</td>\n",
              "    </tr>\n",
              "    <tr>\n",
              "      <th>53</th>\n",
              "      <td>entropy</td>\n",
              "      <td>nan</td>\n",
              "      <td>15</td>\n",
              "      <td>45</td>\n",
              "      <td>0.97</td>\n",
              "      <td>0.86</td>\n",
              "    </tr>\n",
              "  </tbody>\n",
              "</table>\n",
              "</div>"
            ],
            "text/plain": [
              "   criterion  max_depth  ...  mean_train_score  mean_test_score\n",
              "0       gini       4.00  ...              0.71             0.64\n",
              "1       gini       4.00  ...              0.73             0.67\n",
              "2       gini       4.00  ...              0.77             0.70\n",
              "3       gini       4.00  ...              0.71             0.65\n",
              "4       gini       4.00  ...              0.73             0.67\n",
              "5       gini       4.00  ...              0.76             0.70\n",
              "6       gini       4.00  ...              0.71             0.65\n",
              "7       gini       4.00  ...              0.73             0.67\n",
              "8       gini       4.00  ...              0.76             0.70\n",
              "9       gini       8.00  ...              0.87             0.78\n",
              "10      gini       8.00  ...              0.88             0.75\n",
              "11      gini       8.00  ...              0.90             0.75\n",
              "12      gini       8.00  ...              0.85             0.76\n",
              "13      gini       8.00  ...              0.86             0.77\n",
              "14      gini       8.00  ...              0.87             0.76\n",
              "15      gini       8.00  ...              0.85             0.74\n",
              "16      gini       8.00  ...              0.86             0.76\n",
              "17      gini       8.00  ...              0.87             0.76\n",
              "18      gini        nan  ...              1.00             0.82\n",
              "19      gini        nan  ...              1.00             0.85\n",
              "20      gini        nan  ...              1.00             0.86\n",
              "21      gini        nan  ...              0.99             0.81\n",
              "22      gini        nan  ...              0.99             0.84\n",
              "23      gini        nan  ...              0.99             0.85\n",
              "24      gini        nan  ...              0.95             0.81\n",
              "25      gini        nan  ...              0.96             0.84\n",
              "26      gini        nan  ...              0.97             0.86\n",
              "27   entropy       4.00  ...              0.71             0.64\n",
              "28   entropy       4.00  ...              0.74             0.68\n",
              "29   entropy       4.00  ...              0.78             0.70\n",
              "30   entropy       4.00  ...              0.70             0.64\n",
              "31   entropy       4.00  ...              0.74             0.68\n",
              "32   entropy       4.00  ...              0.77             0.70\n",
              "33   entropy       4.00  ...              0.71             0.65\n",
              "34   entropy       4.00  ...              0.74             0.68\n",
              "35   entropy       4.00  ...              0.77             0.70\n",
              "36   entropy       8.00  ...              0.87             0.75\n",
              "37   entropy       8.00  ...              0.87             0.75\n",
              "38   entropy       8.00  ...              0.89             0.77\n",
              "39   entropy       8.00  ...              0.85             0.75\n",
              "40   entropy       8.00  ...              0.86             0.77\n",
              "41   entropy       8.00  ...              0.87             0.78\n",
              "42   entropy       8.00  ...              0.84             0.75\n",
              "43   entropy       8.00  ...              0.85             0.77\n",
              "44   entropy       8.00  ...              0.87             0.77\n",
              "45   entropy        nan  ...              1.00             0.81\n",
              "46   entropy        nan  ...              1.00             0.86\n",
              "47   entropy        nan  ...              1.00             0.85\n",
              "48   entropy        nan  ...              0.98             0.82\n",
              "49   entropy        nan  ...              0.99             0.86\n",
              "50   entropy        nan  ...              0.99             0.87\n",
              "51   entropy        nan  ...              0.94             0.79\n",
              "52   entropy        nan  ...              0.97             0.85\n",
              "53   entropy        nan  ...              0.97             0.86\n",
              "\n",
              "[54 rows x 6 columns]"
            ]
          },
          "metadata": {
            "tags": []
          },
          "execution_count": 77
        }
      ]
    },
    {
      "cell_type": "markdown",
      "metadata": {
        "id": "uUEZsDpCRpAz",
        "colab_type": "text"
      },
      "source": [
        "Se evidencia overfitting, ya que la diferencia entre el recall en entrenamiento y prueba es considerablamente alta, se podrían aplicar técnicas de **Regularización cómo Ridge o lasso**, pero se probarán otros algoritmos, que no presenten esté problema"
      ]
    },
    {
      "cell_type": "markdown",
      "metadata": {
        "id": "bcApWxBgAauo",
        "colab_type": "text"
      },
      "source": [
        "Se entrena y se valida nuevamente el modelo con los mejores hiperparámetros encontrados."
      ]
    },
    {
      "cell_type": "code",
      "metadata": {
        "id": "sOkfQAT8ECKB",
        "colab_type": "code",
        "colab": {
          "base_uri": "https://localhost:8080/",
          "height": 82
        },
        "outputId": "ee1982bf-2702-4cfb-bb1f-1ee3ff4e2dcc"
      },
      "source": [
        "grid_best_params"
      ],
      "execution_count": null,
      "outputs": [
        {
          "output_type": "execute_result",
          "data": {
            "text/plain": [
              "{'criterion': 'entropy',\n",
              " 'max_depth': None,\n",
              " 'min_samples_split': 8,\n",
              " 'n_estimators': 45}"
            ]
          },
          "metadata": {
            "tags": []
          },
          "execution_count": 78
        }
      ]
    },
    {
      "cell_type": "code",
      "metadata": {
        "id": "LrYzqp7_AIRT",
        "colab_type": "code",
        "colab": {
          "base_uri": "https://localhost:8080/",
          "height": 538
        },
        "outputId": "dddc20fd-d342-4c44-c48b-1451d5cb1cdf"
      },
      "source": [
        "etcm = ExtraTreesClassifier(random_state=0,criterion='entropy',max_depth=None,min_samples_split=2,n_estimators=30).fit(X_train,y_train)\n",
        "y_pred_etc= etcm.predict(X_test)\n",
        "\n",
        "cnf_matrix = confusion_matrix(y_test, y_pred_etc, labels=[0,1,2])\n",
        "np.set_printoptions(precision=2)\n",
        "\n",
        "print (classification_report(y_test, y_pred_etc))\n",
        "\n",
        "# Gráfico personalizado matriz de confusión\n",
        "plt.figure()\n",
        "plot_confusion_matrix(cnf_matrix, classes=['ok','alerta','error'],normalize= False,  title='Matriz de confusión')"
      ],
      "execution_count": null,
      "outputs": [
        {
          "output_type": "stream",
          "text": [
            "              precision    recall  f1-score   support\n",
            "\n",
            "           0       0.80      0.73      0.77        45\n",
            "           1       0.58      0.50      0.54        36\n",
            "           2       0.69      0.92      0.79        26\n",
            "\n",
            "    accuracy                           0.70       107\n",
            "   macro avg       0.69      0.72      0.70       107\n",
            "weighted avg       0.70      0.70      0.69       107\n",
            "\n",
            "Matriz de confusión sin normalización\n",
            "[[33 11  1]\n",
            " [ 8 18 10]\n",
            " [ 0  2 24]]\n"
          ],
          "name": "stdout"
        },
        {
          "output_type": "display_data",
          "data": {
            "image/png": "[encoded data removed]",
            "text/plain": [
              "<Figure size 432x288 with 2 Axes>"
            ]
          },
          "metadata": {
            "tags": [],
            "needs_background": "light"
          }
        }
      ]
    },
    {
      "cell_type": "markdown",
      "metadata": {
        "id": "g9JLGlLf9QZ6",
        "colab_type": "text"
      },
      "source": [
        "Es un modelo que presenta buen recall en el código = 2, pero se descarta por el tema del overfitting."
      ]
    },
    {
      "cell_type": "markdown",
      "metadata": {
        "id": "Ym5RC_h3BxTC",
        "colab_type": "text"
      },
      "source": [
        "#6. GaussianNB"
      ]
    },
    {
      "cell_type": "code",
      "metadata": {
        "id": "8180deSX_ugq",
        "colab_type": "code",
        "colab": {
          "base_uri": "https://localhost:8080/",
          "height": 98
        },
        "outputId": "3bdfbb78-7128-4d03-c980-981e2ddda5cc"
      },
      "source": [
        "%%time\n",
        "parameters = {'var_smoothing': [1e-09,1e-20,1e-30]}\n",
        "gnb= GaussianNB()\n",
        "\n",
        "grid_search, grid_scores, grid_best_params, optimised_model = Grid_Search(parameters, gnb)\n",
        "\n",
        "best_models[str(type(optimised_model).__name__)] = optimised_model"
      ],
      "execution_count": null,
      "outputs": [
        {
          "output_type": "stream",
          "text": [
            "Fitting 5 folds for each of 3 candidates, totalling 15 fits\n"
          ],
          "name": "stdout"
        },
        {
          "output_type": "stream",
          "text": [
            "[Parallel(n_jobs=-1)]: Using backend LokyBackend with 2 concurrent workers.\n"
          ],
          "name": "stderr"
        },
        {
          "output_type": "stream",
          "text": [
            "CPU times: user 62.8 ms, sys: 22.9 ms, total: 85.7 ms\n",
            "Wall time: 1.14 s\n"
          ],
          "name": "stdout"
        },
        {
          "output_type": "stream",
          "text": [
            "[Parallel(n_jobs=-1)]: Done  15 out of  15 | elapsed:    1.1s finished\n"
          ],
          "name": "stderr"
        }
      ]
    },
    {
      "cell_type": "code",
      "metadata": {
        "id": "ydhM4AbnAbPG",
        "colab_type": "code",
        "colab": {
          "base_uri": "https://localhost:8080/",
          "height": 133
        },
        "outputId": "22e949f0-8268-42a4-f6e1-e231d1bb8c12"
      },
      "source": [
        "grid_scores"
      ],
      "execution_count": null,
      "outputs": [
        {
          "output_type": "execute_result",
          "data": {
            "text/html": [
              "<div>\n",
              "<style scoped>\n",
              "    .dataframe tbody tr th:only-of-type {\n",
              "        vertical-align: middle;\n",
              "    }\n",
              "\n",
              "    .dataframe tbody tr th {\n",
              "        vertical-align: top;\n",
              "    }\n",
              "\n",
              "    .dataframe thead th {\n",
              "        text-align: right;\n",
              "    }\n",
              "</style>\n",
              "<table border=\"1\" class=\"dataframe\">\n",
              "  <thead>\n",
              "    <tr style=\"text-align: right;\">\n",
              "      <th></th>\n",
              "      <th>var_smoothing</th>\n",
              "      <th>mean_train_score</th>\n",
              "      <th>mean_test_score</th>\n",
              "    </tr>\n",
              "  </thead>\n",
              "  <tbody>\n",
              "    <tr>\n",
              "      <th>0</th>\n",
              "      <td>0.00</td>\n",
              "      <td>0.68</td>\n",
              "      <td>0.65</td>\n",
              "    </tr>\n",
              "    <tr>\n",
              "      <th>1</th>\n",
              "      <td>0.00</td>\n",
              "      <td>0.68</td>\n",
              "      <td>0.65</td>\n",
              "    </tr>\n",
              "    <tr>\n",
              "      <th>2</th>\n",
              "      <td>0.00</td>\n",
              "      <td>0.68</td>\n",
              "      <td>0.65</td>\n",
              "    </tr>\n",
              "  </tbody>\n",
              "</table>\n",
              "</div>"
            ],
            "text/plain": [
              "   var_smoothing  mean_train_score  mean_test_score\n",
              "0           0.00              0.68             0.65\n",
              "1           0.00              0.68             0.65\n",
              "2           0.00              0.68             0.65"
            ]
          },
          "metadata": {
            "tags": []
          },
          "execution_count": 87
        }
      ]
    },
    {
      "cell_type": "code",
      "metadata": {
        "id": "uN0gJmaLBFwD",
        "colab_type": "code",
        "colab": {
          "base_uri": "https://localhost:8080/",
          "height": 33
        },
        "outputId": "30afa166-1735-4135-cace-6dd58a5950cf"
      },
      "source": [
        "grid_best_params"
      ],
      "execution_count": null,
      "outputs": [
        {
          "output_type": "execute_result",
          "data": {
            "text/plain": [
              "{'var_smoothing': 1e-09}"
            ]
          },
          "metadata": {
            "tags": []
          },
          "execution_count": 89
        }
      ]
    },
    {
      "cell_type": "markdown",
      "metadata": {
        "id": "kHArVmehAegF",
        "colab_type": "text"
      },
      "source": [
        "Es un algoritmo que obtiene un scoring Aceptable pero hay otros mejores que tienen un recall más alto."
      ]
    },
    {
      "cell_type": "markdown",
      "metadata": {
        "id": "AYA6_CCeGng1",
        "colab_type": "text"
      },
      "source": [
        "#7. Label Propagation"
      ]
    },
    {
      "cell_type": "code",
      "metadata": {
        "id": "dvUx-qZQGqbl",
        "colab_type": "code",
        "colab": {
          "base_uri": "https://localhost:8080/",
          "height": 66
        },
        "outputId": "109a437c-3b2f-4cc3-d6c3-bb7b1bcc1814"
      },
      "source": [
        "%%time\n",
        "parameters = {'kernel': ['rbf','knn'],\n",
        "              'n_neighbors': [4,6,8]}\n",
        "lpm = LabelPropagation()\n",
        "\n",
        "grid_search, grid_scores, grid_best_params, optimised_model = Grid_Search(parameters, lpm)\n",
        "\n",
        "best_models[str(type(optimised_model).__name__)] = optimised_model"
      ],
      "execution_count": null,
      "outputs": [
        {
          "output_type": "stream",
          "text": [
            "Fitting 5 folds for each of 6 candidates, totalling 30 fits\n"
          ],
          "name": "stdout"
        },
        {
          "output_type": "stream",
          "text": [
            "[Parallel(n_jobs=-1)]: Using backend LokyBackend with 2 concurrent workers.\n",
            "[Parallel(n_jobs=-1)]: Done  30 out of  30 | elapsed:    1.4s finished\n"
          ],
          "name": "stderr"
        }
      ]
    },
    {
      "cell_type": "code",
      "metadata": {
        "id": "vb3IDfTeHREE",
        "colab_type": "code",
        "colab": {
          "base_uri": "https://localhost:8080/",
          "height": 220
        },
        "outputId": "441aaee1-3144-4fb3-8585-47ddf0f34073"
      },
      "source": [
        "grid_scores"
      ],
      "execution_count": null,
      "outputs": [
        {
          "output_type": "execute_result",
          "data": {
            "text/html": [
              "<div>\n",
              "<style scoped>\n",
              "    .dataframe tbody tr th:only-of-type {\n",
              "        vertical-align: middle;\n",
              "    }\n",
              "\n",
              "    .dataframe tbody tr th {\n",
              "        vertical-align: top;\n",
              "    }\n",
              "\n",
              "    .dataframe thead th {\n",
              "        text-align: right;\n",
              "    }\n",
              "</style>\n",
              "<table border=\"1\" class=\"dataframe\">\n",
              "  <thead>\n",
              "    <tr style=\"text-align: right;\">\n",
              "      <th></th>\n",
              "      <th>kernel</th>\n",
              "      <th>n_neighbors</th>\n",
              "      <th>mean_train_score</th>\n",
              "      <th>mean_test_score</th>\n",
              "    </tr>\n",
              "  </thead>\n",
              "  <tbody>\n",
              "    <tr>\n",
              "      <th>0</th>\n",
              "      <td>rbf</td>\n",
              "      <td>4</td>\n",
              "      <td>1.00</td>\n",
              "      <td>0.69</td>\n",
              "    </tr>\n",
              "    <tr>\n",
              "      <th>1</th>\n",
              "      <td>rbf</td>\n",
              "      <td>6</td>\n",
              "      <td>1.00</td>\n",
              "      <td>0.69</td>\n",
              "    </tr>\n",
              "    <tr>\n",
              "      <th>2</th>\n",
              "      <td>rbf</td>\n",
              "      <td>8</td>\n",
              "      <td>1.00</td>\n",
              "      <td>0.69</td>\n",
              "    </tr>\n",
              "    <tr>\n",
              "      <th>3</th>\n",
              "      <td>knn</td>\n",
              "      <td>4</td>\n",
              "      <td>0.77</td>\n",
              "      <td>0.65</td>\n",
              "    </tr>\n",
              "    <tr>\n",
              "      <th>4</th>\n",
              "      <td>knn</td>\n",
              "      <td>6</td>\n",
              "      <td>0.74</td>\n",
              "      <td>0.65</td>\n",
              "    </tr>\n",
              "    <tr>\n",
              "      <th>5</th>\n",
              "      <td>knn</td>\n",
              "      <td>8</td>\n",
              "      <td>0.71</td>\n",
              "      <td>0.64</td>\n",
              "    </tr>\n",
              "  </tbody>\n",
              "</table>\n",
              "</div>"
            ],
            "text/plain": [
              "  kernel  n_neighbors  mean_train_score  mean_test_score\n",
              "0    rbf            4              1.00             0.69\n",
              "1    rbf            6              1.00             0.69\n",
              "2    rbf            8              1.00             0.69\n",
              "3    knn            4              0.77             0.65\n",
              "4    knn            6              0.74             0.65\n",
              "5    knn            8              0.71             0.64"
            ]
          },
          "metadata": {
            "tags": []
          },
          "execution_count": 81
        }
      ]
    },
    {
      "cell_type": "markdown",
      "metadata": {
        "id": "ztTwg7PK9rFp",
        "colab_type": "text"
      },
      "source": [
        "También presenta problemas de overfitting, se descarta."
      ]
    },
    {
      "cell_type": "markdown",
      "metadata": {
        "id": "YvwAWiYFBzkr",
        "colab_type": "text"
      },
      "source": [
        "#8. Clasificador Ridge"
      ]
    },
    {
      "cell_type": "code",
      "metadata": {
        "id": "KkKV3GjCB2hW",
        "colab_type": "code",
        "colab": {
          "base_uri": "https://localhost:8080/",
          "height": 66
        },
        "outputId": "7224013b-ca83-40af-b056-f17e99579154"
      },
      "source": [
        "parameters = {'alpha': [1.2, 1.3, 1.4],\n",
        "              'normalize': [False,True]}\n",
        "\n",
        "rcl = RidgeClassifier(random_state=0)\n",
        "\n",
        "grid_search, grid_scores, grid_best_params, optimised_model = Grid_Search(parameters, rcl)\n",
        "\n",
        "best_models[str(type(optimised_model).__name__)] = optimised_model"
      ],
      "execution_count": null,
      "outputs": [
        {
          "output_type": "stream",
          "text": [
            "Fitting 5 folds for each of 6 candidates, totalling 30 fits\n"
          ],
          "name": "stdout"
        },
        {
          "output_type": "stream",
          "text": [
            "[Parallel(n_jobs=-1)]: Using backend LokyBackend with 2 concurrent workers.\n",
            "[Parallel(n_jobs=-1)]: Done  30 out of  30 | elapsed:    1.3s finished\n"
          ],
          "name": "stderr"
        }
      ]
    },
    {
      "cell_type": "code",
      "metadata": {
        "id": "pAxbGFtyB_ej",
        "colab_type": "code",
        "colab": {
          "base_uri": "https://localhost:8080/",
          "height": 220
        },
        "outputId": "9b3d4153-f6c9-4340-e4ab-834eb6732255"
      },
      "source": [
        "grid_scores"
      ],
      "execution_count": null,
      "outputs": [
        {
          "output_type": "execute_result",
          "data": {
            "text/html": [
              "<div>\n",
              "<style scoped>\n",
              "    .dataframe tbody tr th:only-of-type {\n",
              "        vertical-align: middle;\n",
              "    }\n",
              "\n",
              "    .dataframe tbody tr th {\n",
              "        vertical-align: top;\n",
              "    }\n",
              "\n",
              "    .dataframe thead th {\n",
              "        text-align: right;\n",
              "    }\n",
              "</style>\n",
              "<table border=\"1\" class=\"dataframe\">\n",
              "  <thead>\n",
              "    <tr style=\"text-align: right;\">\n",
              "      <th></th>\n",
              "      <th>alpha</th>\n",
              "      <th>normalize</th>\n",
              "      <th>mean_train_score</th>\n",
              "      <th>mean_test_score</th>\n",
              "    </tr>\n",
              "  </thead>\n",
              "  <tbody>\n",
              "    <tr>\n",
              "      <th>0</th>\n",
              "      <td>1.20</td>\n",
              "      <td>False</td>\n",
              "      <td>0.42</td>\n",
              "      <td>0.39</td>\n",
              "    </tr>\n",
              "    <tr>\n",
              "      <th>1</th>\n",
              "      <td>1.20</td>\n",
              "      <td>True</td>\n",
              "      <td>0.41</td>\n",
              "      <td>0.38</td>\n",
              "    </tr>\n",
              "    <tr>\n",
              "      <th>2</th>\n",
              "      <td>1.30</td>\n",
              "      <td>False</td>\n",
              "      <td>0.42</td>\n",
              "      <td>0.39</td>\n",
              "    </tr>\n",
              "    <tr>\n",
              "      <th>3</th>\n",
              "      <td>1.30</td>\n",
              "      <td>True</td>\n",
              "      <td>0.41</td>\n",
              "      <td>0.38</td>\n",
              "    </tr>\n",
              "    <tr>\n",
              "      <th>4</th>\n",
              "      <td>1.40</td>\n",
              "      <td>False</td>\n",
              "      <td>0.42</td>\n",
              "      <td>0.39</td>\n",
              "    </tr>\n",
              "    <tr>\n",
              "      <th>5</th>\n",
              "      <td>1.40</td>\n",
              "      <td>True</td>\n",
              "      <td>0.41</td>\n",
              "      <td>0.38</td>\n",
              "    </tr>\n",
              "  </tbody>\n",
              "</table>\n",
              "</div>"
            ],
            "text/plain": [
              "   alpha  normalize  mean_train_score  mean_test_score\n",
              "0   1.20      False              0.42             0.39\n",
              "1   1.20       True              0.41             0.38\n",
              "2   1.30      False              0.42             0.39\n",
              "3   1.30       True              0.41             0.38\n",
              "4   1.40      False              0.42             0.39\n",
              "5   1.40       True              0.41             0.38"
            ]
          },
          "metadata": {
            "tags": []
          },
          "execution_count": 93
        }
      ]
    },
    {
      "cell_type": "markdown",
      "metadata": {
        "id": "Keoz6WwvCCIE",
        "colab_type": "text"
      },
      "source": [
        "Esté algoritmo también se descarté ya que presenta un scoring bajo"
      ]
    },
    {
      "cell_type": "markdown",
      "metadata": {
        "id": "t-bYzD0tYcKO",
        "colab_type": "text"
      },
      "source": [
        "# Mejores resultados"
      ]
    },
    {
      "cell_type": "code",
      "metadata": {
        "id": "IY8g8Nnh8F6p",
        "colab_type": "code",
        "colab": {
          "base_uri": "https://localhost:8080/",
          "height": 1000
        },
        "outputId": "008c550d-b1da-4a0e-d9e2-cb7429868259"
      },
      "source": [
        "for model in best_models:\n",
        "    \n",
        "    estimator = best_models[str(model)]\n",
        "    y_pred = best_models[str(model)].predict(X_test)\n",
        "    report = classification_report(y_test, y_pred, output_dict=True)\n",
        "    clsf_report = pd.DataFrame(report).transpose()\n",
        "    print(model)\n",
        "    print(clsf_report)\n",
        "    print()"
      ],
      "execution_count": null,
      "outputs": [
        {
          "output_type": "stream",
          "text": [
            "KNeighborsClassifier\n",
            "              precision  recall  f1-score  support\n",
            "0                  0.71    0.64      0.67    45.00\n",
            "1                  0.56    0.67      0.61    36.00\n",
            "2                  0.96    0.85      0.90    26.00\n",
            "accuracy           0.70    0.70      0.70     0.70\n",
            "macro avg          0.74    0.72      0.73   107.00\n",
            "weighted avg       0.72    0.70      0.71   107.00\n",
            "\n",
            "DecisionTreeClassifier\n",
            "              precision  recall  f1-score  support\n",
            "0                  0.82    0.69      0.75    45.00\n",
            "1                  0.55    0.44      0.49    36.00\n",
            "2                  0.62    0.96      0.76    26.00\n",
            "accuracy           0.67    0.67      0.67     0.67\n",
            "macro avg          0.66    0.70      0.67   107.00\n",
            "weighted avg       0.68    0.67      0.66   107.00\n",
            "\n",
            "LinearSVC\n",
            "              precision  recall  f1-score  support\n",
            "0                  0.57    0.60      0.59    45.00\n",
            "1                  0.18    0.06      0.09    36.00\n",
            "2                  0.29    0.54      0.37    26.00\n",
            "accuracy           0.40    0.40      0.40     0.40\n",
            "macro avg          0.35    0.40      0.35   107.00\n",
            "weighted avg       0.37    0.40      0.37   107.00\n",
            "\n",
            "SVC\n",
            "              precision  recall  f1-score  support\n",
            "0                  0.78    0.62      0.69    45.00\n",
            "1                  0.53    0.64      0.58    36.00\n",
            "2                  0.79    0.85      0.81    26.00\n",
            "accuracy           0.68    0.68      0.68     0.68\n",
            "macro avg          0.70    0.70      0.70   107.00\n",
            "weighted avg       0.70    0.68      0.68   107.00\n",
            "\n",
            "MLPClassifier\n",
            "              precision  recall  f1-score  support\n",
            "0                  0.76    0.69      0.72    45.00\n",
            "1                  0.52    0.33      0.41    36.00\n",
            "2                  0.56    0.92      0.70    26.00\n",
            "accuracy           0.63    0.63      0.63     0.63\n",
            "macro avg          0.61    0.65      0.61   107.00\n",
            "weighted avg       0.63    0.63      0.61   107.00\n",
            "\n",
            "RandomForestClassifier\n",
            "              precision  recall  f1-score  support\n",
            "0                  0.82    0.69      0.75    45.00\n",
            "1                  0.55    0.44      0.49    36.00\n",
            "2                  0.62    0.96      0.76    26.00\n",
            "accuracy           0.67    0.67      0.67     0.67\n",
            "macro avg          0.66    0.70      0.67   107.00\n",
            "weighted avg       0.68    0.67      0.66   107.00\n",
            "\n",
            "AdaBoostClassifier\n",
            "              precision  recall  f1-score  support\n",
            "0                  0.74    0.87      0.80    45.00\n",
            "1                  0.71    0.28      0.40    36.00\n",
            "2                  0.62    0.96      0.76    26.00\n",
            "accuracy           0.69    0.69      0.69     0.69\n",
            "macro avg          0.69    0.70      0.65   107.00\n",
            "weighted avg       0.70    0.69      0.65   107.00\n",
            "\n",
            "GradientBoostingClassifier\n",
            "              precision  recall  f1-score  support\n",
            "0                  0.79    0.69      0.74    45.00\n",
            "1                  0.52    0.36      0.43    36.00\n",
            "2                  0.58    0.96      0.72    26.00\n",
            "accuracy           0.64    0.64      0.64     0.64\n",
            "macro avg          0.63    0.67      0.63   107.00\n",
            "weighted avg       0.65    0.64      0.63   107.00\n",
            "\n",
            "ExtraTreesClassifier\n",
            "              precision  recall  f1-score  support\n",
            "0                  0.77    0.73      0.75    45.00\n",
            "1                  0.52    0.39      0.44    36.00\n",
            "2                  0.65    0.92      0.76    26.00\n",
            "accuracy           0.66    0.66      0.66     0.66\n",
            "macro avg          0.64    0.68      0.65   107.00\n",
            "weighted avg       0.65    0.66      0.65   107.00\n",
            "\n",
            "LabelPropagation\n",
            "              precision  recall  f1-score  support\n",
            "0                  0.74    0.64      0.69    45.00\n",
            "1                  0.53    0.58      0.55    36.00\n",
            "2                  0.75    0.81      0.78    26.00\n",
            "accuracy           0.66    0.66      0.66     0.66\n",
            "macro avg          0.67    0.68      0.67   107.00\n",
            "weighted avg       0.67    0.66      0.67   107.00\n",
            "\n",
            "GaussianNB\n",
            "              precision  recall  f1-score  support\n",
            "0                  0.75    0.53      0.62    45.00\n",
            "1                  0.49    0.83      0.62    36.00\n",
            "2                  1.00    0.54      0.70    26.00\n",
            "accuracy           0.64    0.64      0.64     0.64\n",
            "macro avg          0.75    0.64      0.65   107.00\n",
            "weighted avg       0.72    0.64      0.64   107.00\n",
            "\n"
          ],
          "name": "stdout"
        }
      ]
    },
    {
      "cell_type": "markdown",
      "metadata": {
        "id": "FxpWzk7H-iqT",
        "colab_type": "text"
      },
      "source": [
        "# Método de ensamble por votación"
      ]
    },
    {
      "cell_type": "code",
      "metadata": {
        "id": "XO58xXhOGMr-",
        "colab_type": "code",
        "colab": {}
      },
      "source": [
        "models_list = [(k,v) for k,v in best_models.items()]\n",
        "eclf = VotingClassifier(estimators=models_list, voting='hard',n_jobs=-1)\n",
        "eclf.fit(X_train, y_train)\n",
        "best_models[type(eclf).__name__] = eclf"
      ],
      "execution_count": null,
      "outputs": []
    },
    {
      "cell_type": "code",
      "metadata": {
        "id": "pXMJQax2GR3B",
        "colab_type": "code",
        "colab": {
          "base_uri": "https://localhost:8080/",
          "height": 228
        },
        "outputId": "8c7ad8e5-f38f-4209-aa19-7fda9121d95a"
      },
      "source": [
        "for model in best_models:\n",
        "    estimator = best_models[str(model)]\n",
        "    y_pred = estimator.predict(X_test)\n",
        "    print(type(estimator).__name__, round(recall_score(y_test, y_pred,average='weighted'),2))"
      ],
      "execution_count": null,
      "outputs": [
        {
          "output_type": "stream",
          "text": [
            "KNeighborsClassifier 0.7\n",
            "DecisionTreeClassifier 0.67\n",
            "LinearSVC 0.4\n",
            "SVC 0.68\n",
            "MLPClassifier 0.63\n",
            "RandomForestClassifier 0.67\n",
            "AdaBoostClassifier 0.69\n",
            "GradientBoostingClassifier 0.64\n",
            "ExtraTreesClassifier 0.66\n",
            "LabelPropagation 0.66\n",
            "GaussianNB 0.64\n",
            "RidgeClassifier 0.4\n",
            "VotingClassifier 0.72\n"
          ],
          "name": "stdout"
        }
      ]
    },
    {
      "cell_type": "markdown",
      "metadata": {
        "id": "SzhU1r5K6vgp",
        "colab_type": "text"
      },
      "source": [
        "#Arquitectura de un perceptron multicapa"
      ]
    },
    {
      "cell_type": "markdown",
      "metadata": {
        "id": "uKHbg2v7U7VS",
        "colab_type": "text"
      },
      "source": [
        "Se importa tensorflow 2 para construir la arquitectura de la red neuronal"
      ]
    },
    {
      "cell_type": "code",
      "metadata": {
        "id": "zRE0DquWThtj",
        "colab_type": "code",
        "colab": {}
      },
      "source": [
        "from tensorflow import keras\n",
        "%tensorflow_version 2.x"
      ],
      "execution_count": null,
      "outputs": []
    },
    {
      "cell_type": "markdown",
      "metadata": {
        "id": "X1ZEx3SWVG07",
        "colab_type": "text"
      },
      "source": [
        "Se limpia la sesión de keras para liberar memoria"
      ]
    },
    {
      "cell_type": "code",
      "metadata": {
        "id": "0darLVfG9kR5",
        "colab_type": "code",
        "colab": {}
      },
      "source": [
        "keras.backend.clear_session()"
      ],
      "execution_count": null,
      "outputs": []
    },
    {
      "cell_type": "code",
      "metadata": {
        "id": "HiLh9rbrTw3d",
        "colab_type": "code",
        "colab": {
          "base_uri": "https://localhost:8080/",
          "height": 33
        },
        "outputId": "99e35de1-7e18-4a0e-a118-5e1545d0961c"
      },
      "source": [
        "X_train.shape"
      ],
      "execution_count": null,
      "outputs": [
        {
          "output_type": "execute_result",
          "data": {
            "text/plain": [
              "(428, 4)"
            ]
          },
          "metadata": {
            "tags": []
          },
          "execution_count": 212
        }
      ]
    },
    {
      "cell_type": "markdown",
      "metadata": {
        "id": "84RuSsyZVNOu",
        "colab_type": "text"
      },
      "source": [
        "Se crea una red neuronal con una capa de inicio de 50 neuronas y función de activación selu, las capas son densas lo que nos indica que es una arquitectura de perceptron multicapa, y en la últma capa se hace uso de la función e activación softmax ya que la tarea es de clasificación multiclase.\n"
      ]
    },
    {
      "cell_type": "code",
      "metadata": {
        "id": "DyOuj7oOS8RW",
        "colab_type": "code",
        "colab": {}
      },
      "source": [
        "model= keras.models.Sequential([\n",
        "                         keras.layers.Dense(50,activation='selu',kernel_initializer='he_uniform',input_shape=(4,)),\n",
        "                         keras.layers.Dense(25,activation='selu',kernel_initializer='he_uniform'),\n",
        "                         keras.layers.Dense(10,activation='selu',kernel_initializer='he_uniform'),\n",
        "                         keras.layers.Dense(1,activation='softmax')\n",
        "])"
      ],
      "execution_count": null,
      "outputs": []
    },
    {
      "cell_type": "code",
      "metadata": {
        "id": "Myt7nYWTTKbp",
        "colab_type": "code",
        "colab": {}
      },
      "source": [
        " model.compile(optimizer='adam',loss='categorical_crossentropy',metrics=['accuracy'])"
      ],
      "execution_count": null,
      "outputs": []
    },
    {
      "cell_type": "code",
      "metadata": {
        "id": "hxlHY-dlS81D",
        "colab_type": "code",
        "colab": {
          "base_uri": "https://localhost:8080/",
          "height": 1000
        },
        "outputId": "eceb526a-7112-46a8-c27f-bc690cf305ad"
      },
      "source": [
        "pmc=model.fit(X_train,y_train,epochs=100)"
      ],
      "execution_count": null,
      "outputs": [
        {
          "output_type": "stream",
          "text": [
            "Epoch 1/100\n",
            "14/14 [==============================] - 0s 1ms/step - loss: 0.0000e+00 - accuracy: 0.3318\n",
            "Epoch 2/100\n",
            "14/14 [==============================] - 0s 1ms/step - loss: 0.0000e+00 - accuracy: 0.3318\n",
            "Epoch 3/100\n",
            "14/14 [==============================] - 0s 2ms/step - loss: 0.0000e+00 - accuracy: 0.3318\n",
            "Epoch 4/100\n",
            "14/14 [==============================] - 0s 1ms/step - loss: 0.0000e+00 - accuracy: 0.3318\n",
            "Epoch 5/100\n",
            "14/14 [==============================] - 0s 1ms/step - loss: 0.0000e+00 - accuracy: 0.3318\n",
            "Epoch 6/100\n",
            "14/14 [==============================] - 0s 1ms/step - loss: 0.0000e+00 - accuracy: 0.3318\n",
            "Epoch 7/100\n",
            "14/14 [==============================] - 0s 1ms/step - loss: 0.0000e+00 - accuracy: 0.3318\n",
            "Epoch 8/100\n",
            "14/14 [==============================] - 0s 1ms/step - loss: 0.0000e+00 - accuracy: 0.3318\n",
            "Epoch 9/100\n",
            "14/14 [==============================] - 0s 1ms/step - loss: 0.0000e+00 - accuracy: 0.3318\n",
            "Epoch 10/100\n",
            "14/14 [==============================] - 0s 1ms/step - loss: 0.0000e+00 - accuracy: 0.3318\n",
            "Epoch 11/100\n",
            "14/14 [==============================] - 0s 2ms/step - loss: 0.0000e+00 - accuracy: 0.3318\n",
            "Epoch 12/100\n",
            "14/14 [==============================] - 0s 1ms/step - loss: 0.0000e+00 - accuracy: 0.3318\n",
            "Epoch 13/100\n",
            "14/14 [==============================] - 0s 1ms/step - loss: 0.0000e+00 - accuracy: 0.3318\n",
            "Epoch 14/100\n",
            "14/14 [==============================] - 0s 2ms/step - loss: 0.0000e+00 - accuracy: 0.3318\n",
            "Epoch 15/100\n",
            "14/14 [==============================] - 0s 1ms/step - loss: 0.0000e+00 - accuracy: 0.3318\n",
            "Epoch 16/100\n",
            "14/14 [==============================] - 0s 2ms/step - loss: 0.0000e+00 - accuracy: 0.3318\n",
            "Epoch 17/100\n",
            "14/14 [==============================] - 0s 1ms/step - loss: 0.0000e+00 - accuracy: 0.3318\n",
            "Epoch 18/100\n",
            "14/14 [==============================] - 0s 1ms/step - loss: 0.0000e+00 - accuracy: 0.3318\n",
            "Epoch 19/100\n",
            "14/14 [==============================] - 0s 1ms/step - loss: 0.0000e+00 - accuracy: 0.3318\n",
            "Epoch 20/100\n",
            "14/14 [==============================] - 0s 1ms/step - loss: 0.0000e+00 - accuracy: 0.3318\n",
            "Epoch 21/100\n",
            "14/14 [==============================] - 0s 1ms/step - loss: 0.0000e+00 - accuracy: 0.3318\n",
            "Epoch 22/100\n",
            "14/14 [==============================] - 0s 1ms/step - loss: 0.0000e+00 - accuracy: 0.3318\n",
            "Epoch 23/100\n",
            "14/14 [==============================] - 0s 1ms/step - loss: 0.0000e+00 - accuracy: 0.3318\n",
            "Epoch 24/100\n",
            "14/14 [==============================] - 0s 1ms/step - loss: 0.0000e+00 - accuracy: 0.3318\n",
            "Epoch 25/100\n",
            "14/14 [==============================] - 0s 1ms/step - loss: 0.0000e+00 - accuracy: 0.3318\n",
            "Epoch 26/100\n",
            "14/14 [==============================] - 0s 1ms/step - loss: 0.0000e+00 - accuracy: 0.3318\n",
            "Epoch 27/100\n",
            "14/14 [==============================] - 0s 1ms/step - loss: 0.0000e+00 - accuracy: 0.3318\n",
            "Epoch 28/100\n",
            "14/14 [==============================] - 0s 1ms/step - loss: 0.0000e+00 - accuracy: 0.3318\n",
            "Epoch 29/100\n",
            "14/14 [==============================] - 0s 1ms/step - loss: 0.0000e+00 - accuracy: 0.3318\n",
            "Epoch 30/100\n",
            "14/14 [==============================] - 0s 1ms/step - loss: 0.0000e+00 - accuracy: 0.3318\n",
            "Epoch 31/100\n",
            "14/14 [==============================] - 0s 1ms/step - loss: 0.0000e+00 - accuracy: 0.3318\n",
            "Epoch 32/100\n",
            "14/14 [==============================] - 0s 1ms/step - loss: 0.0000e+00 - accuracy: 0.3318\n",
            "Epoch 33/100\n",
            "14/14 [==============================] - 0s 1ms/step - loss: 0.0000e+00 - accuracy: 0.3318\n",
            "Epoch 34/100\n",
            "14/14 [==============================] - 0s 1ms/step - loss: 0.0000e+00 - accuracy: 0.3318\n",
            "Epoch 35/100\n",
            "14/14 [==============================] - 0s 1ms/step - loss: 0.0000e+00 - accuracy: 0.3318\n",
            "Epoch 36/100\n",
            "14/14 [==============================] - 0s 1ms/step - loss: 0.0000e+00 - accuracy: 0.3318\n",
            "Epoch 37/100\n",
            "14/14 [==============================] - 0s 1ms/step - loss: 0.0000e+00 - accuracy: 0.3318\n",
            "Epoch 38/100\n",
            "14/14 [==============================] - 0s 1ms/step - loss: 0.0000e+00 - accuracy: 0.3318\n",
            "Epoch 39/100\n",
            "14/14 [==============================] - 0s 1ms/step - loss: 0.0000e+00 - accuracy: 0.3318\n",
            "Epoch 40/100\n",
            "14/14 [==============================] - 0s 1ms/step - loss: 0.0000e+00 - accuracy: 0.3318\n",
            "Epoch 41/100\n",
            "14/14 [==============================] - 0s 1ms/step - loss: 0.0000e+00 - accuracy: 0.3318\n",
            "Epoch 42/100\n",
            "14/14 [==============================] - 0s 1ms/step - loss: 0.0000e+00 - accuracy: 0.3318\n",
            "Epoch 43/100\n",
            "14/14 [==============================] - 0s 1ms/step - loss: 0.0000e+00 - accuracy: 0.3318\n",
            "Epoch 44/100\n",
            "14/14 [==============================] - 0s 1ms/step - loss: 0.0000e+00 - accuracy: 0.3318\n",
            "Epoch 45/100\n",
            "14/14 [==============================] - 0s 2ms/step - loss: 0.0000e+00 - accuracy: 0.3318\n",
            "Epoch 46/100\n",
            "14/14 [==============================] - 0s 2ms/step - loss: 0.0000e+00 - accuracy: 0.3318\n",
            "Epoch 47/100\n",
            "14/14 [==============================] - 0s 1ms/step - loss: 0.0000e+00 - accuracy: 0.3318\n",
            "Epoch 48/100\n",
            "14/14 [==============================] - 0s 1ms/step - loss: 0.0000e+00 - accuracy: 0.3318\n",
            "Epoch 49/100\n",
            "14/14 [==============================] - 0s 1ms/step - loss: 0.0000e+00 - accuracy: 0.3318\n",
            "Epoch 50/100\n",
            "14/14 [==============================] - 0s 1ms/step - loss: 0.0000e+00 - accuracy: 0.3318\n",
            "Epoch 51/100\n",
            "14/14 [==============================] - 0s 1ms/step - loss: 0.0000e+00 - accuracy: 0.3318\n",
            "Epoch 52/100\n",
            "14/14 [==============================] - 0s 1ms/step - loss: 0.0000e+00 - accuracy: 0.3318\n",
            "Epoch 53/100\n",
            "14/14 [==============================] - 0s 1ms/step - loss: 0.0000e+00 - accuracy: 0.3318\n",
            "Epoch 54/100\n",
            "14/14 [==============================] - 0s 1ms/step - loss: 0.0000e+00 - accuracy: 0.3318\n",
            "Epoch 55/100\n",
            "14/14 [==============================] - 0s 1ms/step - loss: 0.0000e+00 - accuracy: 0.3318\n",
            "Epoch 56/100\n",
            "14/14 [==============================] - 0s 1ms/step - loss: 0.0000e+00 - accuracy: 0.3318\n",
            "Epoch 57/100\n",
            "14/14 [==============================] - 0s 1ms/step - loss: 0.0000e+00 - accuracy: 0.3318\n",
            "Epoch 58/100\n",
            "14/14 [==============================] - 0s 1ms/step - loss: 0.0000e+00 - accuracy: 0.3318\n",
            "Epoch 59/100\n",
            "14/14 [==============================] - 0s 1ms/step - loss: 0.0000e+00 - accuracy: 0.3318\n",
            "Epoch 60/100\n",
            "14/14 [==============================] - 0s 1ms/step - loss: 0.0000e+00 - accuracy: 0.3318\n",
            "Epoch 61/100\n",
            "14/14 [==============================] - 0s 1ms/step - loss: 0.0000e+00 - accuracy: 0.3318\n",
            "Epoch 62/100\n",
            "14/14 [==============================] - 0s 1ms/step - loss: 0.0000e+00 - accuracy: 0.3318\n",
            "Epoch 63/100\n",
            "14/14 [==============================] - 0s 2ms/step - loss: 0.0000e+00 - accuracy: 0.3318\n",
            "Epoch 64/100\n",
            "14/14 [==============================] - 0s 1ms/step - loss: 0.0000e+00 - accuracy: 0.3318\n",
            "Epoch 65/100\n",
            "14/14 [==============================] - 0s 1ms/step - loss: 0.0000e+00 - accuracy: 0.3318\n",
            "Epoch 66/100\n",
            "14/14 [==============================] - 0s 1ms/step - loss: 0.0000e+00 - accuracy: 0.3318\n",
            "Epoch 67/100\n",
            "14/14 [==============================] - 0s 1ms/step - loss: 0.0000e+00 - accuracy: 0.3318\n",
            "Epoch 68/100\n",
            "14/14 [==============================] - 0s 1ms/step - loss: 0.0000e+00 - accuracy: 0.3318\n",
            "Epoch 69/100\n",
            "14/14 [==============================] - 0s 1ms/step - loss: 0.0000e+00 - accuracy: 0.3318\n",
            "Epoch 70/100\n",
            "14/14 [==============================] - 0s 1ms/step - loss: 0.0000e+00 - accuracy: 0.3318\n",
            "Epoch 71/100\n",
            "14/14 [==============================] - 0s 1ms/step - loss: 0.0000e+00 - accuracy: 0.3318\n",
            "Epoch 72/100\n",
            "14/14 [==============================] - 0s 1ms/step - loss: 0.0000e+00 - accuracy: 0.3318\n",
            "Epoch 73/100\n",
            "14/14 [==============================] - 0s 1ms/step - loss: 0.0000e+00 - accuracy: 0.3318\n",
            "Epoch 74/100\n",
            "14/14 [==============================] - 0s 1ms/step - loss: 0.0000e+00 - accuracy: 0.3318\n",
            "Epoch 75/100\n",
            "14/14 [==============================] - 0s 1ms/step - loss: 0.0000e+00 - accuracy: 0.3318\n",
            "Epoch 76/100\n",
            "14/14 [==============================] - 0s 1ms/step - loss: 0.0000e+00 - accuracy: 0.3318\n",
            "Epoch 77/100\n",
            "14/14 [==============================] - 0s 1ms/step - loss: 0.0000e+00 - accuracy: 0.3318\n",
            "Epoch 78/100\n",
            "14/14 [==============================] - 0s 1ms/step - loss: 0.0000e+00 - accuracy: 0.3318\n",
            "Epoch 79/100\n",
            "14/14 [==============================] - 0s 1ms/step - loss: 0.0000e+00 - accuracy: 0.3318\n",
            "Epoch 80/100\n",
            "14/14 [==============================] - 0s 1ms/step - loss: 0.0000e+00 - accuracy: 0.3318\n",
            "Epoch 81/100\n",
            "14/14 [==============================] - 0s 1ms/step - loss: 0.0000e+00 - accuracy: 0.3318\n",
            "Epoch 82/100\n",
            "14/14 [==============================] - 0s 1ms/step - loss: 0.0000e+00 - accuracy: 0.3318\n",
            "Epoch 83/100\n",
            "14/14 [==============================] - 0s 1ms/step - loss: 0.0000e+00 - accuracy: 0.3318\n",
            "Epoch 84/100\n",
            "14/14 [==============================] - 0s 2ms/step - loss: 0.0000e+00 - accuracy: 0.3318\n",
            "Epoch 85/100\n",
            "14/14 [==============================] - 0s 1ms/step - loss: 0.0000e+00 - accuracy: 0.3318\n",
            "Epoch 86/100\n",
            "14/14 [==============================] - 0s 1ms/step - loss: 0.0000e+00 - accuracy: 0.3318\n",
            "Epoch 87/100\n",
            "14/14 [==============================] - 0s 1ms/step - loss: 0.0000e+00 - accuracy: 0.3318\n",
            "Epoch 88/100\n",
            "14/14 [==============================] - 0s 2ms/step - loss: 0.0000e+00 - accuracy: 0.3318\n",
            "Epoch 89/100\n",
            "14/14 [==============================] - 0s 1ms/step - loss: 0.0000e+00 - accuracy: 0.3318\n",
            "Epoch 90/100\n",
            "14/14 [==============================] - 0s 1ms/step - loss: 0.0000e+00 - accuracy: 0.3318\n",
            "Epoch 91/100\n",
            "14/14 [==============================] - 0s 1ms/step - loss: 0.0000e+00 - accuracy: 0.3318\n",
            "Epoch 92/100\n",
            "14/14 [==============================] - 0s 1ms/step - loss: 0.0000e+00 - accuracy: 0.3318\n",
            "Epoch 93/100\n",
            "14/14 [==============================] - 0s 1ms/step - loss: 0.0000e+00 - accuracy: 0.3318\n",
            "Epoch 94/100\n",
            "14/14 [==============================] - 0s 1ms/step - loss: 0.0000e+00 - accuracy: 0.3318\n",
            "Epoch 95/100\n",
            "14/14 [==============================] - 0s 1ms/step - loss: 0.0000e+00 - accuracy: 0.3318\n",
            "Epoch 96/100\n",
            "14/14 [==============================] - 0s 1ms/step - loss: 0.0000e+00 - accuracy: 0.3318\n",
            "Epoch 97/100\n",
            "14/14 [==============================] - 0s 1ms/step - loss: 0.0000e+00 - accuracy: 0.3318\n",
            "Epoch 98/100\n",
            "14/14 [==============================] - 0s 1ms/step - loss: 0.0000e+00 - accuracy: 0.3318\n",
            "Epoch 99/100\n",
            "14/14 [==============================] - 0s 1ms/step - loss: 0.0000e+00 - accuracy: 0.3318\n",
            "Epoch 100/100\n",
            "14/14 [==============================] - 0s 1ms/step - loss: 0.0000e+00 - accuracy: 0.3318\n"
          ],
          "name": "stdout"
        }
      ]
    },
    {
      "cell_type": "code",
      "metadata": {
        "id": "ioJj_XbeTWeV",
        "colab_type": "code",
        "colab": {
          "base_uri": "https://localhost:8080/"
        },
        "outputId": "d15b332e-990b-4543-b6e4-7a6aed037c2e"
      },
      "source": [
        "model.evaluate(X_test,y_test)"
      ],
      "execution_count": null,
      "outputs": [
        {
          "output_type": "stream",
          "text": [
            "4/4 [==============================] - 0s 3ms/step - loss: 0.0000e+00 - accuracy: 0.3271\n"
          ],
          "name": "stdout"
        },
        {
          "output_type": "execute_result",
          "data": {
            "text/plain": [
              "[0.0, 0.32710281014442444]"
            ]
          },
          "metadata": {
            "tags": []
          },
          "execution_count": 50
        }
      ]
    },
    {
      "cell_type": "markdown",
      "metadata": {
        "id": "STOcrX8_W8mI",
        "colab_type": "text"
      },
      "source": [
        "En conclusión está arquitectura da resultados muy bajos y es superado por otros modelos de Machine learning"
      ]
    },
    {
      "cell_type": "markdown",
      "metadata": {
        "id": "t40DqCNPGg3X",
        "colab_type": "text"
      },
      "source": [
        "# Selección el mejor modelo"
      ]
    },
    {
      "cell_type": "code",
      "metadata": {
        "id": "c22N1b0_GkjX",
        "colab_type": "code",
        "colab": {}
      },
      "source": [
        "best_model = best_models['VotingClassifier']"
      ],
      "execution_count": null,
      "outputs": []
    },
    {
      "cell_type": "code",
      "metadata": {
        "id": "pccbEJ6rGpzk",
        "colab_type": "code",
        "colab": {
          "base_uri": "https://localhost:8080/",
          "height": 570
        },
        "outputId": "b334fb38-b8bb-4ee6-9e42-4b0b3b1f984d"
      },
      "source": [
        "best_model"
      ],
      "execution_count": null,
      "outputs": [
        {
          "output_type": "execute_result",
          "data": {
            "text/plain": [
              "VotingClassifier(estimators=[('KNeighborsClassifier',\n",
              "                              KNeighborsClassifier(algorithm='auto',\n",
              "                                                   leaf_size=30,\n",
              "                                                   metric='minkowski',\n",
              "                                                   metric_params=None,\n",
              "                                                   n_jobs=None, n_neighbors=10,\n",
              "                                                   p=2, weights='uniform')),\n",
              "                             ('DecisionTreeClassifier',\n",
              "                              DecisionTreeClassifier(ccp_alpha=0.0,\n",
              "                                                     class_weight=None,\n",
              "                                                     criterion='gini',\n",
              "                                                     max_depth=14,\n",
              "                                                     max_features=None,\n",
              "                                                     max_leaf_nodes=None,\n",
              "                                                     min_impu...\n",
              "                                                                             tol=0.001)),\n",
              "                                                           ('GaussianNB',\n",
              "                                                            GaussianNB(priors=None,\n",
              "                                                                       var_smoothing=1e-09)),\n",
              "                                                           ('RidgeClassifier',\n",
              "                                                            RidgeClassifier(alpha=1.2,\n",
              "                                                                            class_weight=None,\n",
              "                                                                            copy_X=True,\n",
              "                                                                            fit_intercept=True,\n",
              "                                                                            max_iter=None,\n",
              "                                                                            normalize=False,\n",
              "                                                                            random_state=0,\n",
              "                                                                            solver='auto',\n",
              "                                                                            tol=0.001))],\n",
              "                                               flatten_transform=True,\n",
              "                                               n_jobs=-1, voting='hard',\n",
              "                                               weights=None))],\n",
              "                 flatten_transform=True, n_jobs=-1, voting='hard',\n",
              "                 weights=None)"
            ]
          },
          "metadata": {
            "tags": []
          },
          "execution_count": 132
        }
      ]
    },
    {
      "cell_type": "markdown",
      "metadata": {
        "id": "iulOA9nDGs2G",
        "colab_type": "text"
      },
      "source": [
        "El algoritmo elegido son los árboles de decisón, ya que presenta un buen recall en el código = 2 "
      ]
    },
    {
      "cell_type": "markdown",
      "metadata": {
        "id": "JLCV0hxlHmU5",
        "colab_type": "text"
      },
      "source": [
        "**Preprocesamiento del Dataset de Validación**"
      ]
    },
    {
      "cell_type": "code",
      "metadata": {
        "id": "QREzW3F2Iyst",
        "colab_type": "code",
        "colab": {}
      },
      "source": [
        "del df_baterias_val['estado']\n"
      ],
      "execution_count": null,
      "outputs": []
    },
    {
      "cell_type": "code",
      "metadata": {
        "id": "CX_8RWloJHdX",
        "colab_type": "code",
        "colab": {
          "base_uri": "https://localhost:8080/",
          "height": 33
        },
        "outputId": "791a5da8-0ac1-4386-9e4b-063541b3a22e"
      },
      "source": [
        "df_baterias_val.columns"
      ],
      "execution_count": null,
      "outputs": [
        {
          "output_type": "execute_result",
          "data": {
            "text/plain": [
              "Index(['vcd', 'amp', 'tmp', 'imp', 'estado_id'], dtype='object')"
            ]
          },
          "metadata": {
            "tags": []
          },
          "execution_count": 121
        }
      ]
    },
    {
      "cell_type": "code",
      "metadata": {
        "id": "BmsBQ6KqHSaL",
        "colab_type": "code",
        "colab": {}
      },
      "source": [
        "X_val = df_baterias_val.drop([\"estado_id\"], axis=1)\n",
        "y_val = df_baterias_val['estado_id']\n"
      ],
      "execution_count": null,
      "outputs": []
    },
    {
      "cell_type": "code",
      "metadata": {
        "id": "d8EuBxQsJmKO",
        "colab_type": "code",
        "colab": {}
      },
      "source": [
        "X_val = preprocessing.scale(X_val)"
      ],
      "execution_count": null,
      "outputs": []
    },
    {
      "cell_type": "markdown",
      "metadata": {
        "id": "MjqoK9BbQP0H",
        "colab_type": "text"
      },
      "source": [
        "Predicción con el modelo elegido"
      ]
    },
    {
      "cell_type": "code",
      "metadata": {
        "id": "_l_gvgv9HKAR",
        "colab_type": "code",
        "colab": {}
      },
      "source": [
        "y_pred_dtc_val = ad.predict(X_val)"
      ],
      "execution_count": null,
      "outputs": []
    },
    {
      "cell_type": "code",
      "metadata": {
        "id": "DzDZlVMVJrVO",
        "colab_type": "code",
        "colab": {
          "base_uri": "https://localhost:8080/",
          "height": 66
        },
        "outputId": "f9cab359-873c-4e6d-b046-61974a1bbee0"
      },
      "source": [
        "y_pred_dtc_val"
      ],
      "execution_count": null,
      "outputs": [
        {
          "output_type": "execute_result",
          "data": {
            "text/plain": [
              "array([0, 2, 0, 0, 0, 2, 2, 2, 0, 0, 0, 1, 1, 2, 0, 0, 2, 2, 2, 1, 2, 2,\n",
              "       1, 1, 2, 2, 2, 2, 0, 0, 2, 2, 0, 2, 2, 0, 2, 2, 0, 0, 2, 0, 1, 2,\n",
              "       1, 2, 0, 0, 1, 1, 1, 2, 0, 0, 2, 0, 2, 2, 0, 1])"
            ]
          },
          "metadata": {
            "tags": []
          },
          "execution_count": 204
        }
      ]
    },
    {
      "cell_type": "markdown",
      "metadata": {
        "id": "eY2p_qSsQV66",
        "colab_type": "text"
      },
      "source": [
        "Evaluación en el set de datos de validación"
      ]
    },
    {
      "cell_type": "code",
      "metadata": {
        "id": "wi3fvx6GJvSz",
        "colab_type": "code",
        "colab": {}
      },
      "source": [
        "df_baterias_val['y_pred']=y_pred_dtc_val"
      ],
      "execution_count": null,
      "outputs": []
    },
    {
      "cell_type": "code",
      "metadata": {
        "id": "hJJ_3YjULtFK",
        "colab_type": "code",
        "colab": {}
      },
      "source": [
        "def asignar(df):\n",
        "    if df['y_pred'] == df['estado_id']:\n",
        "        val = 1\n",
        "    else:\n",
        "        val = 0\n",
        "    return val"
      ],
      "execution_count": null,
      "outputs": []
    },
    {
      "cell_type": "code",
      "metadata": {
        "id": "1Kt44ZvUKsq0",
        "colab_type": "code",
        "colab": {}
      },
      "source": [
        "df_baterias_val['aux']= df_baterias_val.apply(asignar, axis=1)"
      ],
      "execution_count": null,
      "outputs": []
    },
    {
      "cell_type": "code",
      "metadata": {
        "id": "_fuxSXfRMrNH",
        "colab_type": "code",
        "colab": {
          "base_uri": "https://localhost:8080/",
          "height": 1000
        },
        "outputId": "c7f1834d-4947-4800-b343-7fc76bdcd116"
      },
      "source": [
        "df_baterias_val.head(60)"
      ],
      "execution_count": null,
      "outputs": [
        {
          "output_type": "execute_result",
          "data": {
            "text/html": [
              "<div>\n",
              "<style scoped>\n",
              "    .dataframe tbody tr th:only-of-type {\n",
              "        vertical-align: middle;\n",
              "    }\n",
              "\n",
              "    .dataframe tbody tr th {\n",
              "        vertical-align: top;\n",
              "    }\n",
              "\n",
              "    .dataframe thead th {\n",
              "        text-align: right;\n",
              "    }\n",
              "</style>\n",
              "<table border=\"1\" class=\"dataframe\">\n",
              "  <thead>\n",
              "    <tr style=\"text-align: right;\">\n",
              "      <th></th>\n",
              "      <th>vcd</th>\n",
              "      <th>amp</th>\n",
              "      <th>tmp</th>\n",
              "      <th>imp</th>\n",
              "      <th>estado_id</th>\n",
              "      <th>y_pred</th>\n",
              "      <th>aux</th>\n",
              "    </tr>\n",
              "  </thead>\n",
              "  <tbody>\n",
              "    <tr>\n",
              "      <th>100</th>\n",
              "      <td>13.66</td>\n",
              "      <td>81.18</td>\n",
              "      <td>6.70</td>\n",
              "      <td>9.96</td>\n",
              "      <td>0</td>\n",
              "      <td>0</td>\n",
              "      <td>1</td>\n",
              "    </tr>\n",
              "    <tr>\n",
              "      <th>321</th>\n",
              "      <td>13.95</td>\n",
              "      <td>75.22</td>\n",
              "      <td>26.52</td>\n",
              "      <td>26.47</td>\n",
              "      <td>2</td>\n",
              "      <td>2</td>\n",
              "      <td>1</td>\n",
              "    </tr>\n",
              "    <tr>\n",
              "      <th>432</th>\n",
              "      <td>14.67</td>\n",
              "      <td>83.61</td>\n",
              "      <td>15.28</td>\n",
              "      <td>13.51</td>\n",
              "      <td>1</td>\n",
              "      <td>0</td>\n",
              "      <td>0</td>\n",
              "    </tr>\n",
              "    <tr>\n",
              "      <th>153</th>\n",
              "      <td>13.73</td>\n",
              "      <td>68.43</td>\n",
              "      <td>6.74</td>\n",
              "      <td>10.98</td>\n",
              "      <td>0</td>\n",
              "      <td>0</td>\n",
              "      <td>1</td>\n",
              "    </tr>\n",
              "    <tr>\n",
              "      <th>199</th>\n",
              "      <td>13.87</td>\n",
              "      <td>82.84</td>\n",
              "      <td>16.69</td>\n",
              "      <td>35.75</td>\n",
              "      <td>0</td>\n",
              "      <td>0</td>\n",
              "      <td>1</td>\n",
              "    </tr>\n",
              "    <tr>\n",
              "      <th>583</th>\n",
              "      <td>13.89</td>\n",
              "      <td>70.99</td>\n",
              "      <td>19.93</td>\n",
              "      <td>39.89</td>\n",
              "      <td>1</td>\n",
              "      <td>2</td>\n",
              "      <td>0</td>\n",
              "    </tr>\n",
              "    <tr>\n",
              "      <th>212</th>\n",
              "      <td>23.53</td>\n",
              "      <td>88.50</td>\n",
              "      <td>13.12</td>\n",
              "      <td>28.47</td>\n",
              "      <td>2</td>\n",
              "      <td>2</td>\n",
              "      <td>1</td>\n",
              "    </tr>\n",
              "    <tr>\n",
              "      <th>246</th>\n",
              "      <td>7.82</td>\n",
              "      <td>73.34</td>\n",
              "      <td>16.25</td>\n",
              "      <td>8.87</td>\n",
              "      <td>2</td>\n",
              "      <td>2</td>\n",
              "      <td>1</td>\n",
              "    </tr>\n",
              "    <tr>\n",
              "      <th>173</th>\n",
              "      <td>13.95</td>\n",
              "      <td>82.57</td>\n",
              "      <td>23.30</td>\n",
              "      <td>33.13</td>\n",
              "      <td>0</td>\n",
              "      <td>0</td>\n",
              "      <td>1</td>\n",
              "    </tr>\n",
              "    <tr>\n",
              "      <th>405</th>\n",
              "      <td>13.38</td>\n",
              "      <td>77.95</td>\n",
              "      <td>16.99</td>\n",
              "      <td>26.54</td>\n",
              "      <td>1</td>\n",
              "      <td>0</td>\n",
              "      <td>0</td>\n",
              "    </tr>\n",
              "    <tr>\n",
              "      <th>403</th>\n",
              "      <td>13.26</td>\n",
              "      <td>61.00</td>\n",
              "      <td>21.74</td>\n",
              "      <td>10.14</td>\n",
              "      <td>1</td>\n",
              "      <td>0</td>\n",
              "      <td>0</td>\n",
              "    </tr>\n",
              "    <tr>\n",
              "      <th>429</th>\n",
              "      <td>14.74</td>\n",
              "      <td>81.95</td>\n",
              "      <td>6.91</td>\n",
              "      <td>20.75</td>\n",
              "      <td>1</td>\n",
              "      <td>1</td>\n",
              "      <td>1</td>\n",
              "    </tr>\n",
              "    <tr>\n",
              "      <th>67</th>\n",
              "      <td>14.30</td>\n",
              "      <td>55.36</td>\n",
              "      <td>5.88</td>\n",
              "      <td>37.66</td>\n",
              "      <td>0</td>\n",
              "      <td>1</td>\n",
              "      <td>0</td>\n",
              "    </tr>\n",
              "    <tr>\n",
              "      <th>358</th>\n",
              "      <td>14.47</td>\n",
              "      <td>78.85</td>\n",
              "      <td>8.65</td>\n",
              "      <td>3.36</td>\n",
              "      <td>2</td>\n",
              "      <td>2</td>\n",
              "      <td>1</td>\n",
              "    </tr>\n",
              "    <tr>\n",
              "      <th>16</th>\n",
              "      <td>13.93</td>\n",
              "      <td>85.23</td>\n",
              "      <td>18.37</td>\n",
              "      <td>28.60</td>\n",
              "      <td>0</td>\n",
              "      <td>0</td>\n",
              "      <td>1</td>\n",
              "    </tr>\n",
              "    <tr>\n",
              "      <th>497</th>\n",
              "      <td>14.37</td>\n",
              "      <td>64.47</td>\n",
              "      <td>5.15</td>\n",
              "      <td>21.12</td>\n",
              "      <td>1</td>\n",
              "      <td>0</td>\n",
              "      <td>0</td>\n",
              "    </tr>\n",
              "    <tr>\n",
              "      <th>254</th>\n",
              "      <td>14.29</td>\n",
              "      <td>8.52</td>\n",
              "      <td>24.19</td>\n",
              "      <td>10.02</td>\n",
              "      <td>2</td>\n",
              "      <td>2</td>\n",
              "      <td>1</td>\n",
              "    </tr>\n",
              "    <tr>\n",
              "      <th>360</th>\n",
              "      <td>13.79</td>\n",
              "      <td>63.79</td>\n",
              "      <td>19.70</td>\n",
              "      <td>6.83</td>\n",
              "      <td>2</td>\n",
              "      <td>2</td>\n",
              "      <td>1</td>\n",
              "    </tr>\n",
              "    <tr>\n",
              "      <th>252</th>\n",
              "      <td>13.76</td>\n",
              "      <td>18.16</td>\n",
              "      <td>8.04</td>\n",
              "      <td>12.22</td>\n",
              "      <td>2</td>\n",
              "      <td>2</td>\n",
              "      <td>1</td>\n",
              "    </tr>\n",
              "    <tr>\n",
              "      <th>232</th>\n",
              "      <td>9.61</td>\n",
              "      <td>55.26</td>\n",
              "      <td>19.07</td>\n",
              "      <td>10.01</td>\n",
              "      <td>2</td>\n",
              "      <td>1</td>\n",
              "      <td>0</td>\n",
              "    </tr>\n",
              "    <tr>\n",
              "      <th>234</th>\n",
              "      <td>4.83</td>\n",
              "      <td>62.70</td>\n",
              "      <td>7.04</td>\n",
              "      <td>30.78</td>\n",
              "      <td>2</td>\n",
              "      <td>2</td>\n",
              "      <td>1</td>\n",
              "    </tr>\n",
              "    <tr>\n",
              "      <th>300</th>\n",
              "      <td>13.93</td>\n",
              "      <td>79.40</td>\n",
              "      <td>0.47</td>\n",
              "      <td>33.37</td>\n",
              "      <td>2</td>\n",
              "      <td>2</td>\n",
              "      <td>1</td>\n",
              "    </tr>\n",
              "    <tr>\n",
              "      <th>20</th>\n",
              "      <td>14.23</td>\n",
              "      <td>58.25</td>\n",
              "      <td>7.47</td>\n",
              "      <td>25.45</td>\n",
              "      <td>0</td>\n",
              "      <td>1</td>\n",
              "      <td>0</td>\n",
              "    </tr>\n",
              "    <tr>\n",
              "      <th>130</th>\n",
              "      <td>14.02</td>\n",
              "      <td>68.53</td>\n",
              "      <td>12.44</td>\n",
              "      <td>38.38</td>\n",
              "      <td>0</td>\n",
              "      <td>1</td>\n",
              "      <td>0</td>\n",
              "    </tr>\n",
              "    <tr>\n",
              "      <th>229</th>\n",
              "      <td>4.26</td>\n",
              "      <td>71.19</td>\n",
              "      <td>10.84</td>\n",
              "      <td>9.52</td>\n",
              "      <td>2</td>\n",
              "      <td>2</td>\n",
              "      <td>1</td>\n",
              "    </tr>\n",
              "    <tr>\n",
              "      <th>340</th>\n",
              "      <td>14.17</td>\n",
              "      <td>69.32</td>\n",
              "      <td>38.15</td>\n",
              "      <td>32.35</td>\n",
              "      <td>2</td>\n",
              "      <td>2</td>\n",
              "      <td>1</td>\n",
              "    </tr>\n",
              "    <tr>\n",
              "      <th>247</th>\n",
              "      <td>1.00</td>\n",
              "      <td>69.48</td>\n",
              "      <td>18.56</td>\n",
              "      <td>15.51</td>\n",
              "      <td>2</td>\n",
              "      <td>2</td>\n",
              "      <td>1</td>\n",
              "    </tr>\n",
              "    <tr>\n",
              "      <th>274</th>\n",
              "      <td>13.63</td>\n",
              "      <td>6.74</td>\n",
              "      <td>13.27</td>\n",
              "      <td>29.41</td>\n",
              "      <td>2</td>\n",
              "      <td>2</td>\n",
              "      <td>1</td>\n",
              "    </tr>\n",
              "    <tr>\n",
              "      <th>94</th>\n",
              "      <td>14.15</td>\n",
              "      <td>61.60</td>\n",
              "      <td>7.05</td>\n",
              "      <td>32.44</td>\n",
              "      <td>0</td>\n",
              "      <td>0</td>\n",
              "      <td>1</td>\n",
              "    </tr>\n",
              "    <tr>\n",
              "      <th>539</th>\n",
              "      <td>14.00</td>\n",
              "      <td>68.32</td>\n",
              "      <td>24.88</td>\n",
              "      <td>12.11</td>\n",
              "      <td>1</td>\n",
              "      <td>0</td>\n",
              "      <td>0</td>\n",
              "    </tr>\n",
              "    <tr>\n",
              "      <th>364</th>\n",
              "      <td>13.71</td>\n",
              "      <td>62.87</td>\n",
              "      <td>9.32</td>\n",
              "      <td>5.69</td>\n",
              "      <td>2</td>\n",
              "      <td>2</td>\n",
              "      <td>1</td>\n",
              "    </tr>\n",
              "    <tr>\n",
              "      <th>221</th>\n",
              "      <td>28.68</td>\n",
              "      <td>71.16</td>\n",
              "      <td>24.34</td>\n",
              "      <td>26.67</td>\n",
              "      <td>2</td>\n",
              "      <td>2</td>\n",
              "      <td>1</td>\n",
              "    </tr>\n",
              "    <tr>\n",
              "      <th>519</th>\n",
              "      <td>13.78</td>\n",
              "      <td>71.95</td>\n",
              "      <td>5.16</td>\n",
              "      <td>30.22</td>\n",
              "      <td>1</td>\n",
              "      <td>0</td>\n",
              "      <td>0</td>\n",
              "    </tr>\n",
              "    <tr>\n",
              "      <th>329</th>\n",
              "      <td>14.27</td>\n",
              "      <td>84.43</td>\n",
              "      <td>36.14</td>\n",
              "      <td>14.84</td>\n",
              "      <td>2</td>\n",
              "      <td>2</td>\n",
              "      <td>1</td>\n",
              "    </tr>\n",
              "    <tr>\n",
              "      <th>585</th>\n",
              "      <td>14.47</td>\n",
              "      <td>73.52</td>\n",
              "      <td>13.47</td>\n",
              "      <td>39.72</td>\n",
              "      <td>1</td>\n",
              "      <td>2</td>\n",
              "      <td>0</td>\n",
              "    </tr>\n",
              "    <tr>\n",
              "      <th>437</th>\n",
              "      <td>14.63</td>\n",
              "      <td>87.41</td>\n",
              "      <td>6.87</td>\n",
              "      <td>20.28</td>\n",
              "      <td>1</td>\n",
              "      <td>0</td>\n",
              "      <td>0</td>\n",
              "    </tr>\n",
              "    <tr>\n",
              "      <th>482</th>\n",
              "      <td>13.87</td>\n",
              "      <td>53.10</td>\n",
              "      <td>15.71</td>\n",
              "      <td>37.40</td>\n",
              "      <td>1</td>\n",
              "      <td>2</td>\n",
              "      <td>0</td>\n",
              "    </tr>\n",
              "    <tr>\n",
              "      <th>581</th>\n",
              "      <td>13.58</td>\n",
              "      <td>72.36</td>\n",
              "      <td>16.45</td>\n",
              "      <td>39.99</td>\n",
              "      <td>1</td>\n",
              "      <td>2</td>\n",
              "      <td>0</td>\n",
              "    </tr>\n",
              "    <tr>\n",
              "      <th>81</th>\n",
              "      <td>14.13</td>\n",
              "      <td>85.71</td>\n",
              "      <td>14.03</td>\n",
              "      <td>27.39</td>\n",
              "      <td>0</td>\n",
              "      <td>0</td>\n",
              "      <td>1</td>\n",
              "    </tr>\n",
              "    <tr>\n",
              "      <th>55</th>\n",
              "      <td>14.43</td>\n",
              "      <td>78.35</td>\n",
              "      <td>13.65</td>\n",
              "      <td>14.89</td>\n",
              "      <td>0</td>\n",
              "      <td>0</td>\n",
              "      <td>1</td>\n",
              "    </tr>\n",
              "    <tr>\n",
              "      <th>328</th>\n",
              "      <td>13.98</td>\n",
              "      <td>75.76</td>\n",
              "      <td>42.86</td>\n",
              "      <td>14.00</td>\n",
              "      <td>2</td>\n",
              "      <td>2</td>\n",
              "      <td>1</td>\n",
              "    </tr>\n",
              "    <tr>\n",
              "      <th>65</th>\n",
              "      <td>13.54</td>\n",
              "      <td>78.94</td>\n",
              "      <td>6.31</td>\n",
              "      <td>30.57</td>\n",
              "      <td>0</td>\n",
              "      <td>0</td>\n",
              "      <td>1</td>\n",
              "    </tr>\n",
              "    <tr>\n",
              "      <th>552</th>\n",
              "      <td>13.90</td>\n",
              "      <td>78.53</td>\n",
              "      <td>15.49</td>\n",
              "      <td>8.22</td>\n",
              "      <td>1</td>\n",
              "      <td>1</td>\n",
              "      <td>1</td>\n",
              "    </tr>\n",
              "    <tr>\n",
              "      <th>237</th>\n",
              "      <td>10.22</td>\n",
              "      <td>85.38</td>\n",
              "      <td>14.76</td>\n",
              "      <td>13.09</td>\n",
              "      <td>2</td>\n",
              "      <td>2</td>\n",
              "      <td>1</td>\n",
              "    </tr>\n",
              "    <tr>\n",
              "      <th>549</th>\n",
              "      <td>13.86</td>\n",
              "      <td>60.76</td>\n",
              "      <td>14.51</td>\n",
              "      <td>8.42</td>\n",
              "      <td>1</td>\n",
              "      <td>1</td>\n",
              "      <td>1</td>\n",
              "    </tr>\n",
              "    <tr>\n",
              "      <th>593</th>\n",
              "      <td>13.60</td>\n",
              "      <td>70.52</td>\n",
              "      <td>13.30</td>\n",
              "      <td>39.81</td>\n",
              "      <td>1</td>\n",
              "      <td>2</td>\n",
              "      <td>0</td>\n",
              "    </tr>\n",
              "    <tr>\n",
              "      <th>77</th>\n",
              "      <td>14.05</td>\n",
              "      <td>85.22</td>\n",
              "      <td>12.42</td>\n",
              "      <td>35.52</td>\n",
              "      <td>0</td>\n",
              "      <td>0</td>\n",
              "      <td>1</td>\n",
              "    </tr>\n",
              "    <tr>\n",
              "      <th>10</th>\n",
              "      <td>14.47</td>\n",
              "      <td>79.23</td>\n",
              "      <td>8.83</td>\n",
              "      <td>24.78</td>\n",
              "      <td>0</td>\n",
              "      <td>0</td>\n",
              "      <td>1</td>\n",
              "    </tr>\n",
              "    <tr>\n",
              "      <th>414</th>\n",
              "      <td>13.33</td>\n",
              "      <td>58.20</td>\n",
              "      <td>20.31</td>\n",
              "      <td>34.72</td>\n",
              "      <td>1</td>\n",
              "      <td>1</td>\n",
              "      <td>1</td>\n",
              "    </tr>\n",
              "    <tr>\n",
              "      <th>440</th>\n",
              "      <td>14.88</td>\n",
              "      <td>79.97</td>\n",
              "      <td>21.85</td>\n",
              "      <td>21.97</td>\n",
              "      <td>1</td>\n",
              "      <td>1</td>\n",
              "      <td>1</td>\n",
              "    </tr>\n",
              "    <tr>\n",
              "      <th>495</th>\n",
              "      <td>13.99</td>\n",
              "      <td>57.30</td>\n",
              "      <td>5.17</td>\n",
              "      <td>12.43</td>\n",
              "      <td>1</td>\n",
              "      <td>1</td>\n",
              "      <td>1</td>\n",
              "    </tr>\n",
              "    <tr>\n",
              "      <th>330</th>\n",
              "      <td>13.50</td>\n",
              "      <td>84.17</td>\n",
              "      <td>32.05</td>\n",
              "      <td>35.36</td>\n",
              "      <td>2</td>\n",
              "      <td>2</td>\n",
              "      <td>1</td>\n",
              "    </tr>\n",
              "    <tr>\n",
              "      <th>514</th>\n",
              "      <td>14.19</td>\n",
              "      <td>67.59</td>\n",
              "      <td>5.02</td>\n",
              "      <td>34.87</td>\n",
              "      <td>1</td>\n",
              "      <td>0</td>\n",
              "      <td>0</td>\n",
              "    </tr>\n",
              "    <tr>\n",
              "      <th>415</th>\n",
              "      <td>13.06</td>\n",
              "      <td>89.63</td>\n",
              "      <td>16.60</td>\n",
              "      <td>13.46</td>\n",
              "      <td>1</td>\n",
              "      <td>0</td>\n",
              "      <td>0</td>\n",
              "    </tr>\n",
              "    <tr>\n",
              "      <th>216</th>\n",
              "      <td>29.88</td>\n",
              "      <td>63.59</td>\n",
              "      <td>23.71</td>\n",
              "      <td>19.01</td>\n",
              "      <td>2</td>\n",
              "      <td>2</td>\n",
              "      <td>1</td>\n",
              "    </tr>\n",
              "    <tr>\n",
              "      <th>156</th>\n",
              "      <td>14.35</td>\n",
              "      <td>71.08</td>\n",
              "      <td>21.05</td>\n",
              "      <td>34.38</td>\n",
              "      <td>0</td>\n",
              "      <td>0</td>\n",
              "      <td>1</td>\n",
              "    </tr>\n",
              "    <tr>\n",
              "      <th>337</th>\n",
              "      <td>14.15</td>\n",
              "      <td>84.71</td>\n",
              "      <td>28.61</td>\n",
              "      <td>23.78</td>\n",
              "      <td>2</td>\n",
              "      <td>2</td>\n",
              "      <td>1</td>\n",
              "    </tr>\n",
              "    <tr>\n",
              "      <th>484</th>\n",
              "      <td>13.84</td>\n",
              "      <td>50.36</td>\n",
              "      <td>13.71</td>\n",
              "      <td>19.16</td>\n",
              "      <td>1</td>\n",
              "      <td>2</td>\n",
              "      <td>0</td>\n",
              "    </tr>\n",
              "    <tr>\n",
              "      <th>416</th>\n",
              "      <td>13.15</td>\n",
              "      <td>72.75</td>\n",
              "      <td>14.83</td>\n",
              "      <td>12.39</td>\n",
              "      <td>1</td>\n",
              "      <td>0</td>\n",
              "      <td>0</td>\n",
              "    </tr>\n",
              "    <tr>\n",
              "      <th>154</th>\n",
              "      <td>13.67</td>\n",
              "      <td>58.73</td>\n",
              "      <td>18.89</td>\n",
              "      <td>15.75</td>\n",
              "      <td>0</td>\n",
              "      <td>1</td>\n",
              "      <td>0</td>\n",
              "    </tr>\n",
              "  </tbody>\n",
              "</table>\n",
              "</div>"
            ],
            "text/plain": [
              "      vcd   amp   tmp   imp  estado_id  y_pred  aux\n",
              "100 13.66 81.18  6.70  9.96          0       0    1\n",
              "321 13.95 75.22 26.52 26.47          2       2    1\n",
              "432 14.67 83.61 15.28 13.51          1       0    0\n",
              "153 13.73 68.43  6.74 10.98          0       0    1\n",
              "199 13.87 82.84 16.69 35.75          0       0    1\n",
              "583 13.89 70.99 19.93 39.89          1       2    0\n",
              "212 23.53 88.50 13.12 28.47          2       2    1\n",
              "246  7.82 73.34 16.25  8.87          2       2    1\n",
              "173 13.95 82.57 23.30 33.13          0       0    1\n",
              "405 13.38 77.95 16.99 26.54          1       0    0\n",
              "403 13.26 61.00 21.74 10.14          1       0    0\n",
              "429 14.74 81.95  6.91 20.75          1       1    1\n",
              "67  14.30 55.36  5.88 37.66          0       1    0\n",
              "358 14.47 78.85  8.65  3.36          2       2    1\n",
              "16  13.93 85.23 18.37 28.60          0       0    1\n",
              "497 14.37 64.47  5.15 21.12          1       0    0\n",
              "254 14.29  8.52 24.19 10.02          2       2    1\n",
              "360 13.79 63.79 19.70  6.83          2       2    1\n",
              "252 13.76 18.16  8.04 12.22          2       2    1\n",
              "232  9.61 55.26 19.07 10.01          2       1    0\n",
              "234  4.83 62.70  7.04 30.78          2       2    1\n",
              "300 13.93 79.40  0.47 33.37          2       2    1\n",
              "20  14.23 58.25  7.47 25.45          0       1    0\n",
              "130 14.02 68.53 12.44 38.38          0       1    0\n",
              "229  4.26 71.19 10.84  9.52          2       2    1\n",
              "340 14.17 69.32 38.15 32.35          2       2    1\n",
              "247  1.00 69.48 18.56 15.51          2       2    1\n",
              "274 13.63  6.74 13.27 29.41          2       2    1\n",
              "94  14.15 61.60  7.05 32.44          0       0    1\n",
              "539 14.00 68.32 24.88 12.11          1       0    0\n",
              "364 13.71 62.87  9.32  5.69          2       2    1\n",
              "221 28.68 71.16 24.34 26.67          2       2    1\n",
              "519 13.78 71.95  5.16 30.22          1       0    0\n",
              "329 14.27 84.43 36.14 14.84          2       2    1\n",
              "585 14.47 73.52 13.47 39.72          1       2    0\n",
              "437 14.63 87.41  6.87 20.28          1       0    0\n",
              "482 13.87 53.10 15.71 37.40          1       2    0\n",
              "581 13.58 72.36 16.45 39.99          1       2    0\n",
              "81  14.13 85.71 14.03 27.39          0       0    1\n",
              "55  14.43 78.35 13.65 14.89          0       0    1\n",
              "328 13.98 75.76 42.86 14.00          2       2    1\n",
              "65  13.54 78.94  6.31 30.57          0       0    1\n",
              "552 13.90 78.53 15.49  8.22          1       1    1\n",
              "237 10.22 85.38 14.76 13.09          2       2    1\n",
              "549 13.86 60.76 14.51  8.42          1       1    1\n",
              "593 13.60 70.52 13.30 39.81          1       2    0\n",
              "77  14.05 85.22 12.42 35.52          0       0    1\n",
              "10  14.47 79.23  8.83 24.78          0       0    1\n",
              "414 13.33 58.20 20.31 34.72          1       1    1\n",
              "440 14.88 79.97 21.85 21.97          1       1    1\n",
              "495 13.99 57.30  5.17 12.43          1       1    1\n",
              "330 13.50 84.17 32.05 35.36          2       2    1\n",
              "514 14.19 67.59  5.02 34.87          1       0    0\n",
              "415 13.06 89.63 16.60 13.46          1       0    0\n",
              "216 29.88 63.59 23.71 19.01          2       2    1\n",
              "156 14.35 71.08 21.05 34.38          0       0    1\n",
              "337 14.15 84.71 28.61 23.78          2       2    1\n",
              "484 13.84 50.36 13.71 19.16          1       2    0\n",
              "416 13.15 72.75 14.83 12.39          1       0    0\n",
              "154 13.67 58.73 18.89 15.75          0       1    0"
            ]
          },
          "metadata": {
            "tags": []
          },
          "execution_count": 208
        }
      ]
    },
    {
      "cell_type": "code",
      "metadata": {
        "id": "eYLEJZfBMWML",
        "colab_type": "code",
        "colab": {
          "base_uri": "https://localhost:8080/",
          "height": 33
        },
        "outputId": "af2a4c8b-5d91-42ac-ef93-2ba9b07e43ed"
      },
      "source": [
        "df_baterias_val.aux.sum()/60"
      ],
      "execution_count": null,
      "outputs": [
        {
          "output_type": "execute_result",
          "data": {
            "text/plain": [
              "0.65"
            ]
          },
          "metadata": {
            "tags": []
          },
          "execution_count": 209
        }
      ]
    },
    {
      "cell_type": "markdown",
      "metadata": {
        "id": "i8an1joHN2z5",
        "colab_type": "text"
      },
      "source": [
        "En el set de datos ed validación que son datos que el modelo nunca ha visto nos da una precisión del 65%"
      ]
    }
  ]
}